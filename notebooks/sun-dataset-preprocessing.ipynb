{
 "cells": [
  {
   "cell_type": "code",
   "execution_count": 1,
   "metadata": {},
   "outputs": [],
   "source": [
    "import os\n",
    "import scipy.io\n",
    "import numpy as np\n",
    "\n",
    "sun_ds_dir = '/ibex/scratch/skoroki/datasets/SUN'\n",
    "attrs_mat = scipy.io.loadmat(f'{sun_ds_dir}/SUNAttributeDB/attributeLabels_continuous.mat')\n",
    "images_mat = scipy.io.loadmat(f'{sun_ds_dir}/SUNAttributeDB/images.mat')\n",
    "# attrs = scipy.io.loadmat(f'{sun_ds_dir}/SUNAttributeDB/attributes.mat')"
   ]
  },
  {
   "cell_type": "code",
   "execution_count": 2,
   "metadata": {},
   "outputs": [],
   "source": [
    "attrs = attrs_mat['labels_cv']\n",
    "images = [im[0][0] for im in images_mat['images']]\n",
    "class_names = [os.path.dirname(img) for img in images]\n",
    "unique_class_names = sorted(list(set(class_names)))\n",
    "labels = np.array([unique_class_names.index(c) for c in class_names])\n",
    "n_classes = len(unique_class_names)\n",
    "\n",
    "class_idx = [np.where(labels == c)[0] for c in range(n_classes)]\n",
    "class_attrs = np.array([attrs[idx].mean(axis=0) for idx in class_idx])"
   ]
  },
  {
   "cell_type": "code",
   "execution_count": 3,
   "metadata": {},
   "outputs": [],
   "source": [
    "class_attrs = class_attrs / np.linalg.norm(class_attrs, axis=1, keepdims=True)"
   ]
  },
  {
   "cell_type": "code",
   "execution_count": 4,
   "metadata": {},
   "outputs": [],
   "source": [
    "np.save('/ibex/scratch/skoroki/datasets/SUN/attributes', class_attrs)\n",
    "np.save('/ibex/scratch/skoroki/datasets/SUN/image_files', images)\n",
    "np.save('/ibex/scratch/skoroki/datasets/SUN/labels', labels)"
   ]
  },
  {
   "cell_type": "code",
   "execution_count": 7,
   "metadata": {},
   "outputs": [],
   "source": [
    "big_sun_ds_dir = '/ibex/scratch/skoroki/datasets/SUN397'\n",
    "partitions_dir = os.path.join(big_sun_ds_dir, 'partitions')\n",
    "train_partitions_files = [os.path.join(partitions_dir, f) for f in os.listdir(partitions_dir) if f.startswith('Training')]\n",
    "test_partitions_files = [os.path.join(partitions_dir, f) for f in os.listdir(partitions_dir) if f.startswith('Testing')]"
   ]
  },
  {
   "cell_type": "code",
   "execution_count": 12,
   "metadata": {},
   "outputs": [],
   "source": [
    "train_imgs = [img for f in train_partitions_files for img in open(f).read().splitlines()]\n",
    "test_imgs = [img for f in test_partitions_files for img in open(f).read().splitlines()]"
   ]
  },
  {
   "cell_type": "code",
   "execution_count": 23,
   "metadata": {},
   "outputs": [],
   "source": [
    "big_sun_imgs = set(train_imgs) | set(test_imgs)\n",
    "new_imgs = [x for x in images if not f'/{x}' in big_sun_imgs]"
   ]
  },
  {
   "cell_type": "code",
   "execution_count": 26,
   "metadata": {},
   "outputs": [
    {
     "data": {
      "text/plain": [
       "6872"
      ]
     },
     "execution_count": 26,
     "metadata": {},
     "output_type": "execute_result"
    }
   ],
   "source": [
    "len(new_imgs)"
   ]
  },
  {
   "cell_type": "code",
   "execution_count": 35,
   "metadata": {},
   "outputs": [],
   "source": [
    "train_size = 10000\n",
    "val_size = (len(images) - train_size) // 2\n",
    "test_size = (len(images) - train_size) // 2\n",
    "\n",
    "shuffling = np.random.RandomState(42).permutation(len(images))\n",
    "train_idx = shuffling[:train_size]\n",
    "val_idx = shuffling[train_size:train_size + val_size]\n",
    "test_idx = shuffling[train_size + val_size:]"
   ]
  },
  {
   "cell_type": "code",
   "execution_count": 37,
   "metadata": {},
   "outputs": [],
   "source": [
    "np.save('/ibex/scratch/skoroki/datasets/SUN/train_idx', train_idx)\n",
    "np.save('/ibex/scratch/skoroki/datasets/SUN/val_idx', val_idx)\n",
    "np.save('/ibex/scratch/skoroki/datasets/SUN/test_idx', test_idx)"
   ]
  }
 ],
 "metadata": {
  "kernelspec": {
   "display_name": "Python 3",
   "language": "python",
   "name": "python3"
  },
  "language_info": {
   "codemirror_mode": {
    "name": "ipython",
    "version": 3
   },
   "file_extension": ".py",
   "mimetype": "text/x-python",
   "name": "python",
   "nbconvert_exporter": "python",
   "pygments_lexer": "ipython3",
   "version": "3.7.3"
  }
 },
 "nbformat": 4,
 "nbformat_minor": 4
}

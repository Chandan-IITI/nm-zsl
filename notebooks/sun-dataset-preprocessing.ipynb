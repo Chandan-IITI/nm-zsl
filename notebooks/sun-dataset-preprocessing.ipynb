{
 "cells": [
  {
   "cell_type": "code",
   "execution_count": 1,
   "metadata": {},
   "outputs": [],
   "source": [
    "import os\n",
    "import scipy.io\n",
    "import numpy as np\n",
    "\n",
    "sun_ds_dir = '/ibex/scratch/skoroki/datasets/SUN'\n",
    "attrs_mat = scipy.io.loadmat(f'{sun_ds_dir}/SUNAttributeDB/attributeLabels_continuous.mat')\n",
    "images_mat = scipy.io.loadmat(f'{sun_ds_dir}/SUNAttributeDB/images.mat')\n",
    "# attrs = scipy.io.loadmat(f'{sun_ds_dir}/SUNAttributeDB/attributes.mat')"
   ]
  },
  {
   "cell_type": "code",
   "execution_count": 2,
   "metadata": {},
   "outputs": [],
   "source": [
    "attrs = attrs_mat['labels_cv']\n",
    "images = [im[0][0] for im in images_mat['images']]\n",
    "class_names = [os.path.dirname(img) for img in images]\n",
    "unique_class_names = sorted(list(set(class_names)))\n",
    "labels = np.array([unique_class_names.index(c) for c in class_names])\n",
    "n_classes = len(unique_class_names)\n",
    "\n",
    "class_idx = [np.where(labels == c)[0] for c in range(n_classes)]\n",
    "class_attrs = np.array([attrs[idx].mean(axis=0) for idx in class_idx])"
   ]
  },
  {
   "cell_type": "code",
   "execution_count": 3,
   "metadata": {},
   "outputs": [],
   "source": [
    "class_attrs = class_attrs / np.linalg.norm(class_attrs, axis=1, keepdims=True)"
   ]
  },
  {
   "cell_type": "code",
   "execution_count": 4,
   "metadata": {},
   "outputs": [],
   "source": [
    "np.save('/ibex/scratch/skoroki/datasets/SUN/attributes', class_attrs)\n",
    "np.save('/ibex/scratch/skoroki/datasets/SUN/image_files', images)\n",
    "np.save('/ibex/scratch/skoroki/datasets/SUN/labels', labels)"
   ]
  }
 ],
 "metadata": {
  "kernelspec": {
   "display_name": "Python 3",
   "language": "python",
   "name": "python3"
  },
  "language_info": {
   "codemirror_mode": {
    "name": "ipython",
    "version": 3
   },
   "file_extension": ".py",
   "mimetype": "text/x-python",
   "name": "python",
   "nbconvert_exporter": "python",
   "pygments_lexer": "ipython3",
   "version": "3.7.3"
  }
 },
 "nbformat": 4,
 "nbformat_minor": 4
}

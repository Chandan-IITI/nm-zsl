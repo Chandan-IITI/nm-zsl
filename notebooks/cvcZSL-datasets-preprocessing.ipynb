{
 "cells": [
  {
   "cell_type": "code",
   "execution_count": 1,
   "metadata": {},
   "outputs": [],
   "source": [
    "from scipy import io\n",
    "import numpy as np\n",
    "\n",
    "data_dir = '/ibex/scratch/skoroki/datasets/cvcZSL_data/AwA1_data'\n",
    "target_dir = '/ibex/scratch/skoroki/datasets/awa1_feats'\n",
    "\n",
    "data = io.loadmat(f'{data_dir}/res101.mat')\n",
    "# attrs_mat = io.loadmat(f'{data_dir}/att_splits.mat')\n",
    "attrs_mat = io.loadmat(f'{data_dir}/original_att_splits.mat')"
   ]
  },
  {
   "cell_type": "code",
   "execution_count": 2,
   "metadata": {},
   "outputs": [],
   "source": [
    "feats = data['features'].T\n",
    "labels = data['labels'].squeeze() - 1\n",
    "attrs = attrs_mat['att'].T\n",
    "\n",
    "train_idx = attrs_mat['trainval_loc'].squeeze() - 1\n",
    "\n",
    "test_seen_idx = attrs_mat['test_seen_loc'].squeeze() - 1\n",
    "test_unseen_idx = attrs_mat['test_unseen_loc'].squeeze() - 1\n",
    "test_idx = np.array(test_seen_idx.tolist() + test_unseen_idx.tolist())"
   ]
  },
  {
   "cell_type": "code",
   "execution_count": 3,
   "metadata": {},
   "outputs": [
    {
     "name": "stdout",
     "output_type": "stream",
     "text": [
      "Seen: 0,1,2,3,4,5,7,9,10,11,12,13,14,15,16,17,18,19,20,21,24,25,26,27,28,31,32,34,35,36,37,38,39,41,42,43,44,45,47,48\n",
      "Unseen: 6,8,22,23,29,30,33,40,46,49\n"
     ]
    }
   ],
   "source": [
    "seen_classes = sorted(np.unique(labels[test_seen_idx]))\n",
    "unseen_classes = sorted(np.unique(labels[test_unseen_idx]))\n",
    "\n",
    "print('Seen:', ','.join(str(c) for c in seen_classes))\n",
    "print('Unseen:', ','.join(str(c) for c in unseen_classes))"
   ]
  },
  {
   "cell_type": "code",
   "execution_count": 4,
   "metadata": {},
   "outputs": [],
   "source": [
    "import os\n",
    "os.makedirs(target_dir, exist_ok=True)\n",
    "\n",
    "np.save(f'{target_dir}/feats', feats)\n",
    "np.save(f'{target_dir}/labels', labels)\n",
    "np.save(f'{target_dir}/attrs', attrs)\n",
    "np.save(f'{target_dir}/train_idx', train_idx)\n",
    "np.save(f'{target_dir}/test_idx', test_idx)"
   ]
  }
 ],
 "metadata": {
  "kernelspec": {
   "display_name": "Python 3",
   "language": "python",
   "name": "python3"
  },
  "language_info": {
   "codemirror_mode": {
    "name": "ipython",
    "version": 3
   },
   "file_extension": ".py",
   "mimetype": "text/x-python",
   "name": "python",
   "nbconvert_exporter": "python",
   "pygments_lexer": "ipython3",
   "version": "3.7.3"
  }
 },
 "nbformat": 4,
 "nbformat_minor": 4
}

{
 "cells": [
  {
   "cell_type": "code",
   "execution_count": 1,
   "metadata": {},
   "outputs": [],
   "source": [
    "from scipy import io\n",
    "import numpy as np\n",
    "\n",
    "data_dir = '/tmp/skoroki/czsl/data/cvcZSL_data/CUB1_data'\n",
    "target_dir = '/tmp/skoroki/czsl/data/cub_feats'\n",
    "\n",
    "data = io.loadmat(f'{data_dir}/res101.mat')\n",
    "# attrs_mat = io.loadmat(f'{data_dir}/att_splits.mat')\n",
    "attrs_mat = io.loadmat(f'{data_dir}/original_att_splits.mat')"
   ]
  },
  {
   "cell_type": "code",
   "execution_count": 2,
   "metadata": {},
   "outputs": [],
   "source": [
    "feats = data['features'].T\n",
    "labels = data['labels'].squeeze() - 1\n",
    "attrs = attrs_mat['att'].T\n",
    "\n",
    "train_idx = attrs_mat['trainval_loc'].squeeze() - 1\n",
    "\n",
    "test_seen_idx = attrs_mat['test_seen_loc'].squeeze() - 1\n",
    "test_unseen_idx = attrs_mat['test_unseen_loc'].squeeze() - 1\n",
    "test_idx = np.array(test_seen_idx.tolist() + test_unseen_idx.tolist())"
   ]
  },
  {
   "cell_type": "code",
   "execution_count": 3,
   "metadata": {},
   "outputs": [
    {
     "name": "stdout",
     "output_type": "stream",
     "text": [
      "Seen: 0,1,2,3,4,5,7,8,9,10,11,12,13,14,15,16,17,19,21,22,23,24,25,26,27,29,30,31,32,34,36,37,38,39,40,41,42,43,44,45,46,47,48,50,51,52,53,54,56,57,58,59,60,62,63,64,65,66,69,70,72,73,74,75,76,77,80,81,82,83,84,85,88,89,91,92,93,95,96,98,100,101,102,104,105,106,108,109,110,111,112,113,114,116,117,118,120,122,125,126,127,129,130,131,132,133,134,135,136,137,139,142,143,144,145,146,147,148,150,152,153,154,155,157,160,161,162,163,164,167,168,169,171,172,174,176,177,179,180,182,183,185,187,189,193,195,196,197,198,199\n",
      "Unseen: 6,18,20,28,33,35,49,55,61,67,68,71,78,79,86,87,90,94,97,99,103,107,115,119,121,123,124,128,138,140,141,149,151,156,158,159,165,166,170,173,175,178,181,184,186,188,190,191,192,194\n"
     ]
    }
   ],
   "source": [
    "seen_classes = sorted(np.unique(labels[test_seen_idx]))\n",
    "unseen_classes = sorted(np.unique(labels[test_unseen_idx]))\n",
    "\n",
    "print('Seen:', ','.join(str(c) for c in seen_classes))\n",
    "print('Unseen:', ','.join(str(c) for c in unseen_classes))"
   ]
  },
  {
   "cell_type": "code",
   "execution_count": 4,
   "metadata": {},
   "outputs": [],
   "source": [
    "import os\n",
    "os.makedirs(target_dir, exist_ok=True)\n",
    "\n",
    "np.save(f'{target_dir}/feats', feats)\n",
    "np.save(f'{target_dir}/labels', labels)\n",
    "np.save(f'{target_dir}/attrs', attrs)\n",
    "np.save(f'{target_dir}/train_idx', train_idx)\n",
    "np.save(f'{target_dir}/test_idx', test_idx)"
   ]
  }
 ],
 "metadata": {
  "kernelspec": {
   "display_name": "Python 3",
   "language": "python",
   "name": "python3"
  },
  "language_info": {
   "codemirror_mode": {
    "name": "ipython",
    "version": 3
   },
   "file_extension": ".py",
   "mimetype": "text/x-python",
   "name": "python",
   "nbconvert_exporter": "python",
   "pygments_lexer": "ipython3",
   "version": "3.7.3"
  }
 },
 "nbformat": 4,
 "nbformat_minor": 4
}

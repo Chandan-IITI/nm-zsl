{
 "cells": [
  {
   "cell_type": "code",
   "execution_count": 2,
   "metadata": {},
   "outputs": [
    {
     "data": {
      "text/plain": [
       "<All keys matched successfully>"
      ]
     },
     "execution_count": 2,
     "metadata": {},
     "output_type": "execute_result"
    }
   ],
   "source": [
    "import sys; sys.path.append('..')\n",
    "import torch\n",
    "from torchsummary import summary\n",
    "from src.models.autoencoder import AutoEncoder\n",
    "\n",
    "DEVICE = 'cuda:1'\n",
    "\n",
    "ae = AutoEncoder(None).to(DEVICE)\n",
    "ae.load_state_dict(torch.load('../experiments/lifelong_ae--cifar100--1-00022/checkpoints/model-task-9.pt'))"
   ]
  },
  {
   "cell_type": "code",
   "execution_count": 3,
   "metadata": {},
   "outputs": [],
   "source": [
    "from torchvision.datasets import CIFAR10, CIFAR100\n",
    "from torchvision.transforms import ToTensor\n",
    "\n",
    "ds_train = CIFAR100('../data/CIFAR100', train=True, transform=ToTensor())\n",
    "ds_test = CIFAR100('../data/CIFAR100', train=False, transform=ToTensor())"
   ]
  },
  {
   "cell_type": "code",
   "execution_count": 4,
   "metadata": {},
   "outputs": [],
   "source": [
    "from torch.utils.data import DataLoader\n",
    "from torch.utils.data import Subset\n",
    "\n",
    "# ds_train = Subset(ds_train, range(100))\n",
    "# ds_test = Subset(ds_test, range(100))\n",
    "\n",
    "NUM_CLASSES = 100\n",
    "\n",
    "dl_train = DataLoader(ds_train, batch_size=256, shuffle=True)\n",
    "dl_test = DataLoader(ds_test, batch_size=256, shuffle=False)"
   ]
  },
  {
   "cell_type": "code",
   "execution_count": 5,
   "metadata": {},
   "outputs": [],
   "source": [
    "def extract_features(ae, dataloader):\n",
    "    ae.eval()\n",
    "    \n",
    "    y = []\n",
    "    feats = []\n",
    "    \n",
    "    with torch.no_grad():\n",
    "        for batch in dataloader:\n",
    "            feats.extend(ae.encoder(batch[0].to(DEVICE)).cpu().flatten(1).tolist())\n",
    "            y.extend(batch[1])\n",
    "            \n",
    "    return feats, y\n",
    "\n",
    "feats_train, y_train = extract_features(ae, dl_train)\n",
    "feats_test, y_test = extract_features(ae, dl_test)"
   ]
  },
  {
   "cell_type": "code",
   "execution_count": 6,
   "metadata": {},
   "outputs": [],
   "source": [
    "feats_dl_train = DataLoader(list(zip(*[feats_train, y_train])), batch_size=256, shuffle=True, collate_fn=lambda b: list(zip(*b)))\n",
    "feats_dl_test = DataLoader(list(zip(*[feats_test, y_test])), batch_size=256, shuffle=False, collate_fn=lambda b: list(zip(*b)))"
   ]
  },
  {
   "cell_type": "code",
   "execution_count": 16,
   "metadata": {},
   "outputs": [
    {
     "data": {
      "text/plain": [
       "50000"
      ]
     },
     "execution_count": 16,
     "metadata": {},
     "output_type": "execute_result"
    }
   ],
   "source": [
    "len(feats_train)"
   ]
  },
  {
   "cell_type": "code",
   "execution_count": 7,
   "metadata": {},
   "outputs": [],
   "source": [
    "def validate_clf(clf_model, dataloader):\n",
    "    losses = []\n",
    "    accs = []\n",
    "\n",
    "    with torch.no_grad():\n",
    "        for x, y in dataloader:\n",
    "            x = torch.tensor(x).to(DEVICE)\n",
    "            y = torch.tensor(y).to(DEVICE)\n",
    "\n",
    "            logits = clf_model(x)\n",
    "            loss = F.cross_entropy(logits, y, reduction='none').cpu().tolist()\n",
    "            acc = (logits.argmax(dim=1) == y).float().cpu().tolist()\n",
    "            \n",
    "            losses.extend(loss)\n",
    "            accs.extend(acc)\n",
    "        \n",
    "    return np.mean(losses), np.mean(accs)"
   ]
  },
  {
   "cell_type": "code",
   "execution_count": null,
   "metadata": {},
   "outputs": [
    {
     "name": "stdout",
     "output_type": "stream",
     "text": [
      "train acc: 0.22108\n",
      "val acc: 0.203\n",
      "train acc: 0.34138\n",
      "val acc: 0.2721\n",
      "train acc: 0.41652\n",
      "val acc: 0.2834\n",
      "train acc: 0.4717\n",
      "val acc: 0.281\n",
      "train acc: 0.5171\n",
      "val acc: 0.2728\n",
      "train acc: 0.56332\n",
      "val acc: 0.2679\n",
      "train acc: 0.60756\n",
      "val acc: 0.2609\n",
      "train acc: 0.63146\n",
      "val acc: 0.258\n",
      "train acc: 0.66328\n",
      "val acc: 0.2514\n",
      "train acc: 0.67984\n",
      "val acc: 0.2473\n",
      "train acc: 0.69194\n",
      "val acc: 0.2471\n",
      "train acc: 0.71092\n",
      "val acc: 0.2376\n",
      "train acc: 0.72816\n",
      "val acc: 0.2344\n",
      "train acc: 0.73086\n",
      "val acc: 0.2335\n"
     ]
    }
   ],
   "source": [
    "import numpy as np\n",
    "import torch.nn as nn\n",
    "import torch.nn.functional as F\n",
    "\n",
    "classifier = nn.Sequential(\n",
    "    #nn.Dropout(0.1),\n",
    "    #nn.Linear(2048, 256),\n",
    "    #nn.BatchNorm1d(256),\n",
    "    #nn.ReLU(),\n",
    "    #nn.Dropout(0.1),\n",
    "    #nn.Linear(256, 100)\n",
    "    nn.Linear(512, 512),\n",
    "    nn.ReLU(),\n",
    "    #nn.Dropout(0.5),\n",
    "    nn.BatchNorm1d(512),\n",
    "    nn.Linear(512, 256),\n",
    "    nn.ReLU(),\n",
    "    nn.Linear(256, 100)\n",
    ").to(DEVICE)\n",
    "\n",
    "max_num_epochs = 100\n",
    "optim = torch.optim.Adam(classifier.parameters(), lr=1e-3)\n",
    "\n",
    "for epoch in range(max_num_epochs):\n",
    "    for batch in feats_dl_train:\n",
    "        x = torch.tensor(batch[0]).to(DEVICE)\n",
    "        y = torch.tensor(batch[1]).to(DEVICE)\n",
    "\n",
    "        logits = classifier(x)\n",
    "        loss = F.cross_entropy(logits, y)\n",
    "        acc = (logits.argmax(dim=1) == y).float().mean().detach().cpu()\n",
    "\n",
    "        optim.zero_grad()\n",
    "        loss.backward()\n",
    "        optim.step()\n",
    "\n",
    "    #print('acc', acc.item())\n",
    "    if epoch % 5 == 0:\n",
    "        print('train acc:', validate_clf(classifier, feats_dl_train)[1])\n",
    "        print('val acc:', validate_clf(classifier, feats_dl_test)[1])"
   ]
  }
 ],
 "metadata": {
  "kernelspec": {
   "display_name": "Python 3",
   "language": "python",
   "name": "python3"
  },
  "language_info": {
   "codemirror_mode": {
    "name": "ipython",
    "version": 3
   },
   "file_extension": ".py",
   "mimetype": "text/x-python",
   "name": "python",
   "nbconvert_exporter": "python",
   "pygments_lexer": "ipython3",
   "version": "3.7.3"
  }
 },
 "nbformat": 4,
 "nbformat_minor": 4
}

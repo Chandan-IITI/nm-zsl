{
 "cells": [
  {
   "cell_type": "code",
   "execution_count": 1,
   "metadata": {},
   "outputs": [],
   "source": [
    "from scipy import io\n",
    "import numpy as np\n",
    "\n",
    "data_dir = '/tmp/skoroki/czsl/data/cvcZSL_data/AwA2_data'\n",
    "data = io.loadmat(f'{data_dir}/res101.mat')\n",
    "attrs_mat = io.loadmat(f'{data_dir}/att_splits.mat')"
   ]
  },
  {
   "cell_type": "code",
   "execution_count": 2,
   "metadata": {},
   "outputs": [],
   "source": [
    "feats = data['features'].T\n",
    "labels = data['labels'].squeeze() - 1\n",
    "attrs = attrs_mat['att'].T\n",
    "\n",
    "train_idx = attrs_mat['trainval_loc'].squeeze() - 1\n",
    "\n",
    "test_seen_idx = attrs_mat['test_seen_loc'].squeeze() - 1\n",
    "test_unseen_idx = attrs_mat['test_unseen_loc'].squeeze() - 1\n",
    "test_idx = np.array(test_seen_idx.tolist() + test_unseen_idx.tolist())"
   ]
  },
  {
   "cell_type": "code",
   "execution_count": 3,
   "metadata": {},
   "outputs": [
    {
     "name": "stdout",
     "output_type": "stream",
     "text": [
      "Seen: 2,3,4,5,7,9,10,11,12,13,14,16,18,19,20,24,25,21,26,28,31,32,34,35,36,37,38,41,42,44,45,48,39,43,17,0,1,27,47,15\n",
      "Unseen: 22,49,29,23,8,33,6,46,30,40\n"
     ]
    }
   ],
   "source": [
    "class_names = [c.item() for c in attrs_mat['allclasses_names'].squeeze()]\n",
    "\n",
    "seen_classes_names = open(f'{data_dir}/trainvalclasses.txt').read().splitlines()\n",
    "unseen_classes_names = open(f'{data_dir}/testclasses.txt').read().splitlines()\n",
    "\n",
    "seen_classes = [class_names.index(c) for c in seen_classes_names]\n",
    "unseen_classes = [class_names.index(c) for c in unseen_classes_names]\n",
    "\n",
    "print('Seen:', ','.join(str(c) for c in seen_classes))\n",
    "print('Unseen:', ','.join(str(c) for c in unseen_classes))"
   ]
  },
  {
   "cell_type": "code",
   "execution_count": 4,
   "metadata": {},
   "outputs": [],
   "source": [
    "target_dir = '/tmp/skoroki/czsl/data/awa2_feats'\n",
    "np.save(f'{target_dir}/feats', feats)\n",
    "np.save(f'{target_dir}/labels', labels)\n",
    "np.save(f'{target_dir}/attrs', attrs)\n",
    "np.save(f'{target_dir}/train_idx', train_idx)\n",
    "np.save(f'{target_dir}/test_idx', test_idx)"
   ]
  }
 ],
 "metadata": {
  "kernelspec": {
   "display_name": "Python 3",
   "language": "python",
   "name": "python3"
  },
  "language_info": {
   "codemirror_mode": {
    "name": "ipython",
    "version": 3
   },
   "file_extension": ".py",
   "mimetype": "text/x-python",
   "name": "python",
   "nbconvert_exporter": "python",
   "pygments_lexer": "ipython3",
   "version": "3.7.3"
  }
 },
 "nbformat": 4,
 "nbformat_minor": 4
}

{
 "cells": [
  {
   "cell_type": "code",
   "execution_count": 7,
   "metadata": {},
   "outputs": [],
   "source": [
    "import sys; sys.path.append('..')\n",
    "from src.dataloaders import cub\n",
    "import numpy as np\n",
    "import matplotlib.pyplot as plt\n",
    "import torch\n",
    "%matplotlib inline\n",
    "\n",
    "attrs_agem = cub.load_class_attributes('../data/CUB_200_2011')\n",
    "attrs = open('../data/CUB_200_2011/attributes/class_attribute_labels_continuous.txt').read().splitlines()\n",
    "attrs = np.array([list(map(float, a.split())) for a in attrs])\n",
    "attrs = torch.from_numpy(attrs)"
   ]
  },
  {
   "cell_type": "code",
   "execution_count": 8,
   "metadata": {},
   "outputs": [],
   "source": [
    "avg_norm = attrs.norm(dim=1).pow(2).mean()"
   ]
  },
  {
   "cell_type": "code",
   "execution_count": 10,
   "metadata": {},
   "outputs": [],
   "source": [
    "attrs = attrs / avg_norm"
   ]
  },
  {
   "cell_type": "code",
   "execution_count": 13,
   "metadata": {},
   "outputs": [
    {
     "data": {
      "text/plain": [
       "tensor([0.0019, 0.0024, 0.0020, 0.0026, 0.0025, 0.0024, 0.0024, 0.0022, 0.0023,\n",
       "        0.0028, 0.0022, 0.0026, 0.0026, 0.0025, 0.0024, 0.0021, 0.0023, 0.0020,\n",
       "        0.0025, 0.0023, 0.0024, 0.0025, 0.0024, 0.0025, 0.0025, 0.0026, 0.0025,\n",
       "        0.0025, 0.0029, 0.0027, 0.0023, 0.0021, 0.0023, 0.0024, 0.0022, 0.0024,\n",
       "        0.0023, 0.0023, 0.0022, 0.0021, 0.0023, 0.0024, 0.0021, 0.0023, 0.0024,\n",
       "        0.0024, 0.0027, 0.0027, 0.0021, 0.0021, 0.0021, 0.0022, 0.0023, 0.0026,\n",
       "        0.0025, 0.0023, 0.0028, 0.0024, 0.0026, 0.0025, 0.0026, 0.0025, 0.0027,\n",
       "        0.0026, 0.0024, 0.0027, 0.0020, 0.0021, 0.0022, 0.0022, 0.0021, 0.0021,\n",
       "        0.0025, 0.0022, 0.0023, 0.0023, 0.0024, 0.0024, 0.0023, 0.0022, 0.0029,\n",
       "        0.0020, 0.0023, 0.0026, 0.0023, 0.0022, 0.0023, 0.0023, 0.0023, 0.0020,\n",
       "        0.0021, 0.0024, 0.0025, 0.0024, 0.0026, 0.0025, 0.0023, 0.0026, 0.0022,\n",
       "        0.0019, 0.0026, 0.0023, 0.0021, 0.0023, 0.0023, 0.0024, 0.0027, 0.0024,\n",
       "        0.0025, 0.0023, 0.0025, 0.0024, 0.0023, 0.0024, 0.0024, 0.0024, 0.0027,\n",
       "        0.0024, 0.0025, 0.0025, 0.0026, 0.0026, 0.0024, 0.0024, 0.0027, 0.0024,\n",
       "        0.0026, 0.0021, 0.0027, 0.0025, 0.0025, 0.0025, 0.0026, 0.0024, 0.0022,\n",
       "        0.0021, 0.0020, 0.0025, 0.0026, 0.0025, 0.0025, 0.0021, 0.0024, 0.0024,\n",
       "        0.0025, 0.0026, 0.0024, 0.0022, 0.0023, 0.0023, 0.0023, 0.0024, 0.0023,\n",
       "        0.0023, 0.0023, 0.0023, 0.0024, 0.0024, 0.0030, 0.0024, 0.0026, 0.0023,\n",
       "        0.0025, 0.0024, 0.0023, 0.0025, 0.0023, 0.0024, 0.0026, 0.0022, 0.0023,\n",
       "        0.0024, 0.0020, 0.0021, 0.0024, 0.0026, 0.0028, 0.0024, 0.0024, 0.0027,\n",
       "        0.0023, 0.0027, 0.0025, 0.0024, 0.0025, 0.0024, 0.0027, 0.0028, 0.0028,\n",
       "        0.0029, 0.0027, 0.0030, 0.0025, 0.0026, 0.0025, 0.0025, 0.0024, 0.0024,\n",
       "        0.0025, 0.0025], dtype=torch.float64)"
      ]
     },
     "execution_count": 13,
     "metadata": {},
     "output_type": "execute_result"
    }
   ],
   "source": [
    "attrs.norm(dim=1)"
   ]
  },
  {
   "cell_type": "code",
   "execution_count": 15,
   "metadata": {},
   "outputs": [],
   "source": [
    "attrs_normalized = (attrs - attrs.mean(axis=1, keepdims=True)) / attrs.std(axis=1, keepdims=True)"
   ]
  },
  {
   "cell_type": "code",
   "execution_count": 18,
   "metadata": {},
   "outputs": [],
   "source": [
    "np.save('../data/CUB_200_2011/attributes_normalized', attrs_normalized)"
   ]
  }
 ],
 "metadata": {
  "kernelspec": {
   "display_name": "Python 3",
   "language": "python",
   "name": "python3"
  },
  "language_info": {
   "codemirror_mode": {
    "name": "ipython",
    "version": 3
   },
   "file_extension": ".py",
   "mimetype": "text/x-python",
   "name": "python",
   "nbconvert_exporter": "python",
   "pygments_lexer": "ipython3",
   "version": "3.7.3"
  }
 },
 "nbformat": 4,
 "nbformat_minor": 4
}

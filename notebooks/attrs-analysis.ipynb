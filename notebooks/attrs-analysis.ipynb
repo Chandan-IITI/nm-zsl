{
 "cells": [
  {
   "cell_type": "code",
   "execution_count": 131,
   "metadata": {},
   "outputs": [],
   "source": [
    "import os\n",
    "import sys; sys.path.append('..')\n",
    "import numpy as np\n",
    "\n",
    "data_dir = '../data/CUB_200_2011'\n",
    "attrs = np.load(os.path.join(data_dir, 'attributes_normalized.npy'))\n",
    "attrs = torch.from_numpy(attrs)\n",
    "attrs = (attrs - attrs.mean(dim=0, keepdim=True)) / attrs.std(dim=0, keepdim=True)"
   ]
  },
  {
   "cell_type": "code",
   "execution_count": 157,
   "metadata": {},
   "outputs": [],
   "source": [
    "import pandas as pd"
   ]
  },
  {
   "cell_type": "code",
   "execution_count": 169,
   "metadata": {},
   "outputs": [],
   "source": [
    "with open(f'{data_dir}/attributes/class_attribute_labels_continuous.txt') as f:\n",
    "    lines = f.read().splitlines()\n",
    "    attrs_raw = [list(map(float, l.split())) for l in lines]\n",
    "    attrs_raw = torch.tensor(attrs_raw)"
   ]
  },
  {
   "cell_type": "code",
   "execution_count": 172,
   "metadata": {},
   "outputs": [],
   "source": [
    "attrs_raw = attrs_raw / attrs_raw.norm(dim=1, keepdim=True)"
   ]
  },
  {
   "cell_type": "code",
   "execution_count": 132,
   "metadata": {},
   "outputs": [
    {
     "data": {
      "text/plain": [
       "tensor(1., dtype=torch.float64)"
      ]
     },
     "execution_count": 132,
     "metadata": {},
     "output_type": "execute_result"
    }
   ],
   "source": [
    "attrs.std(axis=0).abs().mean()"
   ]
  },
  {
   "cell_type": "code",
   "execution_count": 207,
   "metadata": {},
   "outputs": [
    {
     "data": {
      "text/plain": [
       "tensor(2373.1604, dtype=torch.float64)"
      ]
     },
     "execution_count": 207,
     "metadata": {},
     "output_type": "execute_result"
    }
   ],
   "source": [
    "cov.sum()"
   ]
  },
  {
   "cell_type": "code",
   "execution_count": 9,
   "metadata": {},
   "outputs": [],
   "source": [
    "import random\n",
    "\n",
    "n_classes = attrs.shape[0]\n",
    "n_dims = attrs.shape[1]\n",
    "idx_seen = random.sample(range(n_classes), 100)\n",
    "idx_unseen = [i for i in range(n_classes) if not i in idx_seen]\n",
    "\n",
    "attrs_seen = attrs[idx_seen].float()\n",
    "attrs_unseen = attrs[idx_unseen].float()"
   ]
  },
  {
   "cell_type": "code",
   "execution_count": 134,
   "metadata": {},
   "outputs": [],
   "source": [
    "cov = compute_covariance(attrs)"
   ]
  },
  {
   "cell_type": "code",
   "execution_count": 135,
   "metadata": {},
   "outputs": [
    {
     "data": {
      "text/plain": [
       "tensor(1., dtype=torch.float64)"
      ]
     },
     "execution_count": 135,
     "metadata": {},
     "output_type": "execute_result"
    }
   ],
   "source": [
    "cov.diag().mean()"
   ]
  },
  {
   "cell_type": "code",
   "execution_count": 140,
   "metadata": {},
   "outputs": [],
   "source": [
    "covariances = cov[np.tril_indices(312, k=-1)].abs()"
   ]
  },
  {
   "cell_type": "code",
   "execution_count": 156,
   "metadata": {},
   "outputs": [
    {
     "data": {
      "text/plain": [
       "0.35860428696998287"
      ]
     },
     "execution_count": 156,
     "metadata": {},
     "output_type": "execute_result"
    }
   ],
   "source": [
    "np.percentile(covariances, 90)"
   ]
  },
  {
   "cell_type": "code",
   "execution_count": 141,
   "metadata": {},
   "outputs": [
    {
     "data": {
      "image/png": "[encoded data removed]",
      "text/plain": [
       "<Figure size 432x288 with 1 Axes>"
      ]
     },
     "metadata": {
      "needs_background": "light"
     },
     "output_type": "display_data"
    }
   ],
   "source": [
    "import matplotlib.pyplot as plt\n",
    "%matplotlib inline\n",
    "plt.hist(covariances, bins=50);"
   ]
  },
  {
   "cell_type": "code",
   "execution_count": null,
   "metadata": {},
   "outputs": [],
   "source": [
    "plt.hist(torch.randn)"
   ]
  },
  {
   "cell_type": "code",
   "execution_count": 199,
   "metadata": {},
   "outputs": [
    {
     "data": {
      "image/png": "[encoded data removed]",
      "text/plain": [
       "<Figure size 432x288 with 1 Axes>"
      ]
     },
     "metadata": {
      "needs_background": "light"
     },
     "output_type": "display_data"
    }
   ],
   "source": [
    "plt.hist(attrs[:, 20], bins=100);"
   ]
  },
  {
   "cell_type": "code",
   "execution_count": 42,
   "metadata": {},
   "outputs": [],
   "source": [
    "from torch import Tensor\n",
    "\n",
    "\n",
    "def compute_covariance(feats: Tensor) -> Tensor:\n",
    "    \"\"\"\n",
    "    Computes empirical covariance matrix for a batch of feature vectors\n",
    "    \"\"\"\n",
    "    assert feats.ndim == 2\n",
    "\n",
    "    feats -= feats.mean(dim=0)\n",
    "    cov_unscaled = feats.t() @ feats # [feat_dim, feat_dim]\n",
    "    cov = cov_unscaled / (feats.size(0) - 1)\n",
    "\n",
    "    return cov"
   ]
  },
  {
   "cell_type": "code",
   "execution_count": 93,
   "metadata": {},
   "outputs": [],
   "source": [
    "cov = compute_covariance(attrs_seen) + torch.eye(n_dims) * 0.83"
   ]
  },
  {
   "cell_type": "code",
   "execution_count": 95,
   "metadata": {},
   "outputs": [
    {
     "data": {
      "text/plain": [
       "tensor(0.6499)"
      ]
     },
     "execution_count": 95,
     "metadata": {},
     "output_type": "execute_result"
    }
   ],
   "source": [
    "torch.det(cov)"
   ]
  },
  {
   "cell_type": "code",
   "execution_count": 58,
   "metadata": {},
   "outputs": [],
   "source": [
    "import torch\n",
    "from torch.distributions.multivariate_normal import MultivariateNormal\n",
    "\n",
    "dist = MultivariateNormal(loc=torch.zeros(n_dims), covariance_matrix=cov)"
   ]
  },
  {
   "cell_type": "code",
   "execution_count": 77,
   "metadata": {},
   "outputs": [
    {
     "name": "stdout",
     "output_type": "stream",
     "text": [
      "-302.2752685546875\n",
      "-358.6435852050781\n"
     ]
    }
   ],
   "source": [
    "print(dist.log_prob(attrs_seen).mean().item())\n",
    "print(dist.log_prob(attrs_unseen).mean().item())"
   ]
  },
  {
   "cell_type": "code",
   "execution_count": 86,
   "metadata": {},
   "outputs": [],
   "source": [
    "alphas = torch.rand(100) * 0.6 + 0.2\n",
    "alphas = alphas.unsqueeze(1)"
   ]
  },
  {
   "cell_type": "code",
   "execution_count": 87,
   "metadata": {},
   "outputs": [],
   "source": [
    "random_seen_attrs_lhs = torch.stack([attrs_seen[i] for i in random.choices(range(100), k=100)])\n",
    "random_seen_attrs_rhs = torch.stack([attrs_seen[i] for i in random.choices(range(100), k=100)])\n",
    "\n",
    "attrs_h = alphas * random_seen_attrs_lhs + (1 - alphas) * random_seen_attrs_rhs"
   ]
  },
  {
   "cell_type": "code",
   "execution_count": 88,
   "metadata": {},
   "outputs": [
    {
     "data": {
      "text/plain": [
       "tensor(-295.4601)"
      ]
     },
     "execution_count": 88,
     "metadata": {},
     "output_type": "execute_result"
    }
   ],
   "source": [
    "dist.log_prob(attrs_h).mean()"
   ]
  }
 ],
 "metadata": {
  "kernelspec": {
   "display_name": "Python 3",
   "language": "python",
   "name": "python3"
  },
  "language_info": {
   "codemirror_mode": {
    "name": "ipython",
    "version": 3
   },
   "file_extension": ".py",
   "mimetype": "text/x-python",
   "name": "python",
   "nbconvert_exporter": "python",
   "pygments_lexer": "ipython3",
   "version": "3.7.3"
  }
 },
 "nbformat": 4,
 "nbformat_minor": 4
}

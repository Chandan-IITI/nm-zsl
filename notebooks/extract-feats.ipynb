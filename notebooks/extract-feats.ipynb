{
 "cells": [
  {
   "cell_type": "code",
   "execution_count": 1,
   "metadata": {},
   "outputs": [
    {
     "name": "stdout",
     "output_type": "stream",
     "text": [
      "The history saving thread hit an unexpected error (DatabaseError('database disk image is malformed')).History will not be written to the database.\n"
     ]
    }
   ],
   "source": [
    "import sys; sys.path.append('..')\n",
    "from src.models.classifier import ResnetEmbedder\n",
    "from src.dataloaders.cifar import load_dataset\n",
    "\n",
    "DEVICE = 'cuda'\n",
    "# embedder = ResnetEmbedder(18, True).to(DEVICE).eval()\n",
    "data_train = load_dataset('../data/CIFAR100', split='train', num_classes=100)\n",
    "data_test = load_dataset('../data/CIFAR100', split='test', num_classes=100)"
   ]
  },
  {
   "cell_type": "code",
   "execution_count": 5,
   "metadata": {},
   "outputs": [
    {
     "name": "stderr",
     "output_type": "stream",
     "text": [
      "[Extracting features]: 100%|██████████| 782/782 [00:28<00:00, 27.17it/s]\n",
      "[Extracting features]: 100%|██████████| 157/157 [00:04<00:00, 33.44it/s]\n"
     ]
    }
   ],
   "source": [
    "from src.dataloaders.utils import extract_resnet_features_for_dataset\n",
    "\n",
    "train_feats = extract_resnet_features_for_dataset(data_train, 18, device=DEVICE)\n",
    "test_feats = extract_resnet_features_for_dataset(data_test, 18, device=DEVICE)"
   ]
  },
  {
   "cell_type": "code",
   "execution_count": 6,
   "metadata": {},
   "outputs": [],
   "source": [
    "import numpy as np\n",
    "\n",
    "np.save('../data/CIFAR100_EMBEDDINGS/train_resnet18_feat', train_feats, allow_pickle=True)\n",
    "np.save('../data/CIFAR100_EMBEDDINGS/test_resnet18_feat', test_feats, allow_pickle=True)"
   ]
  }
 ],
 "metadata": {
  "kernelspec": {
   "display_name": "Python 3",
   "language": "python",
   "name": "python3"
  },
  "language_info": {
   "codemirror_mode": {
    "name": "ipython",
    "version": 3
   },
   "file_extension": ".py",
   "mimetype": "text/x-python",
   "name": "python",
   "nbconvert_exporter": "python",
   "pygments_lexer": "ipython3",
   "version": "3.7.3"
  }
 },
 "nbformat": 4,
 "nbformat_minor": 4
}

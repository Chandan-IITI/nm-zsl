{
 "cells": [
  {
   "cell_type": "code",
   "execution_count": 1,
   "metadata": {},
   "outputs": [],
   "source": [
    "import sys; sys.path.append('..')\n",
    "import torch\n",
    "from torchsummary import summary\n",
    "from src.models.autoencoder import AutoEncoder\n",
    "\n",
    "DEVICE = 'cuda'"
   ]
  },
  {
   "cell_type": "code",
   "execution_count": 4,
   "metadata": {},
   "outputs": [],
   "source": [
    "from torchvision.datasets import CIFAR10, CIFAR100\n",
    "from torchvision.transforms import ToTensor\n",
    "\n",
    "ds_train = CIFAR100('../data/CIFAR100', train=True, transform=ToTensor())\n",
    "ds_test = CIFAR100('../data/CIFAR100', train=False, transform=ToTensor())"
   ]
  },
  {
   "cell_type": "code",
   "execution_count": 3,
   "metadata": {},
   "outputs": [],
   "source": [
    "from torch.utils.data import DataLoader\n",
    "from torch.utils.data import Subset\n",
    "\n",
    "# ds_train = Subset(ds_train, range(100))\n",
    "# ds_test = Subset(ds_test, range(100))\n",
    "\n",
    "NUM_CLASSES = 100\n",
    "\n",
    "dl_train = DataLoader(ds_train, batch_size=256, shuffle=True)\n",
    "dl_test = DataLoader(ds_test, batch_size=256, shuffle=False)"
   ]
  },
  {
   "cell_type": "code",
   "execution_count": 6,
   "metadata": {},
   "outputs": [],
   "source": [
    "import torch\n",
    "import torch.nn as nn\n",
    "from torch import Tensor\n",
    "from firelab.config import Config\n",
    "\n",
    "from src.models.layers import ConvBNReLU, ConvTransposeBNReLU, Reshape\n",
    "\n",
    "\n",
    "class AutoEncoder(nn.Module):\n",
    "    def __init__(self, config: Config):\n",
    "        super(AutoEncoder, self).__init__()\n",
    "\n",
    "        self.encoder = Encoder(config)\n",
    "        self.decoder = Decoder(config)\n",
    "\n",
    "    def forward(self, x: Tensor) -> Tensor:\n",
    "        return self.decoder(self.encoder(x))\n",
    "\n",
    "\n",
    "class Encoder(nn.Module):\n",
    "    def __init__(self, config: Config):\n",
    "        super(Encoder, self).__init__()\n",
    "\n",
    "        self.model = nn.Sequential(\n",
    "            nn.Conv2d(3, 16, 4, stride=2, padding=1),\n",
    "            nn.ReLU(),\n",
    "            nn.Conv2d(16, 64, 4, stride=2, padding=1),\n",
    "            nn.ReLU(),\n",
    "            nn.Conv2d(64, 256, 4, stride=2, padding=1),\n",
    "            nn.ReLU(),\n",
    "            nn.Conv2d(256, 512, 3, stride=2, padding=1),\n",
    "            nn.ReLU(),\n",
    "        )\n",
    "\n",
    "    def forward(self, x: Tensor) -> Tensor:\n",
    "        return self.model(x)\n",
    "    \n",
    "\n",
    "class Decoder(nn.Module):\n",
    "    def __init__(self, config: Config):\n",
    "        super(Decoder, self).__init__()\n",
    "\n",
    "        self.model = nn.Sequential(\n",
    "            nn.ConvTranspose2d(512, 256, 4, stride=2, padding=1),  # [batch, 24, 8, 8]\n",
    "            nn.ReLU(),\n",
    "            nn.ConvTranspose2d(256, 128, 4, stride=2, padding=1),  # [batch, 24, 8, 8]\n",
    "            nn.ReLU(),\n",
    "            nn.ConvTranspose2d(128, 64, 4, stride=2, padding=1),  # [batch, 12, 16, 16]\n",
    "            nn.ReLU(),\n",
    "            nn.ConvTranspose2d(64, 3, 4, stride=2, padding=1),   # [batch, 3, 32, 32]\n",
    "            nn.Sigmoid(),\n",
    "        )\n",
    "\n",
    "    def forward(self, x: Tensor) -> Tensor:\n",
    "        return self.model(x)\n",
    "\n",
    "\n",
    "class ShapePrinter(nn.Module):\n",
    "    def __init__(self, title: str='unknown'):\n",
    "        super(ShapePrinter, self).__init__()\n",
    "        self.title = title\n",
    "\n",
    "    def forward(self, x):\n",
    "        print(self.title, x.shape, x.flatten(1).shape)\n",
    "        return x"
   ]
  },
  {
   "cell_type": "code",
   "execution_count": 7,
   "metadata": {},
   "outputs": [],
   "source": [
    "# ae = AutoEncoder(None).to('cuda')\n",
    "# summary(ae, (3, 32, 32))"
   ]
  },
  {
   "cell_type": "code",
   "execution_count": 8,
   "metadata": {
    "collapsed": true,
    "jupyter": {
     "outputs_hidden": true
    }
   },
   "outputs": [
    {
     "name": "stderr",
     "output_type": "stream",
     "text": [
      "Training: 100%|██████████| 196/196 [00:09<00:00, 20.68it/s]\n",
      "Training: 100%|██████████| 196/196 [00:08<00:00, 23.71it/s]\n",
      "Training: 100%|██████████| 196/196 [00:08<00:00, 22.50it/s]\n",
      "Training: 100%|██████████| 196/196 [00:08<00:00, 23.41it/s]\n",
      "Training: 100%|██████████| 196/196 [00:08<00:00, 24.23it/s]\n",
      "Training: 100%|██████████| 196/196 [00:08<00:00, 24.18it/s]\n",
      "Training: 100%|██████████| 196/196 [00:08<00:00, 23.89it/s]\n",
      "Training: 100%|██████████| 196/196 [00:08<00:00, 22.99it/s]\n",
      "Training: 100%|██████████| 196/196 [00:08<00:00, 23.77it/s]\n",
      "Training: 100%|██████████| 196/196 [00:08<00:00, 22.15it/s]\n"
     ]
    },
    {
     "name": "stdout",
     "output_type": "stream",
     "text": [
      "[train] Epoch 10. 0.004747151348391636\n"
     ]
    },
    {
     "name": "stderr",
     "output_type": "stream",
     "text": [
      "Training:   2%|▏         | 3/196 [00:00<00:09, 20.53it/s]"
     ]
    },
    {
     "name": "stdout",
     "output_type": "stream",
     "text": [
      "[val] Epoch 10: 0.004862835684405489\n"
     ]
    },
    {
     "name": "stderr",
     "output_type": "stream",
     "text": [
      "Training: 100%|██████████| 196/196 [00:08<00:00, 23.51it/s]\n",
      "Training: 100%|██████████| 196/196 [00:08<00:00, 23.40it/s]\n",
      "Training: 100%|██████████| 196/196 [00:08<00:00, 23.63it/s]\n",
      "Training: 100%|██████████| 196/196 [00:08<00:00, 23.12it/s]\n",
      "Training: 100%|██████████| 196/196 [00:08<00:00, 23.32it/s]\n",
      "Training: 100%|██████████| 196/196 [00:08<00:00, 23.46it/s]\n",
      "Training: 100%|██████████| 196/196 [00:08<00:00, 23.01it/s]\n",
      "Training: 100%|██████████| 196/196 [00:08<00:00, 22.42it/s]\n",
      "Training: 100%|██████████| 196/196 [00:08<00:00, 23.26it/s]\n",
      "Training: 100%|██████████| 196/196 [00:08<00:00, 22.27it/s]\n"
     ]
    },
    {
     "name": "stdout",
     "output_type": "stream",
     "text": [
      "[train] Epoch 20. 0.0031599843178946045\n"
     ]
    },
    {
     "name": "stderr",
     "output_type": "stream",
     "text": [
      "Training:   2%|▏         | 3/196 [00:00<00:09, 21.14it/s]"
     ]
    },
    {
     "name": "stdout",
     "output_type": "stream",
     "text": [
      "[val] Epoch 20: 0.003260299431827597\n"
     ]
    },
    {
     "name": "stderr",
     "output_type": "stream",
     "text": [
      "Training: 100%|██████████| 196/196 [00:08<00:00, 23.47it/s]\n",
      "Training: 100%|██████████| 196/196 [00:08<00:00, 23.18it/s]\n",
      "Training: 100%|██████████| 196/196 [00:08<00:00, 23.46it/s]\n",
      "Training: 100%|██████████| 196/196 [00:08<00:00, 22.59it/s]\n",
      "Training: 100%|██████████| 196/196 [00:08<00:00, 23.14it/s]\n",
      "Training: 100%|██████████| 196/196 [00:08<00:00, 22.62it/s]\n",
      "Training: 100%|██████████| 196/196 [00:08<00:00, 22.77it/s]\n",
      "Training: 100%|██████████| 196/196 [00:08<00:00, 23.26it/s]\n",
      "Training: 100%|██████████| 196/196 [00:08<00:00, 23.33it/s]\n",
      "Training: 100%|██████████| 196/196 [00:08<00:00, 23.24it/s]\n"
     ]
    },
    {
     "name": "stdout",
     "output_type": "stream",
     "text": [
      "[train] Epoch 30. 0.0025594644918384936\n"
     ]
    },
    {
     "name": "stderr",
     "output_type": "stream",
     "text": [
      "Training:   2%|▏         | 3/196 [00:00<00:09, 21.18it/s]"
     ]
    },
    {
     "name": "stdout",
     "output_type": "stream",
     "text": [
      "[val] Epoch 30: 0.002645398534398493\n"
     ]
    },
    {
     "name": "stderr",
     "output_type": "stream",
     "text": [
      "Training: 100%|██████████| 196/196 [00:08<00:00, 23.54it/s]\n",
      "Training: 100%|██████████| 196/196 [00:08<00:00, 23.50it/s]\n",
      "Training: 100%|██████████| 196/196 [00:08<00:00, 22.89it/s]\n",
      "Training: 100%|██████████| 196/196 [00:08<00:00, 23.45it/s]\n",
      "Training: 100%|██████████| 196/196 [00:08<00:00, 22.11it/s]\n",
      "Training: 100%|██████████| 196/196 [00:08<00:00, 23.33it/s]\n",
      "Training: 100%|██████████| 196/196 [00:08<00:00, 23.30it/s]\n",
      "Training: 100%|██████████| 196/196 [00:08<00:00, 23.14it/s]\n",
      "Training: 100%|██████████| 196/196 [00:08<00:00, 22.48it/s]\n",
      "Training: 100%|██████████| 196/196 [00:08<00:00, 22.73it/s]\n"
     ]
    },
    {
     "name": "stdout",
     "output_type": "stream",
     "text": [
      "[train] Epoch 40. 0.0021329860041296215\n"
     ]
    },
    {
     "name": "stderr",
     "output_type": "stream",
     "text": [
      "Training:   2%|▏         | 3/196 [00:00<00:09, 20.78it/s]"
     ]
    },
    {
     "name": "stdout",
     "output_type": "stream",
     "text": [
      "[val] Epoch 40: 0.002214590129997666\n"
     ]
    },
    {
     "name": "stderr",
     "output_type": "stream",
     "text": [
      "Training: 100%|██████████| 196/196 [00:08<00:00, 23.56it/s]\n",
      "Training: 100%|██████████| 196/196 [00:08<00:00, 22.87it/s]\n",
      "Training: 100%|██████████| 196/196 [00:08<00:00, 23.29it/s]\n",
      "Training: 100%|██████████| 196/196 [00:08<00:00, 23.42it/s]\n",
      "Training: 100%|██████████| 196/196 [00:08<00:00, 22.74it/s]\n",
      "Training: 100%|██████████| 196/196 [00:08<00:00, 23.33it/s]\n",
      "Training: 100%|██████████| 196/196 [00:08<00:00, 22.78it/s]\n",
      "Training: 100%|██████████| 196/196 [00:08<00:00, 23.04it/s]\n",
      "Training: 100%|██████████| 196/196 [00:08<00:00, 23.04it/s]\n",
      "Training: 100%|██████████| 196/196 [00:08<00:00, 22.38it/s]\n"
     ]
    },
    {
     "name": "stdout",
     "output_type": "stream",
     "text": [
      "[train] Epoch 50. 0.0020541734396856337\n"
     ]
    },
    {
     "name": "stderr",
     "output_type": "stream",
     "text": [
      "Training:   2%|▏         | 3/196 [00:00<00:09, 21.00it/s]"
     ]
    },
    {
     "name": "stdout",
     "output_type": "stream",
     "text": [
      "[val] Epoch 50: 0.0021353240802370957\n"
     ]
    },
    {
     "name": "stderr",
     "output_type": "stream",
     "text": [
      "Training: 100%|██████████| 196/196 [00:08<00:00, 22.33it/s]\n",
      "Training: 100%|██████████| 196/196 [00:08<00:00, 23.52it/s]\n",
      "Training: 100%|██████████| 196/196 [00:08<00:00, 23.26it/s]\n",
      "Training: 100%|██████████| 196/196 [00:08<00:00, 23.17it/s]\n",
      "Training: 100%|██████████| 196/196 [00:08<00:00, 23.38it/s]\n",
      "Training: 100%|██████████| 196/196 [00:08<00:00, 22.67it/s]\n",
      "Training: 100%|██████████| 196/196 [00:08<00:00, 22.19it/s]\n",
      "Training: 100%|██████████| 196/196 [00:08<00:00, 23.29it/s]\n",
      "Training: 100%|██████████| 196/196 [00:08<00:00, 22.69it/s]\n",
      "Training: 100%|██████████| 196/196 [00:08<00:00, 23.25it/s]\n"
     ]
    },
    {
     "name": "stdout",
     "output_type": "stream",
     "text": [
      "[train] Epoch 60. 0.0016144194848847794\n"
     ]
    },
    {
     "name": "stderr",
     "output_type": "stream",
     "text": [
      "Training:   2%|▏         | 3/196 [00:00<00:09, 21.14it/s]"
     ]
    },
    {
     "name": "stdout",
     "output_type": "stream",
     "text": [
      "[val] Epoch 60: 0.0016866921246806727\n"
     ]
    },
    {
     "name": "stderr",
     "output_type": "stream",
     "text": [
      "Training: 100%|██████████| 196/196 [00:08<00:00, 23.51it/s]\n",
      "Training: 100%|██████████| 196/196 [00:08<00:00, 23.40it/s]\n",
      "Training: 100%|██████████| 196/196 [00:08<00:00, 22.90it/s]\n",
      "Training: 100%|██████████| 196/196 [00:08<00:00, 23.45it/s]\n",
      "Training: 100%|██████████| 196/196 [00:08<00:00, 23.36it/s]\n",
      "Training: 100%|██████████| 196/196 [00:08<00:00, 22.70it/s]\n",
      "Training: 100%|██████████| 196/196 [00:08<00:00, 22.78it/s]\n",
      "Training: 100%|██████████| 196/196 [00:08<00:00, 22.73it/s]\n",
      "Training: 100%|██████████| 196/196 [00:08<00:00, 23.30it/s]\n",
      "Training: 100%|██████████| 196/196 [00:08<00:00, 23.09it/s]\n"
     ]
    },
    {
     "name": "stdout",
     "output_type": "stream",
     "text": [
      "[train] Epoch 70. 0.0014629789818644782\n"
     ]
    },
    {
     "name": "stderr",
     "output_type": "stream",
     "text": [
      "Training:   2%|▏         | 3/196 [00:00<00:09, 20.85it/s]"
     ]
    },
    {
     "name": "stdout",
     "output_type": "stream",
     "text": [
      "[val] Epoch 70: 0.0015346952230593238\n"
     ]
    },
    {
     "name": "stderr",
     "output_type": "stream",
     "text": [
      "Training: 100%|██████████| 196/196 [00:08<00:00, 23.51it/s]\n",
      "Training: 100%|██████████| 196/196 [00:08<00:00, 22.69it/s]\n",
      "Training: 100%|██████████| 196/196 [00:08<00:00, 23.41it/s]\n",
      "Training: 100%|██████████| 196/196 [00:08<00:00, 23.37it/s]\n",
      "Training: 100%|██████████| 196/196 [00:08<00:00, 23.39it/s]\n",
      "Training: 100%|██████████| 196/196 [00:08<00:00, 23.85it/s]\n",
      "Training: 100%|██████████| 196/196 [00:08<00:00, 23.90it/s]\n",
      "Training: 100%|██████████| 196/196 [00:08<00:00, 23.00it/s]\n",
      "Training: 100%|██████████| 196/196 [00:08<00:00, 22.98it/s]\n",
      "Training: 100%|██████████| 196/196 [00:08<00:00, 23.25it/s]\n"
     ]
    },
    {
     "name": "stdout",
     "output_type": "stream",
     "text": [
      "[train] Epoch 80. 0.0012632557147045284\n"
     ]
    },
    {
     "name": "stderr",
     "output_type": "stream",
     "text": [
      "Training:   2%|▏         | 3/196 [00:00<00:09, 20.84it/s]"
     ]
    },
    {
     "name": "stdout",
     "output_type": "stream",
     "text": [
      "[val] Epoch 80: 0.001326683454804955\n"
     ]
    },
    {
     "name": "stderr",
     "output_type": "stream",
     "text": [
      "Training: 100%|██████████| 196/196 [00:08<00:00, 23.47it/s]\n",
      "Training: 100%|██████████| 196/196 [00:08<00:00, 22.62it/s]\n",
      "Training: 100%|██████████| 196/196 [00:08<00:00, 23.25it/s]\n",
      "Training: 100%|██████████| 196/196 [00:08<00:00, 23.24it/s]\n",
      "Training: 100%|██████████| 196/196 [00:08<00:00, 23.30it/s]\n",
      "Training: 100%|██████████| 196/196 [00:08<00:00, 23.08it/s]\n",
      "Training: 100%|██████████| 196/196 [00:08<00:00, 22.58it/s]\n",
      "Training: 100%|██████████| 196/196 [00:08<00:00, 22.18it/s]\n",
      "Training: 100%|██████████| 196/196 [00:08<00:00, 23.10it/s]\n",
      "Training: 100%|██████████| 196/196 [00:08<00:00, 23.23it/s]\n"
     ]
    },
    {
     "name": "stdout",
     "output_type": "stream",
     "text": [
      "[train] Epoch 90. 0.0011532345244505877\n"
     ]
    },
    {
     "name": "stderr",
     "output_type": "stream",
     "text": [
      "Training:   2%|▏         | 3/196 [00:00<00:09, 21.20it/s]"
     ]
    },
    {
     "name": "stdout",
     "output_type": "stream",
     "text": [
      "[val] Epoch 90: 0.001209050560427102\n"
     ]
    },
    {
     "name": "stderr",
     "output_type": "stream",
     "text": [
      "Training: 100%|██████████| 196/196 [00:08<00:00, 22.74it/s]\n",
      "Training: 100%|██████████| 196/196 [00:08<00:00, 23.48it/s]\n",
      "Training: 100%|██████████| 196/196 [00:08<00:00, 23.19it/s]\n",
      "Training: 100%|██████████| 196/196 [00:08<00:00, 23.38it/s]\n",
      "Training: 100%|██████████| 196/196 [00:08<00:00, 22.88it/s]\n",
      "Training: 100%|██████████| 196/196 [00:08<00:00, 23.23it/s]\n",
      "Training: 100%|██████████| 196/196 [00:08<00:00, 23.19it/s]\n",
      "Training: 100%|██████████| 196/196 [00:08<00:00, 23.04it/s]\n",
      "Training: 100%|██████████| 196/196 [00:08<00:00, 23.26it/s]\n",
      "Training: 100%|██████████| 196/196 [00:08<00:00, 23.00it/s]\n"
     ]
    },
    {
     "name": "stdout",
     "output_type": "stream",
     "text": [
      "[train] Epoch 100. 0.0010525005180668026\n"
     ]
    },
    {
     "name": "stderr",
     "output_type": "stream",
     "text": [
      "Training:   2%|▏         | 3/196 [00:00<00:09, 20.75it/s]"
     ]
    },
    {
     "name": "stdout",
     "output_type": "stream",
     "text": [
      "[val] Epoch 100: 0.0011084163050231774\n"
     ]
    },
    {
     "name": "stderr",
     "output_type": "stream",
     "text": [
      "Training: 100%|██████████| 196/196 [00:08<00:00, 23.50it/s]\n",
      "Training: 100%|██████████| 196/196 [00:08<00:00, 22.83it/s]\n",
      "Training: 100%|██████████| 196/196 [00:08<00:00, 23.29it/s]\n",
      "Training: 100%|██████████| 196/196 [00:08<00:00, 23.14it/s]\n",
      "Training: 100%|██████████| 196/196 [00:08<00:00, 23.04it/s]\n",
      "Training: 100%|██████████| 196/196 [00:08<00:00, 23.27it/s]\n",
      "Training: 100%|██████████| 196/196 [00:08<00:00, 23.06it/s]\n",
      "Training: 100%|██████████| 196/196 [00:08<00:00, 22.61it/s]\n",
      "Training: 100%|██████████| 196/196 [00:08<00:00, 23.21it/s]\n",
      "Training: 100%|██████████| 196/196 [00:08<00:00, 23.18it/s]\n"
     ]
    },
    {
     "name": "stdout",
     "output_type": "stream",
     "text": [
      "[train] Epoch 110. 0.0010480445985795793\n"
     ]
    },
    {
     "name": "stderr",
     "output_type": "stream",
     "text": [
      "Training:   2%|▏         | 3/196 [00:00<00:09, 21.12it/s]"
     ]
    },
    {
     "name": "stdout",
     "output_type": "stream",
     "text": [
      "[val] Epoch 110: 0.001102669553727431\n"
     ]
    },
    {
     "name": "stderr",
     "output_type": "stream",
     "text": [
      "Training: 100%|██████████| 196/196 [00:08<00:00, 23.47it/s]\n",
      "Training: 100%|██████████| 196/196 [00:08<00:00, 23.20it/s]\n",
      "Training: 100%|██████████| 196/196 [00:08<00:00, 23.16it/s]\n",
      "Training: 100%|██████████| 196/196 [00:08<00:00, 23.29it/s]\n",
      "Training: 100%|██████████| 196/196 [00:08<00:00, 23.08it/s]\n",
      "Training: 100%|██████████| 196/196 [00:08<00:00, 23.17it/s]\n",
      "Training: 100%|██████████| 196/196 [00:08<00:00, 22.91it/s]\n",
      "Training: 100%|██████████| 196/196 [00:08<00:00, 22.09it/s]\n",
      "Training: 100%|██████████| 196/196 [00:08<00:00, 23.21it/s]\n",
      "Training: 100%|██████████| 196/196 [00:08<00:00, 22.99it/s]\n"
     ]
    },
    {
     "name": "stdout",
     "output_type": "stream",
     "text": [
      "[train] Epoch 120. 0.0010995661429829653\n"
     ]
    },
    {
     "name": "stderr",
     "output_type": "stream",
     "text": [
      "Training:   2%|▏         | 3/196 [00:00<00:09, 21.17it/s]"
     ]
    },
    {
     "name": "stdout",
     "output_type": "stream",
     "text": [
      "[val] Epoch 120: 0.001152120547301128\n"
     ]
    },
    {
     "name": "stderr",
     "output_type": "stream",
     "text": [
      "Training: 100%|██████████| 196/196 [00:08<00:00, 23.50it/s]\n",
      "Training: 100%|██████████| 196/196 [00:08<00:00, 23.37it/s]\n",
      "Training: 100%|██████████| 196/196 [00:08<00:00, 23.48it/s]\n",
      "Training: 100%|██████████| 196/196 [00:08<00:00, 23.42it/s]\n",
      "Training: 100%|██████████| 196/196 [00:08<00:00, 23.57it/s]\n",
      "Training: 100%|██████████| 196/196 [00:08<00:00, 23.02it/s]\n",
      "Training: 100%|██████████| 196/196 [00:08<00:00, 23.33it/s]\n",
      "Training: 100%|██████████| 196/196 [00:08<00:00, 23.05it/s]\n",
      "Training: 100%|██████████| 196/196 [00:08<00:00, 23.31it/s]\n",
      "Training: 100%|██████████| 196/196 [00:08<00:00, 23.30it/s]\n"
     ]
    },
    {
     "name": "stdout",
     "output_type": "stream",
     "text": [
      "[train] Epoch 130. 0.0009698188277311984\n"
     ]
    },
    {
     "name": "stderr",
     "output_type": "stream",
     "text": [
      "Training:   2%|▏         | 3/196 [00:00<00:09, 21.22it/s]"
     ]
    },
    {
     "name": "stdout",
     "output_type": "stream",
     "text": [
      "[val] Epoch 130: 0.0010227468880086431\n"
     ]
    },
    {
     "name": "stderr",
     "output_type": "stream",
     "text": [
      "Training: 100%|██████████| 196/196 [00:08<00:00, 23.52it/s]\n",
      "Training: 100%|██████████| 196/196 [00:08<00:00, 23.23it/s]\n",
      "Training: 100%|██████████| 196/196 [00:08<00:00, 23.45it/s]\n",
      "Training: 100%|██████████| 196/196 [00:08<00:00, 23.38it/s]\n",
      "Training: 100%|██████████| 196/196 [00:08<00:00, 23.16it/s]\n",
      "Training: 100%|██████████| 196/196 [00:08<00:00, 23.34it/s]\n",
      "Training: 100%|██████████| 196/196 [00:08<00:00, 23.00it/s]\n",
      "Training: 100%|██████████| 196/196 [00:08<00:00, 23.34it/s]\n",
      "Training: 100%|██████████| 196/196 [00:08<00:00, 23.30it/s]\n",
      "Training: 100%|██████████| 196/196 [00:08<00:00, 23.31it/s]\n"
     ]
    },
    {
     "name": "stdout",
     "output_type": "stream",
     "text": [
      "[train] Epoch 140. 0.001045068591462229\n"
     ]
    },
    {
     "name": "stderr",
     "output_type": "stream",
     "text": [
      "Training:   1%|          | 2/196 [00:00<00:13, 14.05it/s]"
     ]
    },
    {
     "name": "stdout",
     "output_type": "stream",
     "text": [
      "[val] Epoch 140: 0.001097436152207693\n"
     ]
    },
    {
     "name": "stderr",
     "output_type": "stream",
     "text": [
      "Training: 100%|██████████| 196/196 [00:08<00:00, 23.28it/s]\n",
      "Training: 100%|██████████| 196/196 [00:08<00:00, 23.48it/s]\n",
      "Training: 100%|██████████| 196/196 [00:08<00:00, 23.39it/s]\n",
      "Training: 100%|██████████| 196/196 [00:08<00:00, 23.18it/s]\n",
      "Training: 100%|██████████| 196/196 [00:08<00:00, 23.35it/s]\n",
      "Training: 100%|██████████| 196/196 [00:08<00:00, 23.29it/s]\n",
      "Training: 100%|██████████| 196/196 [00:08<00:00, 22.62it/s]\n",
      "Training: 100%|██████████| 196/196 [00:08<00:00, 23.27it/s]\n",
      "Training: 100%|██████████| 196/196 [00:08<00:00, 23.26it/s]\n",
      "Training: 100%|██████████| 196/196 [00:08<00:00, 22.22it/s]\n"
     ]
    },
    {
     "name": "stdout",
     "output_type": "stream",
     "text": [
      "[train] Epoch 150. 0.0008187431369470861\n"
     ]
    },
    {
     "name": "stderr",
     "output_type": "stream",
     "text": [
      "Training:   2%|▏         | 3/196 [00:00<00:09, 21.02it/s]"
     ]
    },
    {
     "name": "stdout",
     "output_type": "stream",
     "text": [
      "[val] Epoch 150: 0.0008684217118721513\n"
     ]
    },
    {
     "name": "stderr",
     "output_type": "stream",
     "text": [
      "Training: 100%|██████████| 196/196 [00:08<00:00, 23.04it/s]\n",
      "Training: 100%|██████████| 196/196 [00:08<00:00, 23.33it/s]\n",
      "Training: 100%|██████████| 196/196 [00:08<00:00, 23.45it/s]\n",
      "Training: 100%|██████████| 196/196 [00:08<00:00, 23.40it/s]\n",
      "Training: 100%|██████████| 196/196 [00:08<00:00, 23.14it/s]\n",
      "Training: 100%|██████████| 196/196 [00:08<00:00, 22.73it/s]\n",
      "Training: 100%|██████████| 196/196 [00:08<00:00, 23.36it/s]\n",
      "Training: 100%|██████████| 196/196 [00:08<00:00, 23.30it/s]\n",
      "Training: 100%|██████████| 196/196 [00:08<00:00, 23.43it/s]\n",
      "Training: 100%|██████████| 196/196 [00:08<00:00, 23.30it/s]\n"
     ]
    },
    {
     "name": "stdout",
     "output_type": "stream",
     "text": [
      "[train] Epoch 160. 0.0007687432698710458\n"
     ]
    },
    {
     "name": "stderr",
     "output_type": "stream",
     "text": [
      "Training:   2%|▏         | 3/196 [00:00<00:09, 20.76it/s]"
     ]
    },
    {
     "name": "stdout",
     "output_type": "stream",
     "text": [
      "[val] Epoch 160: 0.0008161666711820806\n"
     ]
    },
    {
     "name": "stderr",
     "output_type": "stream",
     "text": [
      "Training: 100%|██████████| 196/196 [00:08<00:00, 23.26it/s]\n",
      "Training: 100%|██████████| 196/196 [00:08<00:00, 22.56it/s]\n",
      "Training: 100%|██████████| 196/196 [00:08<00:00, 23.12it/s]\n",
      "Training: 100%|██████████| 196/196 [00:08<00:00, 23.16it/s]\n",
      "Training: 100%|██████████| 196/196 [00:08<00:00, 23.33it/s]\n",
      "Training: 100%|██████████| 196/196 [00:08<00:00, 23.29it/s]\n",
      "Training: 100%|██████████| 196/196 [00:08<00:00, 23.33it/s]\n",
      "Training: 100%|██████████| 196/196 [00:08<00:00, 22.53it/s]\n",
      "Training: 100%|██████████| 196/196 [00:08<00:00, 22.57it/s]\n",
      "Training: 100%|██████████| 196/196 [00:08<00:00, 23.27it/s]\n"
     ]
    },
    {
     "name": "stdout",
     "output_type": "stream",
     "text": [
      "[train] Epoch 170. 0.000766646714925544\n"
     ]
    },
    {
     "name": "stderr",
     "output_type": "stream",
     "text": [
      "Training:   1%|          | 2/196 [00:00<00:09, 19.82it/s]"
     ]
    },
    {
     "name": "stdout",
     "output_type": "stream",
     "text": [
      "[val] Epoch 170: 0.000813489059389245\n"
     ]
    },
    {
     "name": "stderr",
     "output_type": "stream",
     "text": [
      "Training: 100%|██████████| 196/196 [00:08<00:00, 23.37it/s]\n",
      "Training: 100%|██████████| 196/196 [00:08<00:00, 22.78it/s]\n",
      "Training: 100%|██████████| 196/196 [00:08<00:00, 23.43it/s]\n",
      "Training: 100%|██████████| 196/196 [00:08<00:00, 23.25it/s]\n",
      "Training: 100%|██████████| 196/196 [00:08<00:00, 23.07it/s]\n",
      "Training: 100%|██████████| 196/196 [00:08<00:00, 23.35it/s]\n",
      "Training: 100%|██████████| 196/196 [00:08<00:00, 23.29it/s]\n",
      "Training: 100%|██████████| 196/196 [00:08<00:00, 22.57it/s]\n",
      "Training: 100%|██████████| 196/196 [00:08<00:00, 23.33it/s]\n",
      "Training: 100%|██████████| 196/196 [00:08<00:00, 22.97it/s]\n"
     ]
    },
    {
     "name": "stdout",
     "output_type": "stream",
     "text": [
      "[train] Epoch 180. 0.0008324512289045649\n"
     ]
    },
    {
     "name": "stderr",
     "output_type": "stream",
     "text": [
      "Training:   2%|▏         | 3/196 [00:00<00:09, 20.61it/s]"
     ]
    },
    {
     "name": "stdout",
     "output_type": "stream",
     "text": [
      "[val] Epoch 180: 0.0008814556659925255\n"
     ]
    },
    {
     "name": "stderr",
     "output_type": "stream",
     "text": [
      "Training: 100%|██████████| 196/196 [00:08<00:00, 22.54it/s]\n",
      "Training: 100%|██████████| 196/196 [00:08<00:00, 22.77it/s]\n",
      "Training: 100%|██████████| 196/196 [00:08<00:00, 23.41it/s]\n",
      "Training: 100%|██████████| 196/196 [00:08<00:00, 23.38it/s]\n",
      "Training: 100%|██████████| 196/196 [00:08<00:00, 23.14it/s]\n",
      "Training: 100%|██████████| 196/196 [00:08<00:00, 23.28it/s]\n",
      "Training: 100%|██████████| 196/196 [00:08<00:00, 22.45it/s]\n",
      "Training: 100%|██████████| 196/196 [00:08<00:00, 23.30it/s]\n",
      "Training: 100%|██████████| 196/196 [00:08<00:00, 23.25it/s]\n",
      "Training: 100%|██████████| 196/196 [00:08<00:00, 23.27it/s]\n"
     ]
    },
    {
     "name": "stdout",
     "output_type": "stream",
     "text": [
      "[train] Epoch 190. 0.0009157703231318985\n"
     ]
    },
    {
     "name": "stderr",
     "output_type": "stream",
     "text": [
      "Training:   2%|▏         | 3/196 [00:00<00:09, 20.62it/s]"
     ]
    },
    {
     "name": "stdout",
     "output_type": "stream",
     "text": [
      "[val] Epoch 190: 0.0009614921019383296\n"
     ]
    },
    {
     "name": "stderr",
     "output_type": "stream",
     "text": [
      "Training: 100%|██████████| 196/196 [00:08<00:00, 23.48it/s]\n",
      "Training: 100%|██████████| 196/196 [00:08<00:00, 23.51it/s]\n",
      "Training: 100%|██████████| 196/196 [00:08<00:00, 23.48it/s]\n",
      "Training: 100%|██████████| 196/196 [00:08<00:00, 22.63it/s]\n",
      "Training: 100%|██████████| 196/196 [00:08<00:00, 23.14it/s]\n",
      "Training: 100%|██████████| 196/196 [00:08<00:00, 23.13it/s]\n",
      "Training: 100%|██████████| 196/196 [00:08<00:00, 22.77it/s]\n",
      "Training: 100%|██████████| 196/196 [00:08<00:00, 23.31it/s]\n",
      "Training: 100%|██████████| 196/196 [00:08<00:00, 23.24it/s]\n",
      "Training: 100%|██████████| 196/196 [00:08<00:00, 23.20it/s]\n"
     ]
    },
    {
     "name": "stdout",
     "output_type": "stream",
     "text": [
      "[train] Epoch 200. 0.0007094174266641038\n"
     ]
    },
    {
     "name": "stderr",
     "output_type": "stream",
     "text": [
      "Training:   2%|▏         | 3/196 [00:00<00:09, 21.16it/s]"
     ]
    },
    {
     "name": "stdout",
     "output_type": "stream",
     "text": [
      "[val] Epoch 200: 0.0007504221330032504\n"
     ]
    },
    {
     "name": "stderr",
     "output_type": "stream",
     "text": [
      "Training: 100%|██████████| 196/196 [00:08<00:00, 23.43it/s]\n",
      "Training: 100%|██████████| 196/196 [00:08<00:00, 23.62it/s]\n",
      "Training: 100%|██████████| 196/196 [00:08<00:00, 23.18it/s]\n",
      "Training: 100%|██████████| 196/196 [00:08<00:00, 23.17it/s]\n",
      "Training: 100%|██████████| 196/196 [00:08<00:00, 23.14it/s]\n",
      "Training: 100%|██████████| 196/196 [00:08<00:00, 22.83it/s]\n",
      "Training: 100%|██████████| 196/196 [00:08<00:00, 23.17it/s]\n",
      "Training: 100%|██████████| 196/196 [00:08<00:00, 23.27it/s]\n",
      "Training: 100%|██████████| 196/196 [00:08<00:00, 23.24it/s]\n",
      "Training: 100%|██████████| 196/196 [00:08<00:00, 23.04it/s]\n"
     ]
    },
    {
     "name": "stdout",
     "output_type": "stream",
     "text": [
      "[train] Epoch 210. 0.0006771427767837151\n"
     ]
    },
    {
     "name": "stderr",
     "output_type": "stream",
     "text": [
      "Training:   2%|▏         | 3/196 [00:00<00:09, 20.73it/s]"
     ]
    },
    {
     "name": "stdout",
     "output_type": "stream",
     "text": [
      "[val] Epoch 210: 0.0007206859339235637\n"
     ]
    },
    {
     "name": "stderr",
     "output_type": "stream",
     "text": [
      "Training: 100%|██████████| 196/196 [00:08<00:00, 23.50it/s]\n",
      "Training: 100%|██████████| 196/196 [00:08<00:00, 23.24it/s]\n",
      "Training: 100%|██████████| 196/196 [00:08<00:00, 23.40it/s]\n",
      "Training: 100%|██████████| 196/196 [00:08<00:00, 23.39it/s]\n",
      "Training: 100%|██████████| 196/196 [00:08<00:00, 23.17it/s]\n",
      "Training: 100%|██████████| 196/196 [00:08<00:00, 23.12it/s]\n",
      "Training: 100%|██████████| 196/196 [00:08<00:00, 23.12it/s]\n",
      "Training: 100%|██████████| 196/196 [00:08<00:00, 23.30it/s]\n",
      "Training: 100%|██████████| 196/196 [00:08<00:00, 23.03it/s]\n",
      "Training: 100%|██████████| 196/196 [00:08<00:00, 22.08it/s]\n"
     ]
    },
    {
     "name": "stdout",
     "output_type": "stream",
     "text": [
      "[train] Epoch 220. 0.0007742465748536812\n"
     ]
    },
    {
     "name": "stderr",
     "output_type": "stream",
     "text": [
      "Training:   2%|▏         | 3/196 [00:00<00:09, 20.68it/s]"
     ]
    },
    {
     "name": "stdout",
     "output_type": "stream",
     "text": [
      "[val] Epoch 220: 0.0008188612477726816\n"
     ]
    },
    {
     "name": "stderr",
     "output_type": "stream",
     "text": [
      "Training: 100%|██████████| 196/196 [00:08<00:00, 23.50it/s]\n",
      "Training: 100%|██████████| 196/196 [00:08<00:00, 23.45it/s]\n",
      "Training: 100%|██████████| 196/196 [00:08<00:00, 23.19it/s]\n",
      "Training: 100%|██████████| 196/196 [00:08<00:00, 23.34it/s]\n",
      "Training: 100%|██████████| 196/196 [00:08<00:00, 22.98it/s]\n",
      "Training: 100%|██████████| 196/196 [00:08<00:00, 22.66it/s]\n",
      "Training: 100%|██████████| 196/196 [00:08<00:00, 22.70it/s]\n",
      "Training: 100%|██████████| 196/196 [00:08<00:00, 23.22it/s]\n",
      "Training: 100%|██████████| 196/196 [00:08<00:00, 23.22it/s]\n",
      "Training: 100%|██████████| 196/196 [00:08<00:00, 23.20it/s]\n"
     ]
    },
    {
     "name": "stdout",
     "output_type": "stream",
     "text": [
      "[train] Epoch 230. 0.0005719470188702878\n"
     ]
    },
    {
     "name": "stderr",
     "output_type": "stream",
     "text": [
      "Training:   1%|          | 2/196 [00:00<00:09, 19.85it/s]"
     ]
    },
    {
     "name": "stdout",
     "output_type": "stream",
     "text": [
      "[val] Epoch 230: 0.0006101012952340194\n"
     ]
    },
    {
     "name": "stderr",
     "output_type": "stream",
     "text": [
      "Training: 100%|██████████| 196/196 [00:08<00:00, 23.77it/s]\n",
      "Training: 100%|██████████| 196/196 [00:08<00:00, 23.48it/s]\n",
      "Training: 100%|██████████| 196/196 [00:08<00:00, 23.36it/s]\n",
      "Training: 100%|██████████| 196/196 [00:08<00:00, 23.22it/s]\n",
      "Training: 100%|██████████| 196/196 [00:08<00:00, 23.21it/s]\n",
      "Training: 100%|██████████| 196/196 [00:08<00:00, 23.21it/s]\n",
      "Training: 100%|██████████| 196/196 [00:08<00:00, 23.31it/s]\n",
      "Training: 100%|██████████| 196/196 [00:08<00:00, 23.47it/s]\n",
      "Training: 100%|██████████| 196/196 [00:08<00:00, 22.98it/s]\n",
      "Training: 100%|██████████| 196/196 [00:08<00:00, 22.99it/s]\n"
     ]
    },
    {
     "name": "stdout",
     "output_type": "stream",
     "text": [
      "[train] Epoch 240. 0.0005926391763511397\n"
     ]
    },
    {
     "name": "stderr",
     "output_type": "stream",
     "text": [
      "Training:   2%|▏         | 3/196 [00:00<00:09, 20.76it/s]"
     ]
    },
    {
     "name": "stdout",
     "output_type": "stream",
     "text": [
      "[val] Epoch 240: 0.0006322736284784211\n"
     ]
    },
    {
     "name": "stderr",
     "output_type": "stream",
     "text": [
      "Training: 100%|██████████| 196/196 [00:08<00:00, 23.91it/s]\n",
      "Training: 100%|██████████| 196/196 [00:08<00:00, 22.83it/s]\n",
      "Training: 100%|██████████| 196/196 [00:08<00:00, 23.21it/s]\n",
      "Training: 100%|██████████| 196/196 [00:08<00:00, 22.60it/s]\n",
      "Training: 100%|██████████| 196/196 [00:08<00:00, 23.35it/s]\n",
      "Training: 100%|██████████| 196/196 [00:08<00:00, 23.32it/s]\n",
      "Training: 100%|██████████| 196/196 [00:08<00:00, 23.35it/s]\n",
      "Training: 100%|██████████| 196/196 [00:08<00:00, 23.29it/s]\n",
      "Training: 100%|██████████| 196/196 [00:08<00:00, 23.21it/s]\n",
      "Training: 100%|██████████| 196/196 [00:08<00:00, 23.28it/s]\n"
     ]
    },
    {
     "name": "stdout",
     "output_type": "stream",
     "text": [
      "[train] Epoch 250. 0.0005635629746000943\n"
     ]
    },
    {
     "name": "stderr",
     "output_type": "stream",
     "text": [
      "Training:   2%|▏         | 3/196 [00:00<00:09, 20.37it/s]"
     ]
    },
    {
     "name": "stdout",
     "output_type": "stream",
     "text": [
      "[val] Epoch 250: 0.0006050127454245959\n"
     ]
    },
    {
     "name": "stderr",
     "output_type": "stream",
     "text": [
      "Training: 100%|██████████| 196/196 [00:08<00:00, 23.46it/s]\n",
      "Training: 100%|██████████| 196/196 [00:08<00:00, 23.40it/s]\n",
      "Training: 100%|██████████| 196/196 [00:08<00:00, 23.49it/s]\n",
      "Training: 100%|██████████| 196/196 [00:08<00:00, 23.41it/s]\n",
      "Training: 100%|██████████| 196/196 [00:08<00:00, 23.46it/s]\n",
      "Training: 100%|██████████| 196/196 [00:08<00:00, 23.59it/s]\n",
      "Training: 100%|██████████| 196/196 [00:08<00:00, 23.56it/s]\n",
      "Training: 100%|██████████| 196/196 [00:08<00:00, 23.06it/s]\n",
      "Training: 100%|██████████| 196/196 [00:08<00:00, 23.12it/s]\n",
      "Training: 100%|██████████| 196/196 [00:08<00:00, 22.39it/s]\n"
     ]
    },
    {
     "name": "stdout",
     "output_type": "stream",
     "text": [
      "[train] Epoch 260. 0.0005629930954899012\n"
     ]
    },
    {
     "name": "stderr",
     "output_type": "stream",
     "text": [
      "Training:   2%|▏         | 3/196 [00:00<00:09, 21.13it/s]"
     ]
    },
    {
     "name": "stdout",
     "output_type": "stream",
     "text": [
      "[val] Epoch 260: 0.0006012874225038662\n"
     ]
    },
    {
     "name": "stderr",
     "output_type": "stream",
     "text": [
      "Training: 100%|██████████| 196/196 [00:08<00:00, 23.19it/s]\n",
      "Training: 100%|██████████| 196/196 [00:08<00:00, 23.50it/s]\n",
      "Training: 100%|██████████| 196/196 [00:08<00:00, 22.82it/s]\n",
      "Training: 100%|██████████| 196/196 [00:08<00:00, 23.37it/s]\n",
      "Training: 100%|██████████| 196/196 [00:08<00:00, 23.38it/s]\n",
      "Training: 100%|██████████| 196/196 [00:08<00:00, 22.40it/s]\n",
      "Training: 100%|██████████| 196/196 [00:08<00:00, 23.37it/s]\n",
      "Training: 100%|██████████| 196/196 [00:08<00:00, 23.34it/s]\n",
      "Training: 100%|██████████| 196/196 [00:08<00:00, 22.12it/s]\n",
      "Training: 100%|██████████| 196/196 [00:08<00:00, 22.67it/s]\n"
     ]
    },
    {
     "name": "stdout",
     "output_type": "stream",
     "text": [
      "[train] Epoch 270. 0.0005359089058808057\n"
     ]
    },
    {
     "name": "stderr",
     "output_type": "stream",
     "text": [
      "Training:   2%|▏         | 3/196 [00:00<00:09, 21.07it/s]"
     ]
    },
    {
     "name": "stdout",
     "output_type": "stream",
     "text": [
      "[val] Epoch 270: 0.00057410399859949\n"
     ]
    },
    {
     "name": "stderr",
     "output_type": "stream",
     "text": [
      "Training: 100%|██████████| 196/196 [00:08<00:00, 23.61it/s]\n",
      "Training: 100%|██████████| 196/196 [00:08<00:00, 23.55it/s]\n",
      "Training: 100%|██████████| 196/196 [00:08<00:00, 23.51it/s]\n",
      "Training: 100%|██████████| 196/196 [00:08<00:00, 22.62it/s]\n",
      "Training: 100%|██████████| 196/196 [00:08<00:00, 23.17it/s]\n",
      "Training: 100%|██████████| 196/196 [00:08<00:00, 23.19it/s]\n",
      "Training: 100%|██████████| 196/196 [00:08<00:00, 23.37it/s]\n",
      "Training: 100%|██████████| 196/196 [00:08<00:00, 22.68it/s]\n",
      "Training: 100%|██████████| 196/196 [00:08<00:00, 22.63it/s]\n",
      "Training: 100%|██████████| 196/196 [00:08<00:00, 23.29it/s]\n"
     ]
    },
    {
     "name": "stdout",
     "output_type": "stream",
     "text": [
      "[train] Epoch 280. 0.0005650781541088895\n"
     ]
    },
    {
     "name": "stderr",
     "output_type": "stream",
     "text": [
      "Training:   2%|▏         | 3/196 [00:00<00:09, 21.19it/s]"
     ]
    },
    {
     "name": "stdout",
     "output_type": "stream",
     "text": [
      "[val] Epoch 280: 0.0006014158102841913\n"
     ]
    },
    {
     "name": "stderr",
     "output_type": "stream",
     "text": [
      "Training: 100%|██████████| 196/196 [00:08<00:00, 23.57it/s]\n",
      "Training: 100%|██████████| 196/196 [00:08<00:00, 23.31it/s]\n",
      "Training: 100%|██████████| 196/196 [00:08<00:00, 23.51it/s]\n",
      "Training: 100%|██████████| 196/196 [00:08<00:00, 22.54it/s]\n",
      "Training: 100%|██████████| 196/196 [00:08<00:00, 23.40it/s]\n",
      "Training: 100%|██████████| 196/196 [00:08<00:00, 22.23it/s]\n",
      "Training: 100%|██████████| 196/196 [00:08<00:00, 22.44it/s]\n",
      "Training: 100%|██████████| 196/196 [00:08<00:00, 22.57it/s]\n",
      "Training: 100%|██████████| 196/196 [00:08<00:00, 23.28it/s]\n",
      "Training: 100%|██████████| 196/196 [00:08<00:00, 22.93it/s]\n"
     ]
    },
    {
     "name": "stdout",
     "output_type": "stream",
     "text": [
      "[train] Epoch 290. 0.0005553239366407263\n"
     ]
    },
    {
     "name": "stderr",
     "output_type": "stream",
     "text": [
      "Training:   2%|▏         | 3/196 [00:00<00:09, 21.22it/s]"
     ]
    },
    {
     "name": "stdout",
     "output_type": "stream",
     "text": [
      "[val] Epoch 290: 0.000593196476466939\n"
     ]
    },
    {
     "name": "stderr",
     "output_type": "stream",
     "text": [
      "Training: 100%|██████████| 196/196 [00:08<00:00, 23.54it/s]\n",
      "Training: 100%|██████████| 196/196 [00:08<00:00, 23.34it/s]\n",
      "Training: 100%|██████████| 196/196 [00:08<00:00, 23.51it/s]\n",
      "Training: 100%|██████████| 196/196 [00:08<00:00, 23.62it/s]\n",
      "Training: 100%|██████████| 196/196 [00:08<00:00, 23.19it/s]\n",
      "Training: 100%|██████████| 196/196 [00:08<00:00, 23.35it/s]\n",
      "Training: 100%|██████████| 196/196 [00:08<00:00, 23.32it/s]\n",
      "Training: 100%|██████████| 196/196 [00:08<00:00, 23.07it/s]\n",
      "Training: 100%|██████████| 196/196 [00:08<00:00, 23.17it/s]\n",
      "Training: 100%|██████████| 196/196 [00:08<00:00, 23.33it/s]\n"
     ]
    },
    {
     "name": "stdout",
     "output_type": "stream",
     "text": [
      "[train] Epoch 300. 0.0005958692412555974\n"
     ]
    },
    {
     "name": "stderr",
     "output_type": "stream",
     "text": [
      "Training:   2%|▏         | 3/196 [00:00<00:09, 21.23it/s]"
     ]
    },
    {
     "name": "stdout",
     "output_type": "stream",
     "text": [
      "[val] Epoch 300: 0.0006371248968336333\n"
     ]
    },
    {
     "name": "stderr",
     "output_type": "stream",
     "text": [
      "Training: 100%|██████████| 196/196 [00:08<00:00, 23.65it/s]\n",
      "Training: 100%|██████████| 196/196 [00:08<00:00, 23.33it/s]\n",
      "Training: 100%|██████████| 196/196 [00:08<00:00, 22.92it/s]\n",
      "Training: 100%|██████████| 196/196 [00:08<00:00, 23.40it/s]\n",
      "Training: 100%|██████████| 196/196 [00:08<00:00, 23.44it/s]\n",
      "Training: 100%|██████████| 196/196 [00:08<00:00, 22.82it/s]\n",
      "Training: 100%|██████████| 196/196 [00:08<00:00, 23.37it/s]\n",
      "Training: 100%|██████████| 196/196 [00:08<00:00, 22.61it/s]\n",
      "Training: 100%|██████████| 196/196 [00:08<00:00, 23.33it/s]\n",
      "Training: 100%|██████████| 196/196 [00:08<00:00, 23.31it/s]\n"
     ]
    },
    {
     "name": "stdout",
     "output_type": "stream",
     "text": [
      "[train] Epoch 310. 0.0006442276226624866\n"
     ]
    },
    {
     "name": "stderr",
     "output_type": "stream",
     "text": [
      "Training:   2%|▏         | 3/196 [00:00<00:09, 20.72it/s]"
     ]
    },
    {
     "name": "stdout",
     "output_type": "stream",
     "text": [
      "[val] Epoch 310: 0.000683624567291889\n"
     ]
    },
    {
     "name": "stderr",
     "output_type": "stream",
     "text": [
      "Training: 100%|██████████| 196/196 [00:08<00:00, 22.91it/s]\n",
      "Training: 100%|██████████| 196/196 [00:08<00:00, 23.59it/s]\n",
      "Training: 100%|██████████| 196/196 [00:08<00:00, 22.49it/s]\n",
      "Training: 100%|██████████| 196/196 [00:08<00:00, 23.35it/s]\n",
      "Training: 100%|██████████| 196/196 [00:08<00:00, 22.31it/s]\n",
      "Training: 100%|██████████| 196/196 [00:08<00:00, 23.39it/s]\n",
      "Training: 100%|██████████| 196/196 [00:08<00:00, 23.39it/s]\n",
      "Training: 100%|██████████| 196/196 [00:08<00:00, 23.10it/s]\n",
      "Training: 100%|██████████| 196/196 [00:08<00:00, 21.84it/s]\n",
      "Training: 100%|██████████| 196/196 [00:08<00:00, 22.42it/s]\n"
     ]
    },
    {
     "name": "stdout",
     "output_type": "stream",
     "text": [
      "[train] Epoch 320. 0.0006862594211780981\n"
     ]
    },
    {
     "name": "stderr",
     "output_type": "stream",
     "text": [
      "Training:   2%|▏         | 3/196 [00:00<00:09, 21.06it/s]"
     ]
    },
    {
     "name": "stdout",
     "output_type": "stream",
     "text": [
      "[val] Epoch 320: 0.0007252908857956258\n"
     ]
    },
    {
     "name": "stderr",
     "output_type": "stream",
     "text": [
      "Training: 100%|██████████| 196/196 [00:08<00:00, 23.59it/s]\n",
      "Training: 100%|██████████| 196/196 [00:08<00:00, 22.59it/s]\n",
      "Training: 100%|██████████| 196/196 [00:08<00:00, 23.26it/s]\n",
      "Training: 100%|██████████| 196/196 [00:08<00:00, 23.38it/s]\n",
      "Training: 100%|██████████| 196/196 [00:08<00:00, 23.15it/s]\n",
      "Training: 100%|██████████| 196/196 [00:08<00:00, 23.11it/s]\n",
      "Training: 100%|██████████| 196/196 [00:08<00:00, 23.27it/s]\n",
      "Training: 100%|██████████| 196/196 [00:08<00:00, 23.13it/s]\n",
      "Training: 100%|██████████| 196/196 [00:08<00:00, 23.31it/s]\n",
      "Training: 100%|██████████| 196/196 [00:08<00:00, 23.26it/s]\n"
     ]
    },
    {
     "name": "stdout",
     "output_type": "stream",
     "text": [
      "[train] Epoch 330. 0.0004962174179854411\n"
     ]
    },
    {
     "name": "stderr",
     "output_type": "stream",
     "text": [
      "Training:   2%|▏         | 3/196 [00:00<00:09, 20.73it/s]"
     ]
    },
    {
     "name": "stdout",
     "output_type": "stream",
     "text": [
      "[val] Epoch 330: 0.000533787203793608\n"
     ]
    },
    {
     "name": "stderr",
     "output_type": "stream",
     "text": [
      "Training: 100%|██████████| 196/196 [00:08<00:00, 23.60it/s]\n",
      "Training: 100%|██████████| 196/196 [00:08<00:00, 23.22it/s]\n",
      "Training: 100%|██████████| 196/196 [00:08<00:00, 23.49it/s]\n",
      "Training: 100%|██████████| 196/196 [00:08<00:00, 23.39it/s]\n",
      "Training: 100%|██████████| 196/196 [00:08<00:00, 23.39it/s]\n",
      "Training: 100%|██████████| 196/196 [00:08<00:00, 23.11it/s]\n",
      "Training: 100%|██████████| 196/196 [00:08<00:00, 23.16it/s]\n",
      "Training: 100%|██████████| 196/196 [00:08<00:00, 23.31it/s]\n",
      "Training: 100%|██████████| 196/196 [00:08<00:00, 23.32it/s]\n",
      "Training: 100%|██████████| 196/196 [00:08<00:00, 23.36it/s]\n"
     ]
    },
    {
     "name": "stdout",
     "output_type": "stream",
     "text": [
      "[train] Epoch 340. 0.0004805938332428556\n"
     ]
    },
    {
     "name": "stderr",
     "output_type": "stream",
     "text": [
      "Training:   1%|          | 2/196 [00:00<00:13, 13.94it/s]"
     ]
    },
    {
     "name": "stdout",
     "output_type": "stream",
     "text": [
      "[val] Epoch 340: 0.0005190475616326361\n"
     ]
    },
    {
     "name": "stderr",
     "output_type": "stream",
     "text": [
      "Training: 100%|██████████| 196/196 [00:08<00:00, 23.36it/s]\n",
      "Training: 100%|██████████| 196/196 [00:08<00:00, 22.86it/s]\n",
      "Training: 100%|██████████| 196/196 [00:08<00:00, 23.54it/s]\n",
      "Training: 100%|██████████| 196/196 [00:08<00:00, 23.69it/s]\n",
      "Training: 100%|██████████| 196/196 [00:08<00:00, 23.43it/s]\n",
      "Training: 100%|██████████| 196/196 [00:08<00:00, 22.89it/s]\n",
      "Training: 100%|██████████| 196/196 [00:08<00:00, 22.02it/s]\n",
      "Training: 100%|██████████| 196/196 [00:08<00:00, 23.05it/s]\n",
      "Training: 100%|██████████| 196/196 [00:08<00:00, 23.30it/s]\n",
      "Training: 100%|██████████| 196/196 [00:08<00:00, 23.27it/s]\n"
     ]
    },
    {
     "name": "stdout",
     "output_type": "stream",
     "text": [
      "[train] Epoch 350. 0.0004992103495216394\n"
     ]
    },
    {
     "name": "stderr",
     "output_type": "stream",
     "text": [
      "Training:   2%|▏         | 3/196 [00:00<00:09, 21.04it/s]"
     ]
    },
    {
     "name": "stdout",
     "output_type": "stream",
     "text": [
      "[val] Epoch 350: 0.0005331193605189719\n"
     ]
    },
    {
     "name": "stderr",
     "output_type": "stream",
     "text": [
      "Training: 100%|██████████| 196/196 [00:08<00:00, 22.91it/s]\n",
      "Training: 100%|██████████| 196/196 [00:08<00:00, 23.30it/s]\n",
      "Training: 100%|██████████| 196/196 [00:08<00:00, 22.82it/s]\n",
      "Training: 100%|██████████| 196/196 [00:08<00:00, 23.13it/s]\n",
      "Training: 100%|██████████| 196/196 [00:08<00:00, 23.35it/s]\n",
      "Training: 100%|██████████| 196/196 [00:08<00:00, 22.70it/s]\n",
      "Training: 100%|██████████| 196/196 [00:08<00:00, 23.29it/s]\n",
      "Training: 100%|██████████| 196/196 [00:08<00:00, 23.28it/s]\n",
      "Training: 100%|██████████| 196/196 [00:08<00:00, 22.65it/s]\n",
      "Training: 100%|██████████| 196/196 [00:08<00:00, 23.18it/s]\n"
     ]
    },
    {
     "name": "stdout",
     "output_type": "stream",
     "text": [
      "[train] Epoch 360. 0.0005199086040133616\n"
     ]
    },
    {
     "name": "stderr",
     "output_type": "stream",
     "text": [
      "Training:   1%|          | 2/196 [00:00<00:14, 13.54it/s]"
     ]
    },
    {
     "name": "stdout",
     "output_type": "stream",
     "text": [
      "[val] Epoch 360: 0.0005541050712298389\n"
     ]
    },
    {
     "name": "stderr",
     "output_type": "stream",
     "text": [
      "Training: 100%|██████████| 196/196 [00:08<00:00, 23.21it/s]\n",
      "Training: 100%|██████████| 196/196 [00:08<00:00, 22.12it/s]\n",
      "Training: 100%|██████████| 196/196 [00:08<00:00, 23.67it/s]\n",
      "Training: 100%|██████████| 196/196 [00:08<00:00, 23.10it/s]\n",
      "Training: 100%|██████████| 196/196 [00:08<00:00, 23.12it/s]\n",
      "Training: 100%|██████████| 196/196 [00:08<00:00, 23.05it/s]\n",
      "Training: 100%|██████████| 196/196 [00:08<00:00, 23.02it/s]\n",
      "Training: 100%|██████████| 196/196 [00:08<00:00, 22.55it/s]\n",
      "Training: 100%|██████████| 196/196 [00:08<00:00, 22.99it/s]\n",
      "Training: 100%|██████████| 196/196 [00:08<00:00, 22.93it/s]\n"
     ]
    },
    {
     "name": "stdout",
     "output_type": "stream",
     "text": [
      "[train] Epoch 370. 0.0005092462285189643\n"
     ]
    },
    {
     "name": "stderr",
     "output_type": "stream",
     "text": [
      "Training:   1%|          | 2/196 [00:00<00:09, 19.76it/s]"
     ]
    },
    {
     "name": "stdout",
     "output_type": "stream",
     "text": [
      "[val] Epoch 370: 0.0005431401542619757\n"
     ]
    },
    {
     "name": "stderr",
     "output_type": "stream",
     "text": [
      "Training: 100%|██████████| 196/196 [00:08<00:00, 22.83it/s]\n",
      "Training: 100%|██████████| 196/196 [00:08<00:00, 23.26it/s]\n",
      "Training: 100%|██████████| 196/196 [00:08<00:00, 22.20it/s]\n",
      "Training: 100%|██████████| 196/196 [00:08<00:00, 22.51it/s]\n",
      "Training: 100%|██████████| 196/196 [00:08<00:00, 23.04it/s]\n",
      "Training: 100%|██████████| 196/196 [00:08<00:00, 23.27it/s]\n",
      "Training: 100%|██████████| 196/196 [00:08<00:00, 23.25it/s]\n",
      "Training: 100%|██████████| 196/196 [00:08<00:00, 23.16it/s]\n",
      "Training: 100%|██████████| 196/196 [00:08<00:00, 23.12it/s]\n",
      "Training: 100%|██████████| 196/196 [00:08<00:00, 22.26it/s]\n"
     ]
    },
    {
     "name": "stdout",
     "output_type": "stream",
     "text": [
      "[train] Epoch 380. 0.0004908923599541018\n"
     ]
    },
    {
     "name": "stderr",
     "output_type": "stream",
     "text": [
      "Training:   1%|          | 2/196 [00:00<00:14, 13.78it/s]"
     ]
    },
    {
     "name": "stdout",
     "output_type": "stream",
     "text": [
      "[val] Epoch 380: 0.0005261350577143598\n"
     ]
    },
    {
     "name": "stderr",
     "output_type": "stream",
     "text": [
      "Training: 100%|██████████| 196/196 [00:08<00:00, 22.54it/s]\n",
      "Training: 100%|██████████| 196/196 [00:08<00:00, 22.50it/s]\n",
      "Training: 100%|██████████| 196/196 [00:08<00:00, 23.30it/s]\n",
      "Training: 100%|██████████| 196/196 [00:08<00:00, 23.65it/s]\n",
      "Training: 100%|██████████| 196/196 [00:08<00:00, 23.67it/s]\n",
      "Training: 100%|██████████| 196/196 [00:08<00:00, 23.66it/s]\n",
      "Training: 100%|██████████| 196/196 [00:08<00:00, 23.10it/s]\n",
      "Training: 100%|██████████| 196/196 [00:08<00:00, 23.05it/s]\n",
      "Training: 100%|██████████| 196/196 [00:08<00:00, 23.59it/s]\n",
      "Training: 100%|██████████| 196/196 [00:08<00:00, 22.97it/s]\n"
     ]
    },
    {
     "name": "stdout",
     "output_type": "stream",
     "text": [
      "[train] Epoch 390. 0.0005893791644285697\n"
     ]
    },
    {
     "name": "stderr",
     "output_type": "stream",
     "text": [
      "Training:   1%|          | 2/196 [00:00<00:13, 14.22it/s]"
     ]
    },
    {
     "name": "stdout",
     "output_type": "stream",
     "text": [
      "[val] Epoch 390: 0.0006278553819760163\n"
     ]
    },
    {
     "name": "stderr",
     "output_type": "stream",
     "text": [
      "Training: 100%|██████████| 196/196 [00:08<00:00, 23.31it/s]\n",
      "Training: 100%|██████████| 196/196 [00:08<00:00, 23.29it/s]\n",
      "Training: 100%|██████████| 196/196 [00:08<00:00, 22.70it/s]\n",
      "Training: 100%|██████████| 196/196 [00:08<00:00, 23.66it/s]\n",
      "Training: 100%|██████████| 196/196 [00:08<00:00, 23.17it/s]\n",
      "Training: 100%|██████████| 196/196 [00:08<00:00, 23.19it/s]\n",
      "Training: 100%|██████████| 196/196 [00:08<00:00, 23.19it/s]\n",
      "Training: 100%|██████████| 196/196 [00:08<00:00, 23.09it/s]\n",
      "Training: 100%|██████████| 196/196 [00:08<00:00, 23.55it/s]\n",
      "Training: 100%|██████████| 196/196 [00:08<00:00, 23.46it/s]\n"
     ]
    },
    {
     "name": "stdout",
     "output_type": "stream",
     "text": [
      "[train] Epoch 400. 0.0004368490272594689\n"
     ]
    },
    {
     "name": "stderr",
     "output_type": "stream",
     "text": [
      "Training:   1%|          | 2/196 [00:00<00:13, 14.13it/s]"
     ]
    },
    {
     "name": "stdout",
     "output_type": "stream",
     "text": [
      "[val] Epoch 400: 0.00047124709716599275\n"
     ]
    },
    {
     "name": "stderr",
     "output_type": "stream",
     "text": [
      "Training: 100%|██████████| 196/196 [00:08<00:00, 22.78it/s]\n",
      "Training: 100%|██████████| 196/196 [00:08<00:00, 23.42it/s]\n",
      "Training: 100%|██████████| 196/196 [00:08<00:00, 22.81it/s]\n",
      "Training: 100%|██████████| 196/196 [00:08<00:00, 23.17it/s]\n",
      "Training: 100%|██████████| 196/196 [00:08<00:00, 23.31it/s]\n",
      "Training: 100%|██████████| 196/196 [00:08<00:00, 22.84it/s]\n",
      "Training: 100%|██████████| 196/196 [00:08<00:00, 23.34it/s]\n",
      "Training: 100%|██████████| 196/196 [00:08<00:00, 23.05it/s]\n",
      "Training: 100%|██████████| 196/196 [00:08<00:00, 23.12it/s]\n",
      "Training: 100%|██████████| 196/196 [00:08<00:00, 23.36it/s]\n"
     ]
    },
    {
     "name": "stdout",
     "output_type": "stream",
     "text": [
      "[train] Epoch 410. 0.0005004874827174066\n"
     ]
    },
    {
     "name": "stderr",
     "output_type": "stream",
     "text": [
      "Training:   1%|          | 2/196 [00:00<00:10, 19.30it/s]"
     ]
    },
    {
     "name": "stdout",
     "output_type": "stream",
     "text": [
      "[val] Epoch 410: 0.0005341053094629494\n"
     ]
    },
    {
     "name": "stderr",
     "output_type": "stream",
     "text": [
      "Training: 100%|██████████| 196/196 [00:08<00:00, 23.60it/s]\n",
      "Training: 100%|██████████| 196/196 [00:08<00:00, 22.67it/s]\n",
      "Training: 100%|██████████| 196/196 [00:08<00:00, 23.53it/s]\n",
      "Training: 100%|██████████| 196/196 [00:08<00:00, 23.43it/s]\n",
      "Training: 100%|██████████| 196/196 [00:08<00:00, 22.69it/s]\n",
      "Training: 100%|██████████| 196/196 [00:08<00:00, 22.33it/s]\n",
      "Training: 100%|██████████| 196/196 [00:08<00:00, 22.82it/s]\n",
      "Training: 100%|██████████| 196/196 [00:08<00:00, 23.32it/s]\n",
      "Training: 100%|██████████| 196/196 [00:08<00:00, 23.33it/s]\n",
      "Training: 100%|██████████| 196/196 [00:08<00:00, 23.32it/s]\n"
     ]
    },
    {
     "name": "stdout",
     "output_type": "stream",
     "text": [
      "[train] Epoch 420. 0.0005117053722570675\n"
     ]
    },
    {
     "name": "stderr",
     "output_type": "stream",
     "text": [
      "Training:   1%|          | 2/196 [00:00<00:09, 19.66it/s]"
     ]
    },
    {
     "name": "stdout",
     "output_type": "stream",
     "text": [
      "[val] Epoch 420: 0.0005474269344314249\n"
     ]
    },
    {
     "name": "stderr",
     "output_type": "stream",
     "text": [
      "Training: 100%|██████████| 196/196 [00:08<00:00, 23.50it/s]\n",
      "Training: 100%|██████████| 196/196 [00:08<00:00, 23.54it/s]\n",
      "Training: 100%|██████████| 196/196 [00:08<00:00, 23.49it/s]\n",
      "Training: 100%|██████████| 196/196 [00:08<00:00, 23.27it/s]\n",
      "Training: 100%|██████████| 196/196 [00:08<00:00, 23.42it/s]\n",
      "Training: 100%|██████████| 196/196 [00:08<00:00, 23.34it/s]\n",
      "Training: 100%|██████████| 196/196 [00:08<00:00, 23.17it/s]\n",
      "Training: 100%|██████████| 196/196 [00:08<00:00, 22.91it/s]\n",
      "Training: 100%|██████████| 196/196 [00:08<00:00, 23.07it/s]\n",
      "Training: 100%|██████████| 196/196 [00:08<00:00, 22.35it/s]\n"
     ]
    },
    {
     "name": "stdout",
     "output_type": "stream",
     "text": [
      "[train] Epoch 430. 0.0004566981308268551\n"
     ]
    },
    {
     "name": "stderr",
     "output_type": "stream",
     "text": [
      "Training:   2%|▏         | 3/196 [00:00<00:09, 21.25it/s]"
     ]
    },
    {
     "name": "stdout",
     "output_type": "stream",
     "text": [
      "[val] Epoch 430: 0.0004883090977672311\n"
     ]
    },
    {
     "name": "stderr",
     "output_type": "stream",
     "text": [
      "Training: 100%|██████████| 196/196 [00:08<00:00, 23.55it/s]\n",
      "Training: 100%|██████████| 196/196 [00:08<00:00, 22.96it/s]\n",
      "Training: 100%|██████████| 196/196 [00:08<00:00, 23.47it/s]\n",
      "Training: 100%|██████████| 196/196 [00:08<00:00, 22.85it/s]\n",
      "Training: 100%|██████████| 196/196 [00:08<00:00, 22.64it/s]\n",
      "Training: 100%|██████████| 196/196 [00:08<00:00, 23.42it/s]\n",
      "Training: 100%|██████████| 196/196 [00:08<00:00, 23.17it/s]\n",
      "Training: 100%|██████████| 196/196 [00:08<00:00, 23.36it/s]\n",
      "Training: 100%|██████████| 196/196 [00:08<00:00, 23.13it/s]\n",
      "Training: 100%|██████████| 196/196 [00:08<00:00, 23.38it/s]\n"
     ]
    },
    {
     "name": "stdout",
     "output_type": "stream",
     "text": [
      "[train] Epoch 440. 0.000464469710174093\n"
     ]
    },
    {
     "name": "stderr",
     "output_type": "stream",
     "text": [
      "Training:   2%|▏         | 3/196 [00:00<00:09, 21.13it/s]"
     ]
    },
    {
     "name": "stdout",
     "output_type": "stream",
     "text": [
      "[val] Epoch 440: 0.0004994516369308346\n"
     ]
    },
    {
     "name": "stderr",
     "output_type": "stream",
     "text": [
      "Training: 100%|██████████| 196/196 [00:08<00:00, 23.57it/s]\n",
      "Training: 100%|██████████| 196/196 [00:08<00:00, 23.56it/s]\n",
      "Training: 100%|██████████| 196/196 [00:08<00:00, 22.99it/s]\n",
      "Training: 100%|██████████| 196/196 [00:08<00:00, 23.26it/s]\n",
      "Training: 100%|██████████| 196/196 [00:08<00:00, 23.17it/s]\n",
      "Training: 100%|██████████| 196/196 [00:08<00:00, 23.09it/s]\n",
      "Training: 100%|██████████| 196/196 [00:08<00:00, 22.52it/s]\n",
      "Training: 100%|██████████| 196/196 [00:08<00:00, 22.94it/s]\n",
      "Training: 100%|██████████| 196/196 [00:08<00:00, 23.08it/s]\n",
      "Training: 100%|██████████| 196/196 [00:08<00:00, 23.15it/s]\n"
     ]
    },
    {
     "name": "stdout",
     "output_type": "stream",
     "text": [
      "[train] Epoch 450. 0.0003935653002038268\n"
     ]
    },
    {
     "name": "stderr",
     "output_type": "stream",
     "text": [
      "Training:   2%|▏         | 3/196 [00:00<00:09, 20.65it/s]"
     ]
    },
    {
     "name": "stdout",
     "output_type": "stream",
     "text": [
      "[val] Epoch 450: 0.0004251242651695832\n"
     ]
    },
    {
     "name": "stderr",
     "output_type": "stream",
     "text": [
      "Training: 100%|██████████| 196/196 [00:08<00:00, 23.61it/s]\n",
      "Training: 100%|██████████| 196/196 [00:08<00:00, 23.40it/s]\n",
      "Training: 100%|██████████| 196/196 [00:08<00:00, 22.85it/s]\n",
      "Training: 100%|██████████| 196/196 [00:08<00:00, 22.85it/s]\n",
      "Training: 100%|██████████| 196/196 [00:08<00:00, 22.64it/s]\n",
      "Training: 100%|██████████| 196/196 [00:08<00:00, 23.39it/s]\n",
      "Training: 100%|██████████| 196/196 [00:08<00:00, 22.97it/s]\n",
      "Training: 100%|██████████| 196/196 [00:08<00:00, 23.84it/s]\n",
      "Training: 100%|██████████| 196/196 [00:08<00:00, 23.92it/s]\n",
      "Training: 100%|██████████| 196/196 [00:08<00:00, 23.94it/s]\n"
     ]
    },
    {
     "name": "stdout",
     "output_type": "stream",
     "text": [
      "[train] Epoch 460. 0.0004964127204547004\n"
     ]
    },
    {
     "name": "stderr",
     "output_type": "stream",
     "text": [
      "Training:   2%|▏         | 3/196 [00:00<00:09, 20.61it/s]"
     ]
    },
    {
     "name": "stdout",
     "output_type": "stream",
     "text": [
      "[val] Epoch 460: 0.0005301627518574931\n"
     ]
    },
    {
     "name": "stderr",
     "output_type": "stream",
     "text": [
      "Training: 100%|██████████| 196/196 [00:08<00:00, 24.11it/s]\n",
      "Training: 100%|██████████| 196/196 [00:08<00:00, 23.31it/s]\n",
      "Training: 100%|██████████| 196/196 [00:08<00:00, 23.51it/s]\n",
      "Training: 100%|██████████| 196/196 [00:08<00:00, 23.39it/s]\n",
      "Training: 100%|██████████| 196/196 [00:08<00:00, 23.50it/s]\n",
      "Training: 100%|██████████| 196/196 [00:08<00:00, 23.21it/s]\n",
      "Training: 100%|██████████| 196/196 [00:08<00:00, 23.39it/s]\n",
      "Training: 100%|██████████| 196/196 [00:08<00:00, 23.14it/s]\n",
      "Training: 100%|██████████| 196/196 [00:08<00:00, 23.64it/s]\n",
      "Training: 100%|██████████| 196/196 [00:08<00:00, 22.35it/s]\n"
     ]
    },
    {
     "name": "stdout",
     "output_type": "stream",
     "text": [
      "[train] Epoch 470. 0.0004102399578818924\n"
     ]
    },
    {
     "name": "stderr",
     "output_type": "stream",
     "text": [
      "Training:   2%|▏         | 3/196 [00:00<00:09, 20.83it/s]"
     ]
    },
    {
     "name": "stdout",
     "output_type": "stream",
     "text": [
      "[val] Epoch 470: 0.00044264953628900613\n"
     ]
    },
    {
     "name": "stderr",
     "output_type": "stream",
     "text": [
      "Training: 100%|██████████| 196/196 [00:08<00:00, 23.53it/s]\n",
      "Training: 100%|██████████| 196/196 [00:08<00:00, 23.30it/s]\n",
      "Training: 100%|██████████| 196/196 [00:08<00:00, 23.27it/s]\n",
      "Training: 100%|██████████| 196/196 [00:08<00:00, 23.84it/s]\n",
      "Training: 100%|██████████| 196/196 [00:08<00:00, 22.85it/s]\n",
      "Training: 100%|██████████| 196/196 [00:08<00:00, 23.42it/s]\n",
      "Training: 100%|██████████| 196/196 [00:08<00:00, 23.14it/s]\n",
      "Training: 100%|██████████| 196/196 [00:08<00:00, 23.14it/s]\n",
      "Training: 100%|██████████| 196/196 [00:08<00:00, 23.17it/s]\n",
      "Training: 100%|██████████| 196/196 [00:08<00:00, 22.94it/s]\n"
     ]
    },
    {
     "name": "stdout",
     "output_type": "stream",
     "text": [
      "[train] Epoch 480. 0.0004736697246026588\n"
     ]
    },
    {
     "name": "stderr",
     "output_type": "stream",
     "text": [
      "Training:   2%|▏         | 3/196 [00:00<00:09, 21.11it/s]"
     ]
    },
    {
     "name": "stdout",
     "output_type": "stream",
     "text": [
      "[val] Epoch 480: 0.0005079775228259458\n"
     ]
    },
    {
     "name": "stderr",
     "output_type": "stream",
     "text": [
      "Training: 100%|██████████| 196/196 [00:08<00:00, 23.58it/s]\n",
      "Training: 100%|██████████| 196/196 [00:08<00:00, 22.65it/s]\n",
      "Training: 100%|██████████| 196/196 [00:08<00:00, 23.48it/s]\n",
      "Training: 100%|██████████| 196/196 [00:08<00:00, 23.36it/s]\n",
      "Training: 100%|██████████| 196/196 [00:08<00:00, 23.07it/s]\n",
      "Training: 100%|██████████| 196/196 [00:08<00:00, 23.41it/s]\n",
      "Training: 100%|██████████| 196/196 [00:08<00:00, 23.11it/s]\n",
      "Training: 100%|██████████| 196/196 [00:08<00:00, 23.09it/s]\n",
      "Training: 100%|██████████| 196/196 [00:08<00:00, 23.34it/s]\n",
      "Training: 100%|██████████| 196/196 [00:08<00:00, 23.24it/s]\n"
     ]
    },
    {
     "name": "stdout",
     "output_type": "stream",
     "text": [
      "[train] Epoch 490. 0.000469523492691153\n"
     ]
    },
    {
     "name": "stderr",
     "output_type": "stream",
     "text": [
      "Training:   1%|          | 2/196 [00:00<00:13, 14.54it/s]"
     ]
    },
    {
     "name": "stdout",
     "output_type": "stream",
     "text": [
      "[val] Epoch 490: 0.0005020904359772766\n"
     ]
    },
    {
     "name": "stderr",
     "output_type": "stream",
     "text": [
      "Training: 100%|██████████| 196/196 [00:08<00:00, 23.39it/s]\n",
      "Training: 100%|██████████| 196/196 [00:08<00:00, 22.97it/s]\n",
      "Training: 100%|██████████| 196/196 [00:08<00:00, 23.52it/s]\n",
      "Training: 100%|██████████| 196/196 [00:08<00:00, 23.22it/s]\n",
      "Training: 100%|██████████| 196/196 [00:08<00:00, 22.78it/s]\n",
      "Training: 100%|██████████| 196/196 [00:08<00:00, 23.81it/s]\n",
      "Training: 100%|██████████| 196/196 [00:08<00:00, 23.46it/s]\n",
      "Training: 100%|██████████| 196/196 [00:08<00:00, 22.87it/s]\n",
      "Training: 100%|██████████| 196/196 [00:08<00:00, 22.49it/s]\n",
      "Training: 100%|██████████| 196/196 [00:08<00:00, 23.24it/s]\n"
     ]
    },
    {
     "name": "stdout",
     "output_type": "stream",
     "text": [
      "[train] Epoch 500. 0.00040236324226563717\n"
     ]
    },
    {
     "name": "stderr",
     "output_type": "stream",
     "text": [
      "Training:   2%|▏         | 3/196 [00:00<00:09, 20.90it/s]"
     ]
    },
    {
     "name": "stdout",
     "output_type": "stream",
     "text": [
      "[val] Epoch 500: 0.0004339493649277298\n"
     ]
    },
    {
     "name": "stderr",
     "output_type": "stream",
     "text": [
      "Training: 100%|██████████| 196/196 [00:08<00:00, 23.99it/s]\n",
      "Training: 100%|██████████| 196/196 [00:08<00:00, 24.01it/s]\n",
      "Training: 100%|██████████| 196/196 [00:08<00:00, 22.36it/s]\n",
      "Training: 100%|██████████| 196/196 [00:08<00:00, 22.86it/s]\n",
      "Training: 100%|██████████| 196/196 [00:08<00:00, 23.34it/s]\n",
      "Training: 100%|██████████| 196/196 [00:08<00:00, 23.23it/s]\n",
      "Training: 100%|██████████| 196/196 [00:08<00:00, 23.17it/s]\n",
      "Training: 100%|██████████| 196/196 [00:08<00:00, 22.11it/s]\n",
      "Training: 100%|██████████| 196/196 [00:08<00:00, 23.01it/s]\n",
      "Training: 100%|██████████| 196/196 [00:08<00:00, 22.65it/s]\n"
     ]
    },
    {
     "name": "stdout",
     "output_type": "stream",
     "text": [
      "[train] Epoch 510. 0.00039030783525903647\n"
     ]
    },
    {
     "name": "stderr",
     "output_type": "stream",
     "text": [
      "Training:   2%|▏         | 3/196 [00:00<00:09, 20.87it/s]"
     ]
    },
    {
     "name": "stdout",
     "output_type": "stream",
     "text": [
      "[val] Epoch 510: 0.0004204712033995495\n"
     ]
    },
    {
     "name": "stderr",
     "output_type": "stream",
     "text": [
      "Training: 100%|██████████| 196/196 [00:08<00:00, 23.60it/s]\n",
      "Training: 100%|██████████| 196/196 [00:08<00:00, 23.55it/s]\n",
      "Training: 100%|██████████| 196/196 [00:08<00:00, 22.84it/s]\n",
      "Training: 100%|██████████| 196/196 [00:08<00:00, 23.26it/s]\n",
      "Training: 100%|██████████| 196/196 [00:08<00:00, 22.79it/s]\n",
      "Training: 100%|██████████| 196/196 [00:08<00:00, 22.74it/s]\n",
      "Training: 100%|██████████| 196/196 [00:08<00:00, 22.74it/s]\n",
      "Training: 100%|██████████| 196/196 [00:08<00:00, 23.35it/s]\n",
      "Training: 100%|██████████| 196/196 [00:08<00:00, 22.92it/s]\n",
      "Training: 100%|██████████| 196/196 [00:08<00:00, 23.31it/s]\n"
     ]
    },
    {
     "name": "stdout",
     "output_type": "stream",
     "text": [
      "[train] Epoch 520. 0.00039374968003127184\n"
     ]
    },
    {
     "name": "stderr",
     "output_type": "stream",
     "text": [
      "Training:   1%|          | 2/196 [00:00<00:13, 14.31it/s]"
     ]
    },
    {
     "name": "stdout",
     "output_type": "stream",
     "text": [
      "[val] Epoch 520: 0.00042525678244239516\n"
     ]
    },
    {
     "name": "stderr",
     "output_type": "stream",
     "text": [
      "Training: 100%|██████████| 196/196 [00:08<00:00, 22.75it/s]\n",
      "Training: 100%|██████████| 196/196 [00:08<00:00, 22.94it/s]\n",
      "Training: 100%|██████████| 196/196 [00:08<00:00, 23.46it/s]\n",
      "Training: 100%|██████████| 196/196 [00:08<00:00, 22.67it/s]\n",
      "Training: 100%|██████████| 196/196 [00:08<00:00, 22.80it/s]\n",
      "Training: 100%|██████████| 196/196 [00:08<00:00, 22.76it/s]\n",
      "Training: 100%|██████████| 196/196 [00:08<00:00, 23.44it/s]\n",
      "Training: 100%|██████████| 196/196 [00:08<00:00, 23.34it/s]\n",
      "Training: 100%|██████████| 196/196 [00:09<00:00, 21.33it/s]\n",
      "Training: 100%|██████████| 196/196 [00:08<00:00, 22.69it/s]\n"
     ]
    },
    {
     "name": "stdout",
     "output_type": "stream",
     "text": [
      "[train] Epoch 530. 0.0003727260662037754\n"
     ]
    },
    {
     "name": "stderr",
     "output_type": "stream",
     "text": [
      "Training:   1%|          | 2/196 [00:00<00:13, 14.04it/s]"
     ]
    },
    {
     "name": "stdout",
     "output_type": "stream",
     "text": [
      "[val] Epoch 530: 0.0004021117283227188\n"
     ]
    },
    {
     "name": "stderr",
     "output_type": "stream",
     "text": [
      "Training: 100%|██████████| 196/196 [00:08<00:00, 22.12it/s]\n",
      "Training: 100%|██████████| 196/196 [00:08<00:00, 22.96it/s]\n",
      "Training: 100%|██████████| 196/196 [00:08<00:00, 23.51it/s]\n",
      "Training: 100%|██████████| 196/196 [00:08<00:00, 22.77it/s]\n",
      "Training: 100%|██████████| 196/196 [00:08<00:00, 23.19it/s]\n",
      "Training: 100%|██████████| 196/196 [00:08<00:00, 22.04it/s]\n",
      "Training: 100%|██████████| 196/196 [00:08<00:00, 23.39it/s]\n",
      "Training: 100%|██████████| 196/196 [00:08<00:00, 22.60it/s]\n",
      "Training: 100%|██████████| 196/196 [00:08<00:00, 23.32it/s]\n",
      "Training: 100%|██████████| 196/196 [00:08<00:00, 23.25it/s]\n"
     ]
    },
    {
     "name": "stdout",
     "output_type": "stream",
     "text": [
      "[train] Epoch 540. 0.00034554766348506255\n"
     ]
    },
    {
     "name": "stderr",
     "output_type": "stream",
     "text": [
      "Training:   2%|▏         | 3/196 [00:00<00:09, 21.36it/s]"
     ]
    },
    {
     "name": "stdout",
     "output_type": "stream",
     "text": [
      "[val] Epoch 540: 0.00037604014702268516\n"
     ]
    },
    {
     "name": "stderr",
     "output_type": "stream",
     "text": [
      "Training: 100%|██████████| 196/196 [00:08<00:00, 23.59it/s]\n",
      "Training: 100%|██████████| 196/196 [00:08<00:00, 23.30it/s]\n",
      "Training: 100%|██████████| 196/196 [00:08<00:00, 23.30it/s]\n",
      "Training: 100%|██████████| 196/196 [00:08<00:00, 23.46it/s]\n",
      "Training: 100%|██████████| 196/196 [00:08<00:00, 23.19it/s]\n",
      "Training: 100%|██████████| 196/196 [00:08<00:00, 23.12it/s]\n",
      "Training: 100%|██████████| 196/196 [00:08<00:00, 23.34it/s]\n",
      "Training: 100%|██████████| 196/196 [00:08<00:00, 23.34it/s]\n",
      "Training: 100%|██████████| 196/196 [00:08<00:00, 23.18it/s]\n",
      "Training: 100%|██████████| 196/196 [00:08<00:00, 23.11it/s]\n"
     ]
    },
    {
     "name": "stdout",
     "output_type": "stream",
     "text": [
      "[train] Epoch 550. 0.0003929110620090521\n"
     ]
    },
    {
     "name": "stderr",
     "output_type": "stream",
     "text": [
      "Training:   2%|▏         | 3/196 [00:00<00:09, 20.85it/s]"
     ]
    },
    {
     "name": "stdout",
     "output_type": "stream",
     "text": [
      "[val] Epoch 550: 0.0004224494766479541\n"
     ]
    },
    {
     "name": "stderr",
     "output_type": "stream",
     "text": [
      "Training: 100%|██████████| 196/196 [00:08<00:00, 23.57it/s]\n",
      "Training: 100%|██████████| 196/196 [00:08<00:00, 23.59it/s]\n",
      "Training: 100%|██████████| 196/196 [00:08<00:00, 22.77it/s]\n",
      "Training: 100%|██████████| 196/196 [00:08<00:00, 22.83it/s]\n",
      "Training: 100%|██████████| 196/196 [00:08<00:00, 23.45it/s]\n",
      "Training: 100%|██████████| 196/196 [00:08<00:00, 23.41it/s]\n",
      "Training: 100%|██████████| 196/196 [00:08<00:00, 23.43it/s]\n",
      "Training: 100%|██████████| 196/196 [00:08<00:00, 23.34it/s]\n",
      "Training: 100%|██████████| 196/196 [00:08<00:00, 23.34it/s]\n",
      "Training: 100%|██████████| 196/196 [00:08<00:00, 22.54it/s]\n"
     ]
    },
    {
     "name": "stdout",
     "output_type": "stream",
     "text": [
      "[train] Epoch 560. 0.00046446454040677027\n"
     ]
    },
    {
     "name": "stderr",
     "output_type": "stream",
     "text": [
      "Training:   2%|▏         | 3/196 [00:00<00:09, 21.25it/s]"
     ]
    },
    {
     "name": "stdout",
     "output_type": "stream",
     "text": [
      "[val] Epoch 560: 0.0004948501674110423\n"
     ]
    },
    {
     "name": "stderr",
     "output_type": "stream",
     "text": [
      "Training: 100%|██████████| 196/196 [00:08<00:00, 23.59it/s]\n",
      "Training: 100%|██████████| 196/196 [00:08<00:00, 23.54it/s]\n",
      "Training: 100%|██████████| 196/196 [00:08<00:00, 23.53it/s]\n",
      "Training: 100%|██████████| 196/196 [00:08<00:00, 23.47it/s]\n",
      "Training: 100%|██████████| 196/196 [00:08<00:00, 23.55it/s]\n",
      "Training: 100%|██████████| 196/196 [00:08<00:00, 23.47it/s]\n",
      "Training: 100%|██████████| 196/196 [00:08<00:00, 23.51it/s]\n",
      "Training: 100%|██████████| 196/196 [00:08<00:00, 23.44it/s]\n",
      "Training: 100%|██████████| 196/196 [00:08<00:00, 23.19it/s]\n",
      "Training: 100%|██████████| 196/196 [00:08<00:00, 23.17it/s]\n",
      "Training: 100%|██████████| 196/196 [00:08<00:00, 22.86it/s]\n",
      "Training: 100%|██████████| 196/196 [00:08<00:00, 23.43it/s]\n",
      "Training: 100%|██████████| 196/196 [00:09<00:00, 21.24it/s]\n",
      "Training: 100%|██████████| 196/196 [00:08<00:00, 23.20it/s]\n",
      "Training: 100%|██████████| 196/196 [00:08<00:00, 23.21it/s]\n",
      "Training: 100%|██████████| 196/196 [00:08<00:00, 23.10it/s]\n"
     ]
    },
    {
     "name": "stdout",
     "output_type": "stream",
     "text": [
      "[train] Epoch 590. 0.00041816554856722823\n"
     ]
    },
    {
     "name": "stderr",
     "output_type": "stream",
     "text": [
      "Training:   1%|          | 2/196 [00:00<00:14, 13.38it/s]"
     ]
    },
    {
     "name": "stdout",
     "output_type": "stream",
     "text": [
      "[val] Epoch 590: 0.0004486927913776204\n"
     ]
    },
    {
     "name": "stderr",
     "output_type": "stream",
     "text": [
      "Training: 100%|██████████| 196/196 [00:08<00:00, 23.28it/s]\n",
      "Training: 100%|██████████| 196/196 [00:08<00:00, 23.53it/s]\n",
      "Training: 100%|██████████| 196/196 [00:08<00:00, 23.12it/s]\n",
      "Training: 100%|██████████| 196/196 [00:08<00:00, 23.16it/s]\n"
     ]
    },
    {
     "name": "stdout",
     "output_type": "stream",
     "text": [
      "[train] Epoch 600. 0.0003992183777737702\n"
     ]
    },
    {
     "name": "stderr",
     "output_type": "stream",
     "text": [
      "Training:   2%|▏         | 3/196 [00:00<00:09, 21.23it/s]"
     ]
    },
    {
     "name": "stdout",
     "output_type": "stream",
     "text": [
      "[val] Epoch 600: 0.00042985946601310635\n"
     ]
    },
    {
     "name": "stderr",
     "output_type": "stream",
     "text": [
      "Training: 100%|██████████| 196/196 [00:08<00:00, 23.48it/s]\n",
      "Training: 100%|██████████| 196/196 [00:08<00:00, 22.84it/s]\n",
      "Training: 100%|██████████| 196/196 [00:08<00:00, 23.22it/s]\n",
      "Training: 100%|██████████| 196/196 [00:08<00:00, 23.51it/s]\n",
      "Training: 100%|██████████| 196/196 [00:08<00:00, 22.30it/s]\n",
      "Training: 100%|██████████| 196/196 [00:08<00:00, 23.42it/s]\n",
      "Training: 100%|██████████| 196/196 [00:08<00:00, 23.18it/s]\n",
      "Training: 100%|██████████| 196/196 [00:08<00:00, 22.12it/s]\n",
      "Training:  19%|█▉        | 38/196 [00:01<00:07, 20.31it/s]"
     ]
    },
    {
     "name": "stdout",
     "output_type": "stream",
     "text": [
      "[train] Epoch 620. 0.00043193428610635814\n"
     ]
    },
    {
     "name": "stderr",
     "output_type": "stream",
     "text": [
      "Training:   1%|          | 2/196 [00:00<00:13, 14.18it/s]"
     ]
    },
    {
     "name": "stdout",
     "output_type": "stream",
     "text": [
      "[val] Epoch 620: 0.0004633047361570878\n"
     ]
    },
    {
     "name": "stderr",
     "output_type": "stream",
     "text": [
      "Training: 100%|██████████| 196/196 [00:08<00:00, 22.79it/s]\n",
      "Training: 100%|██████████| 196/196 [00:08<00:00, 23.04it/s]\n",
      "Training: 100%|██████████| 196/196 [00:08<00:00, 23.57it/s]\n",
      "Training: 100%|██████████| 196/196 [00:08<00:00, 23.16it/s]\n",
      "Training: 100%|██████████| 196/196 [00:08<00:00, 23.26it/s]\n",
      "Training: 100%|██████████| 196/196 [00:08<00:00, 22.63it/s]\n",
      "Training: 100%|██████████| 196/196 [00:08<00:00, 23.07it/s]\n",
      "Training: 100%|██████████| 196/196 [00:08<00:00, 22.25it/s]\n",
      "Training: 100%|██████████| 196/196 [00:08<00:00, 22.65it/s]\n",
      "Training: 100%|██████████| 196/196 [00:08<00:00, 23.32it/s]\n"
     ]
    },
    {
     "name": "stdout",
     "output_type": "stream",
     "text": [
      "[train] Epoch 630. 0.0003181619106687803\n"
     ]
    },
    {
     "name": "stderr",
     "output_type": "stream",
     "text": [
      "Training:   1%|          | 2/196 [00:00<00:14, 13.37it/s]"
     ]
    },
    {
     "name": "stdout",
     "output_type": "stream",
     "text": [
      "[val] Epoch 630: 0.00034652972880005464\n"
     ]
    },
    {
     "name": "stderr",
     "output_type": "stream",
     "text": [
      "Training: 100%|██████████| 196/196 [00:08<00:00, 23.28it/s]\n",
      "Training: 100%|██████████| 196/196 [00:08<00:00, 23.55it/s]\n",
      "Training: 100%|██████████| 196/196 [00:08<00:00, 23.51it/s]\n",
      "Training: 100%|██████████| 196/196 [00:08<00:00, 22.96it/s]\n",
      "Training: 100%|██████████| 196/196 [00:08<00:00, 23.39it/s]\n",
      "Training: 100%|██████████| 196/196 [00:08<00:00, 22.18it/s]\n",
      "Training: 100%|██████████| 196/196 [00:08<00:00, 22.75it/s]\n",
      "Training: 100%|██████████| 196/196 [00:08<00:00, 22.73it/s]\n",
      "Training: 100%|██████████| 196/196 [00:08<00:00, 22.85it/s]\n",
      "Training: 100%|██████████| 196/196 [00:08<00:00, 23.16it/s]\n"
     ]
    },
    {
     "name": "stdout",
     "output_type": "stream",
     "text": [
      "[train] Epoch 640. 0.00041011308880438765\n"
     ]
    },
    {
     "name": "stderr",
     "output_type": "stream",
     "text": [
      "Training:   2%|▏         | 3/196 [00:00<00:09, 21.21it/s]"
     ]
    },
    {
     "name": "stdout",
     "output_type": "stream",
     "text": [
      "[val] Epoch 640: 0.0004391459166098867\n"
     ]
    },
    {
     "name": "stderr",
     "output_type": "stream",
     "text": [
      "Training: 100%|██████████| 196/196 [00:08<00:00, 22.87it/s]\n",
      "Training: 100%|██████████| 196/196 [00:08<00:00, 23.52it/s]\n",
      "Training: 100%|██████████| 196/196 [00:08<00:00, 23.19it/s]\n",
      "Training: 100%|██████████| 196/196 [00:08<00:00, 23.28it/s]\n",
      "Training: 100%|██████████| 196/196 [00:08<00:00, 22.26it/s]\n",
      "Training: 100%|██████████| 196/196 [00:08<00:00, 23.14it/s]\n",
      "Training: 100%|██████████| 196/196 [00:08<00:00, 23.35it/s]\n",
      "Training: 100%|██████████| 196/196 [00:08<00:00, 22.07it/s]\n",
      "Training: 100%|██████████| 196/196 [00:08<00:00, 22.86it/s]\n",
      "Training: 100%|██████████| 196/196 [00:08<00:00, 22.70it/s]\n"
     ]
    },
    {
     "name": "stdout",
     "output_type": "stream",
     "text": [
      "[train] Epoch 650. 0.0003639422303054998\n"
     ]
    },
    {
     "name": "stderr",
     "output_type": "stream",
     "text": [
      "Training:   2%|▏         | 3/196 [00:00<00:09, 21.29it/s]"
     ]
    },
    {
     "name": "stdout",
     "output_type": "stream",
     "text": [
      "[val] Epoch 650: 0.0003920797689655438\n"
     ]
    },
    {
     "name": "stderr",
     "output_type": "stream",
     "text": [
      "Training: 100%|██████████| 196/196 [00:08<00:00, 23.55it/s]\n",
      "Training: 100%|██████████| 196/196 [00:08<00:00, 23.32it/s]\n",
      "Training: 100%|██████████| 196/196 [00:08<00:00, 23.23it/s]\n",
      "Training: 100%|██████████| 196/196 [00:08<00:00, 23.61it/s]\n",
      "Training: 100%|██████████| 196/196 [00:08<00:00, 23.46it/s]\n",
      "Training: 100%|██████████| 196/196 [00:08<00:00, 23.56it/s]\n",
      "Training: 100%|██████████| 196/196 [00:08<00:00, 22.70it/s]\n",
      "Training: 100%|██████████| 196/196 [00:08<00:00, 23.21it/s]\n",
      "Training: 100%|██████████| 196/196 [00:08<00:00, 23.26it/s]\n",
      "Training: 100%|██████████| 196/196 [00:08<00:00, 23.39it/s]\n",
      "Training: 100%|██████████| 196/196 [00:08<00:00, 22.67it/s]\n",
      "Training: 100%|██████████| 196/196 [00:08<00:00, 23.34it/s]\n",
      "Training: 100%|██████████| 196/196 [00:08<00:00, 21.79it/s]\n"
     ]
    },
    {
     "name": "stdout",
     "output_type": "stream",
     "text": [
      "[train] Epoch 670. 0.000327585171680723\n"
     ]
    },
    {
     "name": "stderr",
     "output_type": "stream",
     "text": [
      "Training:   2%|▏         | 3/196 [00:00<00:09, 20.54it/s]"
     ]
    },
    {
     "name": "stdout",
     "output_type": "stream",
     "text": [
      "[val] Epoch 670: 0.00035874693410538566\n"
     ]
    },
    {
     "name": "stderr",
     "output_type": "stream",
     "text": [
      "Training: 100%|██████████| 196/196 [00:08<00:00, 23.18it/s]\n",
      "Training: 100%|██████████| 196/196 [00:08<00:00, 23.32it/s]\n",
      "Training: 100%|██████████| 196/196 [00:08<00:00, 22.60it/s]\n",
      "Training: 100%|██████████| 196/196 [00:08<00:00, 22.50it/s]\n",
      "Training: 100%|██████████| 196/196 [00:08<00:00, 23.12it/s]\n",
      "Training: 100%|██████████| 196/196 [00:08<00:00, 23.34it/s]\n",
      "Training: 100%|██████████| 196/196 [00:08<00:00, 23.19it/s]\n",
      "Training: 100%|██████████| 196/196 [00:08<00:00, 23.25it/s]\n",
      "Training: 100%|██████████| 196/196 [00:08<00:00, 23.37it/s]\n",
      "Training: 100%|██████████| 196/196 [00:08<00:00, 23.06it/s]\n"
     ]
    },
    {
     "name": "stdout",
     "output_type": "stream",
     "text": [
      "[train] Epoch 680. 0.00035754353225914907\n"
     ]
    },
    {
     "name": "stderr",
     "output_type": "stream",
     "text": [
      "Training:   2%|▏         | 3/196 [00:00<00:09, 20.76it/s]"
     ]
    },
    {
     "name": "stdout",
     "output_type": "stream",
     "text": [
      "[val] Epoch 680: 0.00038711503599594667\n"
     ]
    },
    {
     "name": "stderr",
     "output_type": "stream",
     "text": [
      "Training: 100%|██████████| 196/196 [00:08<00:00, 23.53it/s]\n",
      "Training: 100%|██████████| 196/196 [00:08<00:00, 23.04it/s]\n",
      "Training: 100%|██████████| 196/196 [00:08<00:00, 22.66it/s]\n",
      "Training: 100%|██████████| 196/196 [00:08<00:00, 22.12it/s]\n",
      "Training: 100%|██████████| 196/196 [00:08<00:00, 23.38it/s]\n",
      "Training: 100%|██████████| 196/196 [00:08<00:00, 23.40it/s]\n",
      "Training: 100%|██████████| 196/196 [00:08<00:00, 22.72it/s]\n",
      "Training: 100%|██████████| 196/196 [00:08<00:00, 22.27it/s]\n",
      "Training: 100%|██████████| 196/196 [00:08<00:00, 23.33it/s]\n",
      "Training: 100%|██████████| 196/196 [00:08<00:00, 22.74it/s]\n"
     ]
    },
    {
     "name": "stdout",
     "output_type": "stream",
     "text": [
      "[train] Epoch 700. 0.00032128452096696756\n"
     ]
    },
    {
     "name": "stderr",
     "output_type": "stream",
     "text": [
      "Training:   2%|▏         | 3/196 [00:00<00:09, 21.21it/s]"
     ]
    },
    {
     "name": "stdout",
     "output_type": "stream",
     "text": [
      "[val] Epoch 700: 0.0003517459848105935\n"
     ]
    },
    {
     "name": "stderr",
     "output_type": "stream",
     "text": [
      "Training: 100%|██████████| 196/196 [00:08<00:00, 21.99it/s]\n",
      "Training: 100%|██████████| 196/196 [00:08<00:00, 23.52it/s]\n",
      "Training: 100%|██████████| 196/196 [00:08<00:00, 23.20it/s]\n",
      "Training: 100%|██████████| 196/196 [00:08<00:00, 22.66it/s]\n",
      "Training: 100%|██████████| 196/196 [00:08<00:00, 23.53it/s]\n",
      "Training: 100%|██████████| 196/196 [00:08<00:00, 22.52it/s]\n",
      "Training: 100%|██████████| 196/196 [00:08<00:00, 23.20it/s]\n",
      "Training: 100%|██████████| 196/196 [00:08<00:00, 23.33it/s]\n",
      "Training: 100%|██████████| 196/196 [00:08<00:00, 23.28it/s]\n",
      "Training: 100%|██████████| 196/196 [00:08<00:00, 23.10it/s]\n"
     ]
    },
    {
     "name": "stdout",
     "output_type": "stream",
     "text": [
      "[train] Epoch 710. 0.00032978744757576536\n"
     ]
    },
    {
     "name": "stderr",
     "output_type": "stream",
     "text": [
      "Training:   1%|          | 2/196 [00:00<00:09, 19.62it/s]"
     ]
    },
    {
     "name": "stdout",
     "output_type": "stream",
     "text": [
      "[val] Epoch 710: 0.00035744617943298716\n"
     ]
    },
    {
     "name": "stderr",
     "output_type": "stream",
     "text": [
      "Training: 100%|██████████| 196/196 [00:08<00:00, 23.53it/s]\n",
      "Training: 100%|██████████| 196/196 [00:08<00:00, 23.11it/s]\n",
      "Training: 100%|██████████| 196/196 [00:09<00:00, 20.58it/s]\n",
      "Training: 100%|██████████| 196/196 [00:08<00:00, 23.50it/s]\n",
      "Training: 100%|██████████| 196/196 [00:08<00:00, 23.68it/s]\n",
      "Training: 100%|██████████| 196/196 [00:09<00:00, 21.43it/s]\n",
      "Training: 100%|██████████| 196/196 [00:08<00:00, 23.34it/s]\n",
      "Training: 100%|██████████| 196/196 [00:08<00:00, 23.34it/s]\n",
      "Training: 100%|██████████| 196/196 [00:08<00:00, 23.37it/s]\n",
      "Training: 100%|██████████| 196/196 [00:08<00:00, 23.31it/s]\n"
     ]
    },
    {
     "name": "stdout",
     "output_type": "stream",
     "text": [
      "[train] Epoch 720. 0.00032783699412896824\n"
     ]
    },
    {
     "name": "stderr",
     "output_type": "stream",
     "text": [
      "Training:   2%|▏         | 3/196 [00:00<00:09, 20.99it/s]"
     ]
    },
    {
     "name": "stdout",
     "output_type": "stream",
     "text": [
      "[val] Epoch 720: 0.0003550754017453988\n"
     ]
    },
    {
     "name": "stderr",
     "output_type": "stream",
     "text": [
      "Training: 100%|██████████| 196/196 [00:08<00:00, 23.58it/s]\n",
      "Training: 100%|██████████| 196/196 [00:08<00:00, 23.55it/s]\n",
      "Training: 100%|██████████| 196/196 [00:08<00:00, 23.53it/s]\n",
      "Training: 100%|██████████| 196/196 [00:08<00:00, 23.34it/s]\n",
      "Training: 100%|██████████| 196/196 [00:08<00:00, 23.30it/s]\n",
      "Training: 100%|██████████| 196/196 [00:08<00:00, 23.14it/s]\n",
      "Training: 100%|██████████| 196/196 [00:08<00:00, 23.34it/s]\n",
      "Training: 100%|██████████| 196/196 [00:08<00:00, 23.38it/s]\n",
      "Training: 100%|██████████| 196/196 [00:08<00:00, 23.17it/s]\n",
      "Training: 100%|██████████| 196/196 [00:08<00:00, 23.11it/s]\n"
     ]
    },
    {
     "name": "stdout",
     "output_type": "stream",
     "text": [
      "[train] Epoch 730. 0.00030660719364992154\n"
     ]
    },
    {
     "name": "stderr",
     "output_type": "stream",
     "text": [
      "Training:   2%|▏         | 3/196 [00:00<00:09, 20.83it/s]"
     ]
    },
    {
     "name": "stdout",
     "output_type": "stream",
     "text": [
      "[val] Epoch 730: 0.0003350219713067801\n"
     ]
    },
    {
     "name": "stderr",
     "output_type": "stream",
     "text": [
      "Training: 100%|██████████| 196/196 [00:08<00:00, 23.39it/s]\n",
      "Training: 100%|██████████| 196/196 [00:08<00:00, 23.35it/s]\n",
      "Training: 100%|██████████| 196/196 [00:08<00:00, 23.52it/s]\n",
      "Training: 100%|██████████| 196/196 [00:08<00:00, 22.89it/s]\n",
      "Training: 100%|██████████| 196/196 [00:08<00:00, 23.47it/s]\n",
      "Training: 100%|██████████| 196/196 [00:08<00:00, 23.43it/s]\n",
      "Training: 100%|██████████| 196/196 [00:08<00:00, 23.41it/s]\n",
      "Training: 100%|██████████| 196/196 [00:08<00:00, 22.61it/s]\n",
      "Training: 100%|██████████| 196/196 [00:08<00:00, 23.40it/s]\n",
      "Training:  73%|███████▎  | 144/196 [00:06<00:02, 23.66it/s]IOPub message rate exceeded.\n",
      "The notebook server will temporarily stop sending output\n",
      "to the client in order to avoid crashing it.\n",
      "To change this limit, set the config variable\n",
      "`--NotebookApp.iopub_msg_rate_limit`.\n",
      "\n",
      "Current values:\n",
      "NotebookApp.iopub_msg_rate_limit=1000.0 (msgs/sec)\n",
      "NotebookApp.rate_limit_window=3.0 (secs)\n",
      "\n",
      "Training: 100%|██████████| 196/196 [00:08<00:00, 23.30it/s]\n",
      "Training: 100%|██████████| 196/196 [00:08<00:00, 23.30it/s]\n",
      "Training: 100%|██████████| 196/196 [00:08<00:00, 23.20it/s]\n",
      "Training: 100%|██████████| 196/196 [00:08<00:00, 23.32it/s]\n",
      "Training: 100%|██████████| 196/196 [00:08<00:00, 23.57it/s]\n"
     ]
    },
    {
     "name": "stdout",
     "output_type": "stream",
     "text": [
      "[train] Epoch 760. 0.0003580794653644826\n"
     ]
    },
    {
     "name": "stderr",
     "output_type": "stream",
     "text": [
      "Training:   2%|▏         | 3/196 [00:00<00:09, 21.08it/s]"
     ]
    },
    {
     "name": "stdout",
     "output_type": "stream",
     "text": [
      "[val] Epoch 760: 0.00038535101672439555\n"
     ]
    },
    {
     "name": "stderr",
     "output_type": "stream",
     "text": [
      "Training: 100%|██████████| 196/196 [00:08<00:00, 23.57it/s]\n",
      "Training: 100%|██████████| 196/196 [00:08<00:00, 23.61it/s]\n",
      "Training: 100%|██████████| 196/196 [00:08<00:00, 23.56it/s]\n",
      "Training: 100%|██████████| 196/196 [00:08<00:00, 23.52it/s]\n",
      "Training: 100%|██████████| 196/196 [00:08<00:00, 23.48it/s]\n",
      "Training: 100%|██████████| 196/196 [00:08<00:00, 22.99it/s]\n",
      "Training: 100%|██████████| 196/196 [00:08<00:00, 23.39it/s]\n",
      "Training: 100%|██████████| 196/196 [00:08<00:00, 23.56it/s]\n",
      "Training: 100%|██████████| 196/196 [00:08<00:00, 23.43it/s]\n",
      "Training: 100%|██████████| 196/196 [00:08<00:00, 23.36it/s]\n"
     ]
    },
    {
     "name": "stdout",
     "output_type": "stream",
     "text": [
      "[train] Epoch 770. 0.0003352501253293334\n"
     ]
    },
    {
     "name": "stderr",
     "output_type": "stream",
     "text": [
      "Training:   2%|▏         | 3/196 [00:00<00:09, 20.93it/s]"
     ]
    },
    {
     "name": "stdout",
     "output_type": "stream",
     "text": [
      "[val] Epoch 770: 0.00036519219783872573\n"
     ]
    },
    {
     "name": "stderr",
     "output_type": "stream",
     "text": [
      "Training: 100%|██████████| 196/196 [00:08<00:00, 23.57it/s]\n",
      "Training: 100%|██████████| 196/196 [00:08<00:00, 23.29it/s]\n",
      "Training: 100%|██████████| 196/196 [00:08<00:00, 23.54it/s]\n",
      "Training: 100%|██████████| 196/196 [00:08<00:00, 23.29it/s]\n",
      "Training: 100%|██████████| 196/196 [00:08<00:00, 22.77it/s]\n",
      "Training: 100%|██████████| 196/196 [00:08<00:00, 22.80it/s]\n",
      "Training: 100%|██████████| 196/196 [00:08<00:00, 23.20it/s]\n",
      "Training: 100%|██████████| 196/196 [00:08<00:00, 23.39it/s]\n",
      "Training: 100%|██████████| 196/196 [00:08<00:00, 22.80it/s]\n",
      "Training: 100%|██████████| 196/196 [00:08<00:00, 23.34it/s]\n"
     ]
    },
    {
     "name": "stdout",
     "output_type": "stream",
     "text": [
      "[train] Epoch 780. 0.00034214730344359035\n"
     ]
    },
    {
     "name": "stderr",
     "output_type": "stream",
     "text": [
      "Training:   2%|▏         | 3/196 [00:00<00:09, 20.85it/s]"
     ]
    },
    {
     "name": "stdout",
     "output_type": "stream",
     "text": [
      "[val] Epoch 780: 0.0003686650072287782\n"
     ]
    },
    {
     "name": "stderr",
     "output_type": "stream",
     "text": [
      "Training: 100%|██████████| 196/196 [00:08<00:00, 22.90it/s]\n",
      "Training: 100%|██████████| 196/196 [00:08<00:00, 22.66it/s]\n",
      "Training: 100%|██████████| 196/196 [00:08<00:00, 23.49it/s]\n",
      "Training: 100%|██████████| 196/196 [00:08<00:00, 23.27it/s]\n",
      "Training: 100%|██████████| 196/196 [00:08<00:00, 23.26it/s]\n",
      "Training: 100%|██████████| 196/196 [00:08<00:00, 23.64it/s]\n",
      "Training: 100%|██████████| 196/196 [00:08<00:00, 23.63it/s]\n",
      "Training: 100%|██████████| 196/196 [00:08<00:00, 23.59it/s]\n",
      "Training: 100%|██████████| 196/196 [00:08<00:00, 23.16it/s]\n",
      "Training: 100%|██████████| 196/196 [00:08<00:00, 23.38it/s]\n"
     ]
    },
    {
     "name": "stdout",
     "output_type": "stream",
     "text": [
      "[train] Epoch 790. 0.00035750756326891395\n"
     ]
    },
    {
     "name": "stderr",
     "output_type": "stream",
     "text": [
      "Training:   2%|▏         | 3/196 [00:00<00:09, 21.26it/s]"
     ]
    },
    {
     "name": "stdout",
     "output_type": "stream",
     "text": [
      "[val] Epoch 790: 0.00038565586989378493\n"
     ]
    },
    {
     "name": "stderr",
     "output_type": "stream",
     "text": [
      "Training: 100%|██████████| 196/196 [00:08<00:00, 23.60it/s]\n",
      "Training: 100%|██████████| 196/196 [00:08<00:00, 23.58it/s]\n",
      "Training: 100%|██████████| 196/196 [00:08<00:00, 23.53it/s]\n",
      "Training: 100%|██████████| 196/196 [00:08<00:00, 23.44it/s]\n",
      "Training: 100%|██████████| 196/196 [00:08<00:00, 23.43it/s]\n",
      "Training: 100%|██████████| 196/196 [00:08<00:00, 23.34it/s]\n",
      "Training: 100%|██████████| 196/196 [00:08<00:00, 23.40it/s]\n",
      "Training: 100%|██████████| 196/196 [00:08<00:00, 23.08it/s]\n",
      "Training: 100%|██████████| 196/196 [00:08<00:00, 23.09it/s]\n",
      "Training: 100%|██████████| 196/196 [00:08<00:00, 23.39it/s]\n"
     ]
    },
    {
     "name": "stdout",
     "output_type": "stream",
     "text": [
      "[train] Epoch 800. 0.0003261137819681138\n"
     ]
    },
    {
     "name": "stderr",
     "output_type": "stream",
     "text": [
      "Training:   2%|▏         | 3/196 [00:00<00:09, 21.25it/s]"
     ]
    },
    {
     "name": "stdout",
     "output_type": "stream",
     "text": [
      "[val] Epoch 800: 0.0003524299346516195\n"
     ]
    },
    {
     "name": "stderr",
     "output_type": "stream",
     "text": [
      "Training: 100%|██████████| 196/196 [00:08<00:00, 23.57it/s]\n",
      "Training: 100%|██████████| 196/196 [00:08<00:00, 22.53it/s]\n",
      "Training: 100%|██████████| 196/196 [00:08<00:00, 22.96it/s]\n",
      "Training: 100%|██████████| 196/196 [00:08<00:00, 22.17it/s]\n",
      "Training: 100%|██████████| 196/196 [00:08<00:00, 23.45it/s]\n",
      "Training: 100%|██████████| 196/196 [00:08<00:00, 22.54it/s]\n",
      "Training: 100%|██████████| 196/196 [00:08<00:00, 23.34it/s]\n",
      "Training: 100%|██████████| 196/196 [00:08<00:00, 23.20it/s]\n",
      "Training: 100%|██████████| 196/196 [00:08<00:00, 22.81it/s]\n",
      "Training: 100%|██████████| 196/196 [00:08<00:00, 22.83it/s]\n"
     ]
    },
    {
     "name": "stdout",
     "output_type": "stream",
     "text": [
      "[train] Epoch 810. 0.00031568370428278035\n"
     ]
    },
    {
     "name": "stderr",
     "output_type": "stream",
     "text": [
      "Training:   1%|          | 2/196 [00:00<00:13, 14.25it/s]"
     ]
    },
    {
     "name": "stdout",
     "output_type": "stream",
     "text": [
      "[val] Epoch 810: 0.000341297159678017\n"
     ]
    },
    {
     "name": "stderr",
     "output_type": "stream",
     "text": [
      "Training: 100%|██████████| 196/196 [00:08<00:00, 23.42it/s]\n",
      "Training: 100%|██████████| 196/196 [00:08<00:00, 22.20it/s]\n",
      "Training: 100%|██████████| 196/196 [00:08<00:00, 23.54it/s]\n",
      "Training: 100%|██████████| 196/196 [00:08<00:00, 23.53it/s]\n",
      "Training: 100%|██████████| 196/196 [00:08<00:00, 22.83it/s]\n",
      "Training: 100%|██████████| 196/196 [00:08<00:00, 23.37it/s]\n",
      "Training: 100%|██████████| 196/196 [00:08<00:00, 23.11it/s]\n",
      "Training: 100%|██████████| 196/196 [00:08<00:00, 23.22it/s]\n",
      "Training: 100%|██████████| 196/196 [00:08<00:00, 23.44it/s]\n",
      "Training: 100%|██████████| 196/196 [00:08<00:00, 23.45it/s]\n"
     ]
    },
    {
     "name": "stdout",
     "output_type": "stream",
     "text": [
      "[train] Epoch 820. 0.00030957757207201406\n"
     ]
    },
    {
     "name": "stderr",
     "output_type": "stream",
     "text": [
      "Training:   2%|▏         | 3/196 [00:00<00:09, 20.88it/s]"
     ]
    },
    {
     "name": "stdout",
     "output_type": "stream",
     "text": [
      "[val] Epoch 820: 0.0003348258764247522\n"
     ]
    },
    {
     "name": "stderr",
     "output_type": "stream",
     "text": [
      "Training: 100%|██████████| 196/196 [00:08<00:00, 23.03it/s]\n",
      "Training: 100%|██████████| 196/196 [00:08<00:00, 23.39it/s]\n",
      "Training: 100%|██████████| 196/196 [00:08<00:00, 23.52it/s]\n",
      "Training: 100%|██████████| 196/196 [00:08<00:00, 23.46it/s]\n",
      "Training: 100%|██████████| 196/196 [00:08<00:00, 22.98it/s]\n",
      "Training: 100%|██████████| 196/196 [00:08<00:00, 23.32it/s]\n",
      "Training: 100%|██████████| 196/196 [00:08<00:00, 23.39it/s]\n",
      "Training: 100%|██████████| 196/196 [00:08<00:00, 23.25it/s]\n",
      "Training: 100%|██████████| 196/196 [00:08<00:00, 22.66it/s]\n",
      "Training: 100%|██████████| 196/196 [00:08<00:00, 23.38it/s]\n"
     ]
    },
    {
     "name": "stdout",
     "output_type": "stream",
     "text": [
      "[train] Epoch 830. 0.00037674001279376185\n"
     ]
    },
    {
     "name": "stderr",
     "output_type": "stream",
     "text": [
      "Training:   2%|▏         | 3/196 [00:00<00:09, 21.24it/s]"
     ]
    },
    {
     "name": "stdout",
     "output_type": "stream",
     "text": [
      "[val] Epoch 830: 0.0004032397753972954\n"
     ]
    },
    {
     "name": "stderr",
     "output_type": "stream",
     "text": [
      "Training: 100%|██████████| 196/196 [00:08<00:00, 23.55it/s]\n",
      "Training: 100%|██████████| 196/196 [00:08<00:00, 23.60it/s]\n",
      "Training:  15%|█▍        | 29/196 [00:01<00:07, 22.32it/s]"
     ]
    },
    {
     "name": "stdout",
     "output_type": "stream",
     "text": [
      "[train] Epoch 840. 0.0002912099367467597\n"
     ]
    },
    {
     "name": "stderr",
     "output_type": "stream",
     "text": [
      "Training:   2%|▏         | 3/196 [00:00<00:09, 21.10it/s]"
     ]
    },
    {
     "name": "stdout",
     "output_type": "stream",
     "text": [
      "[val] Epoch 840: 0.0003184087997559286\n"
     ]
    },
    {
     "name": "stderr",
     "output_type": "stream",
     "text": [
      "Training: 100%|██████████| 196/196 [00:08<00:00, 22.95it/s]\n",
      "Training: 100%|██████████| 196/196 [00:08<00:00, 23.00it/s]\n",
      "Training: 100%|██████████| 196/196 [00:08<00:00, 22.39it/s]\n",
      "Training: 100%|██████████| 196/196 [00:08<00:00, 23.49it/s]\n",
      "Training: 100%|██████████| 196/196 [00:08<00:00, 23.26it/s]\n",
      "Training: 100%|██████████| 196/196 [00:08<00:00, 22.80it/s]\n",
      "Training: 100%|██████████| 196/196 [00:08<00:00, 22.60it/s]\n",
      "Training: 100%|██████████| 196/196 [00:08<00:00, 23.83it/s]\n",
      "Training: 100%|██████████| 196/196 [00:08<00:00, 23.33it/s]\n",
      "Training: 100%|██████████| 196/196 [00:08<00:00, 23.13it/s]\n",
      "Training: 100%|██████████| 196/196 [00:08<00:00, 21.81it/s]\n",
      "Training: 100%|██████████| 196/196 [00:09<00:00, 21.70it/s]\n",
      "Training: 100%|██████████| 196/196 [00:08<00:00, 23.33it/s]\n",
      "Training: 100%|██████████| 196/196 [00:08<00:00, 23.50it/s]\n",
      "Training: 100%|██████████| 196/196 [00:08<00:00, 23.27it/s]\n",
      "Training: 100%|██████████| 196/196 [00:08<00:00, 23.47it/s]\n",
      "Training: 100%|██████████| 196/196 [00:08<00:00, 23.15it/s]\n",
      "Training: 100%|██████████| 196/196 [00:08<00:00, 23.32it/s]\n",
      "Training: 100%|██████████| 196/196 [00:08<00:00, 22.64it/s]\n"
     ]
    },
    {
     "name": "stdout",
     "output_type": "stream",
     "text": [
      "[train] Epoch 870. 0.0005659824305443879\n"
     ]
    },
    {
     "name": "stderr",
     "output_type": "stream",
     "text": [
      "Training:   2%|▏         | 3/196 [00:00<00:09, 21.26it/s]"
     ]
    },
    {
     "name": "stdout",
     "output_type": "stream",
     "text": [
      "[val] Epoch 870: 0.000595194650336105\n"
     ]
    },
    {
     "name": "stderr",
     "output_type": "stream",
     "text": [
      "Training: 100%|██████████| 196/196 [00:08<00:00, 22.48it/s]\n",
      "Training: 100%|██████████| 196/196 [00:08<00:00, 23.20it/s]\n",
      "Training: 100%|██████████| 196/196 [00:08<00:00, 23.25it/s]\n",
      "Training:  68%|██████▊   | 134/196 [00:05<00:02, 23.76it/s]"
     ]
    },
    {
     "name": "stdout",
     "output_type": "stream",
     "text": [
      "[train] Epoch 880. 0.00033153540908714924\n"
     ]
    },
    {
     "name": "stderr",
     "output_type": "stream",
     "text": [
      "Training:   2%|▏         | 3/196 [00:00<00:09, 21.23it/s]"
     ]
    },
    {
     "name": "stdout",
     "output_type": "stream",
     "text": [
      "[val] Epoch 880: 0.00035675089672900634\n"
     ]
    },
    {
     "name": "stderr",
     "output_type": "stream",
     "text": [
      "Training: 100%|██████████| 196/196 [00:08<00:00, 22.69it/s]\n",
      "Training: 100%|██████████| 196/196 [00:08<00:00, 21.81it/s]\n",
      "Training: 100%|██████████| 196/196 [00:08<00:00, 22.63it/s]\n",
      "Training: 100%|██████████| 196/196 [00:08<00:00, 22.00it/s]\n",
      "Training: 100%|██████████| 196/196 [00:08<00:00, 22.71it/s]\n",
      "Training: 100%|██████████| 196/196 [00:08<00:00, 22.85it/s]\n",
      "Training: 100%|██████████| 196/196 [00:09<00:00, 21.19it/s]\n",
      "Training: 100%|██████████| 196/196 [00:08<00:00, 23.28it/s]\n",
      "Training: 100%|██████████| 196/196 [00:08<00:00, 23.48it/s]\n",
      "Training: 100%|██████████| 196/196 [00:08<00:00, 23.53it/s]\n",
      "Training: 100%|██████████| 196/196 [00:08<00:00, 22.83it/s]\n",
      "Training: 100%|██████████| 196/196 [00:08<00:00, 23.44it/s]\n",
      "Training: 100%|██████████| 196/196 [00:08<00:00, 22.77it/s]\n",
      "Training: 100%|██████████| 196/196 [00:08<00:00, 22.76it/s]\n",
      "Training: 100%|██████████| 196/196 [00:09<00:00, 21.73it/s]\n",
      "Training: 100%|██████████| 196/196 [00:08<00:00, 22.93it/s]\n",
      "Training: 100%|██████████| 196/196 [00:08<00:00, 23.05it/s]\n",
      "Training: 100%|██████████| 196/196 [00:08<00:00, 23.10it/s]\n",
      "Training: 100%|██████████| 196/196 [00:09<00:00, 21.52it/s]\n",
      "Training: 100%|██████████| 196/196 [00:08<00:00, 22.27it/s]\n",
      "Training: 100%|██████████| 196/196 [00:08<00:00, 21.86it/s]\n",
      "Training: 100%|██████████| 196/196 [00:08<00:00, 22.97it/s]\n",
      "Training: 100%|██████████| 196/196 [00:08<00:00, 22.89it/s]\n",
      "Training: 100%|██████████| 196/196 [00:08<00:00, 22.90it/s]\n"
     ]
    },
    {
     "name": "stdout",
     "output_type": "stream",
     "text": [
      "[train] Epoch 960. 0.0003311427055207473\n"
     ]
    },
    {
     "name": "stderr",
     "output_type": "stream",
     "text": [
      "Training:   2%|▏         | 3/196 [00:00<00:09, 21.11it/s]"
     ]
    },
    {
     "name": "stdout",
     "output_type": "stream",
     "text": [
      "[val] Epoch 960: 0.00035726094429151\n"
     ]
    },
    {
     "name": "stderr",
     "output_type": "stream",
     "text": [
      "Training: 100%|██████████| 196/196 [00:08<00:00, 22.61it/s]\n",
      "Training: 100%|██████████| 196/196 [00:09<00:00, 20.33it/s]\n",
      "Training: 100%|██████████| 196/196 [00:09<00:00, 21.70it/s]\n",
      "Training: 100%|██████████| 196/196 [00:09<00:00, 21.75it/s]\n",
      "Training: 100%|██████████| 196/196 [00:08<00:00, 22.79it/s]\n",
      "Training: 100%|██████████| 196/196 [00:08<00:00, 22.94it/s]\n",
      "Training: 100%|██████████| 196/196 [00:08<00:00, 22.93it/s]\n",
      "Training: 100%|██████████| 196/196 [00:08<00:00, 22.70it/s]\n",
      "Training: 100%|██████████| 196/196 [00:08<00:00, 22.97it/s]\n",
      "Training: 100%|██████████| 196/196 [00:08<00:00, 22.70it/s]\n"
     ]
    },
    {
     "name": "stdout",
     "output_type": "stream",
     "text": [
      "[train] Epoch 970. 0.0003153808274209864\n"
     ]
    },
    {
     "name": "stderr",
     "output_type": "stream",
     "text": [
      "Training:   2%|▏         | 3/196 [00:00<00:09, 21.07it/s]"
     ]
    },
    {
     "name": "stdout",
     "output_type": "stream",
     "text": [
      "[val] Epoch 970: 0.0003412994620850067\n"
     ]
    },
    {
     "name": "stderr",
     "output_type": "stream",
     "text": [
      "Training: 100%|██████████| 196/196 [00:08<00:00, 22.32it/s]\n",
      "Training: 100%|██████████| 196/196 [00:08<00:00, 23.50it/s]\n",
      "Training: 100%|██████████| 196/196 [00:08<00:00, 22.63it/s]\n",
      "Training: 100%|██████████| 196/196 [00:08<00:00, 22.07it/s]\n",
      "Training: 100%|██████████| 196/196 [00:08<00:00, 23.39it/s]\n",
      "Training: 100%|██████████| 196/196 [00:08<00:00, 21.88it/s]\n",
      "Training: 100%|██████████| 196/196 [00:08<00:00, 23.37it/s]\n",
      "Training: 100%|██████████| 196/196 [00:08<00:00, 22.72it/s]\n",
      "Training: 100%|██████████| 196/196 [00:08<00:00, 23.28it/s]\n",
      "Training: 100%|██████████| 196/196 [00:08<00:00, 23.25it/s]\n"
     ]
    },
    {
     "name": "stdout",
     "output_type": "stream",
     "text": [
      "[train] Epoch 980. 0.0002920967905281834\n"
     ]
    },
    {
     "name": "stderr",
     "output_type": "stream",
     "text": [
      "Training:   2%|▏         | 3/196 [00:00<00:09, 21.15it/s]"
     ]
    },
    {
     "name": "stdout",
     "output_type": "stream",
     "text": [
      "[val] Epoch 980: 0.00031858880437262826\n"
     ]
    },
    {
     "name": "stderr",
     "output_type": "stream",
     "text": [
      "Training: 100%|██████████| 196/196 [00:08<00:00, 22.00it/s]\n",
      "Training: 100%|██████████| 196/196 [00:08<00:00, 22.72it/s]\n",
      "Training: 100%|██████████| 196/196 [00:08<00:00, 23.45it/s]\n",
      "Training: 100%|██████████| 196/196 [00:08<00:00, 23.31it/s]\n",
      "Training: 100%|██████████| 196/196 [00:08<00:00, 23.42it/s]\n",
      "Training: 100%|██████████| 196/196 [00:08<00:00, 22.98it/s]\n",
      "Training: 100%|██████████| 196/196 [00:08<00:00, 23.76it/s]\n",
      "Training: 100%|██████████| 196/196 [00:08<00:00, 23.39it/s]\n",
      "Training: 100%|██████████| 196/196 [00:08<00:00, 23.92it/s]\n",
      "Training: 100%|██████████| 196/196 [00:08<00:00, 23.97it/s]\n"
     ]
    },
    {
     "name": "stdout",
     "output_type": "stream",
     "text": [
      "[train] Epoch 990. 0.0002711092609101993\n"
     ]
    },
    {
     "name": "stderr",
     "output_type": "stream",
     "text": [
      "Training:   1%|          | 2/196 [00:00<00:09, 19.98it/s]"
     ]
    },
    {
     "name": "stdout",
     "output_type": "stream",
     "text": [
      "[val] Epoch 990: 0.000294963248400291\n"
     ]
    },
    {
     "name": "stderr",
     "output_type": "stream",
     "text": [
      "Training: 100%|██████████| 196/196 [00:08<00:00, 24.16it/s]\n",
      "Training: 100%|██████████| 196/196 [00:08<00:00, 24.15it/s]\n",
      "Training: 100%|██████████| 196/196 [00:08<00:00, 24.08it/s]\n",
      "Training: 100%|██████████| 196/196 [00:08<00:00, 24.02it/s]\n",
      "Training: 100%|██████████| 196/196 [00:08<00:00, 22.47it/s]\n",
      "Training: 100%|██████████| 196/196 [00:08<00:00, 23.40it/s]\n",
      "Training: 100%|██████████| 196/196 [00:08<00:00, 23.07it/s]\n",
      "Training: 100%|██████████| 196/196 [00:08<00:00, 23.09it/s]\n",
      "Training: 100%|██████████| 196/196 [00:08<00:00, 23.25it/s]\n",
      "Training: 100%|██████████| 196/196 [00:08<00:00, 23.09it/s]\n"
     ]
    },
    {
     "name": "stdout",
     "output_type": "stream",
     "text": [
      "[train] Epoch 1000. 0.00026746818470926804\n",
      "[val] Epoch 1000: 0.00029066762205507\n"
     ]
    }
   ],
   "source": [
    "from tqdm import tqdm\n",
    "import torch.nn.functional as F\n",
    "import numpy as np\n",
    "\n",
    "ae = AutoEncoder(None).to(DEVICE)\n",
    "optim = torch.optim.Adam(ae.parameters())\n",
    "max_num_epochs = 1000\n",
    "\n",
    "\n",
    "def validate_ae(model, dataloader):\n",
    "    all_losses = []\n",
    "    model.eval()\n",
    "    \n",
    "    with torch.no_grad():\n",
    "        #for x, _ in tqdm(dataloader, desc='Validating', total=len(dataloader)):\n",
    "        for x, _ in dataloader:\n",
    "            x = x.to(DEVICE)\n",
    "            #losses = F.binary_cross_entropy(model(x), x, reduction='none')\n",
    "            losses = F.mse_loss(model(x), x, reduction='none')\n",
    "            all_losses.extend(losses.cpu().tolist())\n",
    "            \n",
    "    return np.mean(all_losses)\n",
    "\n",
    "\n",
    "for epoch in range(1, max_num_epochs + 1):\n",
    "    for i, (x, _) in tqdm(enumerate(dl_train), desc='Training', total=len(dl_train)):\n",
    "    #for i, (x, _) in enumerate(dl_train):\n",
    "        ae.train()\n",
    "        x = x.to(DEVICE)\n",
    "        \n",
    "        #loss = F.binary_cross_entropy(ae(x), x)\n",
    "        loss = F.mse_loss(ae(x), x)\n",
    "        optim.zero_grad()\n",
    "        loss.backward()\n",
    "        optim.step()\n",
    "    \n",
    "    if epoch % 10 == 0:\n",
    "        print(f'[train] Epoch {epoch}. {validate_ae(ae, dl_train)}')\n",
    "        print(f'[val] Epoch {epoch}: {validate_ae(ae, dl_test)}')"
   ]
  },
  {
   "cell_type": "code",
   "execution_count": 9,
   "metadata": {
    "collapsed": true,
    "jupyter": {
     "outputs_hidden": true
    }
   },
   "outputs": [
    {
     "data": {
      "text/plain": [
       "<matplotlib.image.AxesImage at 0x7f35dea7f0f0>"
      ]
     },
     "execution_count": 9,
     "metadata": {},
     "output_type": "execute_result"
    },
    {
     "data": {
      "image/png": "[encoded data removed]",
      "text/plain": [
       "<Figure size 1440x360 with 1 Axes>"
      ]
     },
     "metadata": {
      "needs_background": "light"
     },
     "output_type": "display_data"
    }
   ],
   "source": [
    "import random\n",
    "import matplotlib.pyplot as plt\n",
    "\n",
    "ae.eval()\n",
    "\n",
    "with torch.no_grad():\n",
    "    imgs = [ds_test[i][0] for i in random.sample(range(len(ds_test)), 10)]\n",
    "    recs = [ae(img.unsqueeze(0).to(DEVICE)).cpu().squeeze(0) for img in imgs]\n",
    "\n",
    "    imgs = [img.permute(1, 2, 0).numpy() for img in imgs]\n",
    "    recs = [rec.permute(1, 2, 0).numpy() for rec in recs]"
   ]
  },
  {
   "cell_type": "code",
   "execution_count": 18,
   "metadata": {},
   "outputs": [
    {
     "data": {
      "text/plain": [
       "<matplotlib.image.AxesImage at 0x7f366423cac8>"
      ]
     },
     "execution_count": 18,
     "metadata": {},
     "output_type": "execute_result"
    },
    {
     "data": {
      "image/png": "[encoded data removed]",
      "text/plain": [
       "<Figure size 1440x360 with 2 Axes>"
      ]
     },
     "metadata": {
      "needs_background": "light"
     },
     "output_type": "display_data"
    }
   ],
   "source": [
    "plt.figure(figsize=(20, 5))\n",
    "plt.subplot(211)\n",
    "plt.title('[val] Ground Truth')\n",
    "plt.imshow(np.stack(imgs, axis=1).reshape(32, -1, 3), interpolation='nearest')\n",
    "\n",
    "plt.subplot(212)\n",
    "plt.title('[val] Reconstructions')\n",
    "plt.imshow(np.stack(recs, axis=1).reshape(32, -1, 3), interpolation='nearest')"
   ]
  },
  {
   "cell_type": "code",
   "execution_count": 11,
   "metadata": {},
   "outputs": [],
   "source": [
    "def extract_features(ae, dataloader):\n",
    "    ae.eval()\n",
    "    \n",
    "    y = []\n",
    "    feats = []\n",
    "    \n",
    "    with torch.no_grad():\n",
    "        for batch in dataloader:\n",
    "            feats.extend(ae.encoder(batch[0].to(DEVICE)).cpu().flatten(1).tolist())\n",
    "            y.extend(batch[1])\n",
    "            \n",
    "    return feats, y\n",
    "\n",
    "feats_train, y_train = extract_features(ae, dl_train)\n",
    "feats_test, y_test = extract_features(ae, dl_test)"
   ]
  },
  {
   "cell_type": "code",
   "execution_count": 12,
   "metadata": {},
   "outputs": [],
   "source": [
    "feats_dl_train = DataLoader(list(zip(*[feats_train, y_train])), batch_size=256, shuffle=True, collate_fn=lambda b: list(zip(*b)))\n",
    "feats_dl_test = DataLoader(list(zip(*[feats_test, y_test])), batch_size=256, shuffle=False, collate_fn=lambda b: list(zip(*b)))"
   ]
  },
  {
   "cell_type": "code",
   "execution_count": 13,
   "metadata": {},
   "outputs": [],
   "source": [
    "ds = list(zip(*[feats_train, y_train]))"
   ]
  },
  {
   "cell_type": "code",
   "execution_count": null,
   "metadata": {},
   "outputs": [],
   "source": [
    "def validate_clf(clf_model, dataloader):\n",
    "    losses = []\n",
    "    accs = []\n",
    "\n",
    "    with torch.no_grad():\n",
    "        for x, y in dataloader:\n",
    "            x = torch.tensor(x).to(DEVICE)\n",
    "            y = torch.tensor(y).to(DEVICE)\n",
    "\n",
    "            logits = clf_model(x)\n",
    "            loss = F.cross_entropy(logits, y, reduction='none').cpu().tolist()\n",
    "            acc = (logits.argmax(dim=1) == y).float().cpu().tolist()\n",
    "            \n",
    "            losses.extend(loss)\n",
    "            accs.extend(acc)\n",
    "        \n",
    "    return np.mean(losses), np.mean(accs)"
   ]
  },
  {
   "cell_type": "code",
   "execution_count": 28,
   "metadata": {},
   "outputs": [
    {
     "name": "stdout",
     "output_type": "stream",
     "text": [
      "train acc: 0.21184\n",
      "val acc: 0.184\n",
      "train acc: 0.34842\n",
      "val acc: 0.2274\n",
      "train acc: 0.38474\n",
      "val acc: 0.2253\n",
      "train acc: 0.41748\n",
      "val acc: 0.2221\n",
      "train acc: 0.44646\n",
      "val acc: 0.2243\n",
      "train acc: 0.4422\n",
      "val acc: 0.2191\n",
      "train acc: 0.49832\n",
      "val acc: 0.2282\n",
      "train acc: 0.50374\n",
      "val acc: 0.229\n",
      "train acc: 0.48506\n",
      "val acc: 0.2152\n"
     ]
    },
    {
     "ename": "KeyboardInterrupt",
     "evalue": "",
     "output_type": "error",
     "traceback": [
      "\u001b[0;31m---------------------------------------------------------------------------\u001b[0m",
      "\u001b[0;31mKeyboardInterrupt\u001b[0m                         Traceback (most recent call last)",
      "\u001b[0;32m<ipython-input-28-4bab0b27a917>\u001b[0m in \u001b[0;36m<module>\u001b[0;34m\u001b[0m\n\u001b[1;32m     14\u001b[0m \u001b[0;32mfor\u001b[0m \u001b[0mepoch\u001b[0m \u001b[0;32min\u001b[0m \u001b[0mrange\u001b[0m\u001b[0;34m(\u001b[0m\u001b[0mmax_num_epochs\u001b[0m\u001b[0;34m)\u001b[0m\u001b[0;34m:\u001b[0m\u001b[0;34m\u001b[0m\u001b[0;34m\u001b[0m\u001b[0m\n\u001b[1;32m     15\u001b[0m     \u001b[0;32mfor\u001b[0m \u001b[0mbatch\u001b[0m \u001b[0;32min\u001b[0m \u001b[0mfeats_dl_train\u001b[0m\u001b[0;34m:\u001b[0m\u001b[0;34m\u001b[0m\u001b[0;34m\u001b[0m\u001b[0m\n\u001b[0;32m---> 16\u001b[0;31m         \u001b[0mx\u001b[0m \u001b[0;34m=\u001b[0m \u001b[0mtorch\u001b[0m\u001b[0;34m.\u001b[0m\u001b[0mtensor\u001b[0m\u001b[0;34m(\u001b[0m\u001b[0mbatch\u001b[0m\u001b[0;34m[\u001b[0m\u001b[0;36m0\u001b[0m\u001b[0;34m]\u001b[0m\u001b[0;34m)\u001b[0m\u001b[0;34m.\u001b[0m\u001b[0mto\u001b[0m\u001b[0;34m(\u001b[0m\u001b[0mDEVICE\u001b[0m\u001b[0;34m)\u001b[0m\u001b[0;34m\u001b[0m\u001b[0;34m\u001b[0m\u001b[0m\n\u001b[0m\u001b[1;32m     17\u001b[0m         \u001b[0my\u001b[0m \u001b[0;34m=\u001b[0m \u001b[0mtorch\u001b[0m\u001b[0;34m.\u001b[0m\u001b[0mtensor\u001b[0m\u001b[0;34m(\u001b[0m\u001b[0mbatch\u001b[0m\u001b[0;34m[\u001b[0m\u001b[0;36m1\u001b[0m\u001b[0;34m]\u001b[0m\u001b[0;34m)\u001b[0m\u001b[0;34m.\u001b[0m\u001b[0mto\u001b[0m\u001b[0;34m(\u001b[0m\u001b[0mDEVICE\u001b[0m\u001b[0;34m)\u001b[0m\u001b[0;34m\u001b[0m\u001b[0;34m\u001b[0m\u001b[0m\n\u001b[1;32m     18\u001b[0m \u001b[0;34m\u001b[0m\u001b[0m\n",
      "\u001b[0;31mKeyboardInterrupt\u001b[0m: "
     ]
    }
   ],
   "source": [
    "classifier = nn.Sequential(\n",
    "    #nn.Dropout(0.1),\n",
    "    #nn.Linear(2048, 256),\n",
    "    #nn.BatchNorm1d(256),\n",
    "    #nn.ReLU(),\n",
    "    #nn.Dropout(0.1),\n",
    "    #nn.Linear(256, 100)\n",
    "    nn.Linear(2048, 100)\n",
    ").to(DEVICE)\n",
    "\n",
    "max_num_epochs = 100\n",
    "optim = torch.optim.Adam(classifier.parameters(), lr=1e-2)\n",
    "\n",
    "for epoch in range(max_num_epochs):\n",
    "    for batch in feats_dl_train:\n",
    "        x = torch.tensor(batch[0]).to(DEVICE)\n",
    "        y = torch.tensor(batch[1]).to(DEVICE)\n",
    "\n",
    "        logits = classifier(x)\n",
    "        loss = F.cross_entropy(logits, y)\n",
    "        acc = (logits.argmax(dim=1) == y).float().mean().detach().cpu()\n",
    "\n",
    "        optim.zero_grad()\n",
    "        loss.backward()\n",
    "        optim.step()\n",
    "\n",
    "    #print('acc', acc.item())\n",
    "    if epoch % 5 == 0:\n",
    "        print('train acc:', validate_clf(classifier, feats_dl_train)[1])\n",
    "        print('val acc:', validate_clf(classifier, feats_dl_test)[1])"
   ]
  }
 ],
 "metadata": {
  "kernelspec": {
   "display_name": "Python 3",
   "language": "python",
   "name": "python3"
  },
  "language_info": {
   "codemirror_mode": {
    "name": "ipython",
    "version": 3
   },
   "file_extension": ".py",
   "mimetype": "text/x-python",
   "name": "python",
   "nbconvert_exporter": "python",
   "pygments_lexer": "ipython3",
   "version": "3.7.3"
  }
 },
 "nbformat": 4,
 "nbformat_minor": 4
}

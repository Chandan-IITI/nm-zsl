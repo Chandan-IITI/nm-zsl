{
 "cells": [
  {
   "cell_type": "code",
   "execution_count": 36,
   "metadata": {},
   "outputs": [
    {
     "data": {
      "text/plain": [
       "torch.Size([1, 1024, 28, 28])"
      ]
     },
     "execution_count": 36,
     "metadata": {},
     "output_type": "execute_result"
    }
   ],
   "source": [
    "import torch\n",
    "import torch.nn as nn\n",
    "from torch import Tensor\n",
    "from typing import Tuple\n",
    "from torchvision.models.resnet import resnet18, resnet34, resnet50\n",
    "\n",
    "RESNET_FEAT_DIM = {18: 512, 34: 512, 50: 2048}\n",
    "RESNET_CONV_FEAT_DIM = {18: 256, 34: 256, 50: 1024}\n",
    "RESNET_TYPE_TO_CLS = {18: resnet18, 34: resnet34, 50: resnet50}\n",
    "\n",
    "z_dim = 512\n",
    "emb_dim = 512\n",
    "hid_dim = 1024\n",
    "resnet_type = 50\n",
    "\n",
    "class Reshape(nn.Module):\n",
    "    def __init__(self, target_shape: Tuple[int]):\n",
    "        super(Reshape, self).__init__()\n",
    "\n",
    "        self.target_shape = target_shape\n",
    "\n",
    "    def forward(self, x):\n",
    "        return x.view(*self.target_shape)\n",
    "    \n",
    "\n",
    "class ConvTransposeBNReLU(nn.Module):\n",
    "    def __init__(self, num_in_c: int, num_out_c: int, kernel_size: int, *conv_args, **conv_kwargs):\n",
    "        super(ConvTransposeBNReLU, self).__init__()\n",
    "\n",
    "        self.block = nn.Sequential(\n",
    "            nn.ConvTranspose2d(num_in_c, num_out_c, kernel_size, *conv_args, **conv_kwargs),\n",
    "            nn.BatchNorm2d(num_out_c),\n",
    "            nn.ReLU(),\n",
    "        )\n",
    "\n",
    "    def forward(self, x):\n",
    "        return self.block(x)\n",
    "\n",
    "\n",
    "    \n",
    "class ResNetLastBlock(nn.Module):\n",
    "    def __init__(self, resnet_type: int, pretrained: bool, should_pool: bool=True):\n",
    "        super(ResNetLastBlock, self).__init__()\n",
    "\n",
    "        self.resnet = RESNET_TYPE_TO_CLS[resnet_type](pretrained=pretrained)\n",
    "        self.should_pool = should_pool\n",
    "\n",
    "        del self.resnet.conv1\n",
    "        del self.resnet.bn1\n",
    "        del self.resnet.relu\n",
    "        del self.resnet.maxpool\n",
    "        del self.resnet.layer1\n",
    "        del self.resnet.layer2\n",
    "        del self.resnet.layer3\n",
    "        del self.resnet.fc\n",
    "\n",
    "    def forward(self, x: Tensor) -> Tensor:\n",
    "        x = self.resnet.layer4(x)\n",
    "\n",
    "        if self.should_pool:\n",
    "            x = self.resnet.avgpool(x)\n",
    "            x = torch.flatten(x, 1)\n",
    "\n",
    "        return x\n",
    "\n",
    "encoder = ResNetLastBlock(50, True, False)\n",
    "decoder = nn.Sequential(\n",
    "    ConvTransposeBNReLU(z_dim + emb_dim, hid_dim, 5),\n",
    "    ConvTransposeBNReLU(hid_dim, hid_dim, 6),\n",
    "    nn.ConvTranspose2d(hid_dim, RESNET_CONV_FEAT_DIM[resnet_type], 6),\n",
    ")\n",
    "\n",
    "decoder(torch.rand(1, z_dim + emb_dim, 14, 14)).shape"
   ]
  },
  {
   "cell_type": "code",
   "execution_count": 19,
   "metadata": {},
   "outputs": [
    {
     "data": {
      "text/plain": [
       "tensor([[[[0.7399, 0.7399, 0.7399],\n",
       "          [0.7399, 0.7399, 0.7399],\n",
       "          [0.7399, 0.7399, 0.7399]],\n",
       "\n",
       "         [[0.0919, 0.0919, 0.0919],\n",
       "          [0.0919, 0.0919, 0.0919],\n",
       "          [0.0919, 0.0919, 0.0919]]],\n",
       "\n",
       "\n",
       "        [[[0.5146, 0.5146, 0.5146],\n",
       "          [0.5146, 0.5146, 0.5146],\n",
       "          [0.5146, 0.5146, 0.5146]],\n",
       "\n",
       "         [[0.2894, 0.2894, 0.2894],\n",
       "          [0.2894, 0.2894, 0.2894],\n",
       "          [0.2894, 0.2894, 0.2894]]]])"
      ]
     },
     "execution_count": 19,
     "metadata": {},
     "output_type": "execute_result"
    }
   ],
   "source": [
    "import torch\n",
    "import torch.nn as nn\n",
    "\n",
    "class RepeatToSize(nn.Module):\n",
    "    def __init__(self, target_size: int):\n",
    "        super(RepeatToSize, self).__init__()\n",
    "        self.target_size = target_size\n",
    "\n",
    "    def forward(self, x):\n",
    "        assert x.ndim == 4\n",
    "\n",
    "        if self.target_size == 1:\n",
    "            return x\n",
    "        else:\n",
    "            return x.repeat(1, 1, self.target_size, self.target_size)\n",
    "\n",
    "model = RepeatToSize(3)\n",
    "\n",
    "model(torch.rand(2, 2, 1, 1))\n",
    "# sum(p.numel() for p in model.parameters())"
   ]
  },
  {
   "cell_type": "code",
   "execution_count": 30,
   "metadata": {},
   "outputs": [
    {
     "data": {
      "text/plain": [
       "torch.Size([1, 2048, 14, 14])"
      ]
     },
     "execution_count": 30,
     "metadata": {},
     "output_type": "execute_result"
    }
   ],
   "source": [
    "encoder(torch.rand(1, 1024, 28, 28)).shape"
   ]
  },
  {
   "cell_type": "code",
   "execution_count": 1,
   "metadata": {},
   "outputs": [],
   "source": [
    "import sys; sys.path.append('..')\n",
    "import torch\n",
    "import numpy as np\n",
    "from firelab.config import Config\n",
    "from src.models.lat_gm import LatGM\n",
    "# from src.dataloaders.load_data import load_data\n",
    "from src.dataloaders.cub import CUB\n",
    "\n",
    "# config = Config.load('../configs/lat_gm.yml')\n",
    "# config.all.hp.model.set('pretrained', True)\n",
    "# config.all.hp.model.set('num_classes', 200)\n",
    "# config = Config.load('../configs/base.yml')\n",
    "# ds_train, ds_test, attrs = load_data(Config({\n",
    "#  'num_reserved_classes': 0,\n",
    "#  'num_classes': 200,\n",
    "#  'num_classes_per_task': 20,\n",
    "#  'dir': '../data/CUB_200_2011',\n",
    "#  'num_tasks': 10,\n",
    "#  'name': 'CUB'}), embed_data=True)"
   ]
  },
  {
   "cell_type": "code",
   "execution_count": 2,
   "metadata": {},
   "outputs": [
    {
     "name": "stderr",
     "output_type": "stream",
     "text": [
      "[Loading dataset]: 100%|██████████| 5994/5994 [03:15<00:00, 30.64it/s]\n",
      "[Loading dataset]: 100%|██████████| 5794/5794 [02:41<00:00, 35.99it/s]\n"
     ]
    }
   ],
   "source": [
    "import torchvision.transforms as T\n",
    "from src.dataloaders.cub import CUB\n",
    "\n",
    "transform = T.Compose([\n",
    "    T.ToPILImage(),\n",
    "    T.CenterCrop([448, 448]),\n",
    "    T.ToTensor(),\n",
    "    T.Normalize(mean=(0.485, 0.456, 0.406), std=(0.229, 0.224, 0.225))\n",
    "])\n",
    "\n",
    "ds_train = CUB('../data/CUB_200_2011', train=True, transform=transform)\n",
    "ds_test = CUB('../data/CUB_200_2011', train=False, transform=transform)\n",
    "\n",
    "# self.train_dataloader = DataLoader(ds_train, batch_size=self.config.hp.batch_size, shuffle=True)\n",
    "# self.val_dataloader = DataLoader(ds_test, batch_size=128, shuffle=False)"
   ]
  },
  {
   "cell_type": "code",
   "execution_count": 6,
   "metadata": {},
   "outputs": [
    {
     "name": "stderr",
     "output_type": "stream",
     "text": [
      "[Extracting features]: 100%|██████████| 24/24 [00:50<00:00,  2.10s/it]\n",
      "[Extracting features]: 100%|██████████| 23/23 [00:49<00:00,  2.17s/it]\n"
     ]
    }
   ],
   "source": [
    "from src.dataloaders.utils import extract_resnet_features_for_dataset\n",
    "\n",
    "ds_train_feats = extract_resnet_features_for_dataset(ds_train, resnet_type=50, feat_level='conv', device='cuda', batch_size=256)\n",
    "ds_test_feats = extract_resnet_features_for_dataset(ds_test, resnet_type=50, feat_level='conv', device='cuda', batch_size=256)"
   ]
  },
  {
   "cell_type": "code",
   "execution_count": 7,
   "metadata": {},
   "outputs": [],
   "source": [
    "np.save('../data/CUB_EMBEDDED/train_conv_feats_resnet50', ds_train_feats, allow_pickle=True)\n",
    "np.save('../data/CUB_EMBEDDED/test_conv_feats_resnet50', ds_test_feats, allow_pickle=True)"
   ]
  },
  {
   "cell_type": "code",
   "execution_count": 1,
   "metadata": {},
   "outputs": [],
   "source": [
    "import numpy as np\n",
    "data_train = np.load('../data/CUB_EMBEDDED/train_feats_resnet18.npy', allow_pickle=True)\n",
    "data_test = np.load('../data/CUB_EMBEDDED/test_feats_resnet18.npy', allow_pickle=True)\n",
    "\n",
    "classes_train = [d[1] for d in data_train]\n",
    "classes_test = [d[1] for d in data_test]"
   ]
  },
  {
   "cell_type": "code",
   "execution_count": 16,
   "metadata": {},
   "outputs": [
    {
     "data": {
      "image/png": "[encoded data removed]",
      "text/plain": [
       "<Figure size 432x288 with 1 Axes>"
      ]
     },
     "metadata": {
      "needs_background": "light"
     },
     "output_type": "display_data"
    }
   ],
   "source": [
    "import matplotlib.pyplot as plt\n",
    "\n",
    "plt.hist(classes_train, bins=200);\n",
    "plt.hist(classes_test, bins=200);"
   ]
  }
 ],
 "metadata": {
  "kernelspec": {
   "display_name": "Python 3",
   "language": "python",
   "name": "python3"
  },
  "language_info": {
   "codemirror_mode": {
    "name": "ipython",
    "version": 3
   },
   "file_extension": ".py",
   "mimetype": "text/x-python",
   "name": "python",
   "nbconvert_exporter": "python",
   "pygments_lexer": "ipython3",
   "version": "3.7.3"
  }
 },
 "nbformat": 4,
 "nbformat_minor": 4
}

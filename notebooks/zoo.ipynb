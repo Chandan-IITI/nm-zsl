{
 "cells": [
  {
   "cell_type": "code",
   "execution_count": 1,
   "metadata": {},
   "outputs": [],
   "source": [
    "import sys; sys.path.append('..')\n",
    "import torch\n",
    "from torchsummary import summary\n",
    "from src.models.autoencoder import AutoEncoder\n",
    "\n",
    "DEVICE = 'cuda:3'"
   ]
  },
  {
   "cell_type": "code",
   "execution_count": 2,
   "metadata": {},
   "outputs": [],
   "source": [
    "from torchvision.datasets import CIFAR10\n",
    "import torchvision.transforms as T\n",
    "\n",
    "ds_train = CIFAR10('../data/cifar10', train=True, transform=T.Compose([\n",
    "    T.ToTensor(),\n",
    "    #T.Normalize((0.5, 0.5, 0.5), (0.5, 0.5, 0.5))\n",
    "]))\n",
    "ds_test = CIFAR10('../data/cifar10', train=False, transform=T.Compose([\n",
    "    T.ToTensor(),\n",
    "    #T.Normalize((0.5, 0.5, 0.5), (0.5, 0.5, 0.5))\n",
    "]))"
   ]
  },
  {
   "cell_type": "code",
   "execution_count": 3,
   "metadata": {},
   "outputs": [],
   "source": [
    "from torch.utils.data import DataLoader\n",
    "from torch.utils.data import Subset\n",
    "\n",
    "# ds_train = Subset(ds_train, range(100))\n",
    "# ds_test = Subset(ds_test, range(100))\n",
    "\n",
    "dl_train = DataLoader(ds_train, batch_size=256, shuffle=True)\n",
    "dl_test = DataLoader(ds_test, batch_size=256, shuffle=False)"
   ]
  },
  {
   "cell_type": "code",
   "execution_count": 11,
   "metadata": {},
   "outputs": [],
   "source": [
    "import torch\n",
    "import torch.nn as nn\n",
    "from torch import Tensor\n",
    "from firelab.config import Config\n",
    "\n",
    "from src.models.layers import ConvBNReLU, ConvTransposeBNReLU, Reshape\n",
    "\n",
    "\n",
    "import torch\n",
    "import torch.nn as nn\n",
    "from torch import Tensor\n",
    "from firelab.config import Config\n",
    "\n",
    "from src.models.layers import ConvBNReLU, ConvTransposeBNReLU, Reshape\n",
    "\n",
    "\n",
    "class AutoEncoder(nn.Module):\n",
    "    def __init__(self, config: Config):\n",
    "        super(AutoEncoder, self).__init__()\n",
    "\n",
    "        self.encoder = Encoder(config)\n",
    "        self.decoder = Decoder(config)\n",
    "\n",
    "    def forward(self, x: Tensor) -> Tensor:\n",
    "        return self.decoder(self.encoder(x))\n",
    "\n",
    "\n",
    "class Encoder(nn.Module):\n",
    "    def __init__(self, config: Config):\n",
    "        super(Encoder, self).__init__()\n",
    "\n",
    "#         self.model = nn.Sequential(\n",
    "#             ConvBNReLU(3, 16, 3, False),\n",
    "#             ConvBNReLU(16, 64, 3, False, stride=2),\n",
    "#             ConvBNReLU(64, 256, 3, False, stride=2),\n",
    "#             ConvBNReLU(256, 512, 3, False, stride=2),\n",
    "#             #Reshape([-1, 2048])\n",
    "#         )\n",
    "#         self.model = nn.Sequential(\n",
    "#             nn.Conv2d(3, 12, 4, stride=2, padding=1),            # [batch, 12, 16, 16]\n",
    "#             nn.ReLU(),\n",
    "#             nn.Conv2d(12, 24, 4, stride=2, padding=1),           # [batch, 24, 8, 8]\n",
    "#             nn.ReLU(),\n",
    "#             nn.Conv2d(24, 48, 4, stride=2, padding=1),           # [batch, 48, 4, 4]\n",
    "#             nn.ReLU(),\n",
    "#         )\n",
    "        self.model = nn.Sequential(\n",
    "            nn.Conv2d(3, 16, 4, stride=2, padding=1),\n",
    "            nn.ReLU(),\n",
    "            nn.Conv2d(16, 64, 4, stride=2, padding=1),\n",
    "            nn.ReLU(),\n",
    "            nn.Conv2d(64, 256, 4, stride=2, padding=1),\n",
    "            nn.ReLU(),\n",
    "            nn.Conv2d(256, 512, 3, stride=2, padding=1),\n",
    "            nn.ReLU(),\n",
    "        )\n",
    "\n",
    "    def forward(self, x: Tensor) -> Tensor:\n",
    "        return self.model(x)\n",
    "    \n",
    "\n",
    "class Decoder(nn.Module):\n",
    "    def __init__(self, config: Config):\n",
    "        super(Decoder, self).__init__()\n",
    "\n",
    "#         self.model = nn.Sequential(\n",
    "#             #Reshape([-1, 512, 2, 2]),\n",
    "#             ConvTransposeBNReLU(512, 256, 4, stride=2, padding=1),\n",
    "#             ConvTransposeBNReLU(256, 256, 4, stride=2, padding=1),\n",
    "#             ConvTransposeBNReLU(256, 64, 4, stride=2, padding=1),\n",
    "#             ConvTransposeBNReLU(64, 3, 4, stride=2, padding=1),\n",
    "#             nn.Sigmoid(),\n",
    "#         )\n",
    "        self.model = nn.Sequential(\n",
    "            nn.ConvTranspose2d(512, 256, 4, stride=2, padding=1),  # [batch, 24, 8, 8]\n",
    "            nn.ReLU(),\n",
    "            nn.ConvTranspose2d(256, 128, 4, stride=2, padding=1),  # [batch, 24, 8, 8]\n",
    "            nn.ReLU(),\n",
    "            nn.ConvTranspose2d(128, 64, 4, stride=2, padding=1),  # [batch, 12, 16, 16]\n",
    "            nn.ReLU(),\n",
    "            nn.ConvTranspose2d(64, 3, 4, stride=2, padding=1),   # [batch, 3, 32, 32]\n",
    "            nn.Sigmoid(),\n",
    "        )\n",
    "\n",
    "    def forward(self, x: Tensor) -> Tensor:\n",
    "        return self.model(x)\n",
    "\n",
    "\n",
    "class ShapePrinter(nn.Module):\n",
    "    def __init__(self, title: str='unknown'):\n",
    "        super(ShapePrinter, self).__init__()\n",
    "        self.title = title\n",
    "\n",
    "    def forward(self, x):\n",
    "        print(self.title, x.shape, x.flatten(1).shape)\n",
    "        return x"
   ]
  },
  {
   "cell_type": "code",
   "execution_count": 12,
   "metadata": {},
   "outputs": [],
   "source": [
    "# ae = AutoEncoder(None).to('cuda')\n",
    "# summary(ae, (3, 32, 32))"
   ]
  },
  {
   "cell_type": "code",
   "execution_count": 13,
   "metadata": {},
   "outputs": [
    {
     "name": "stderr",
     "output_type": "stream",
     "text": [
      "Training: 100%|██████████| 196/196 [00:08<00:00, 22.45it/s]\n",
      "Training: 100%|██████████| 196/196 [00:08<00:00, 23.26it/s]\n",
      "Training: 100%|██████████| 196/196 [00:08<00:00, 22.84it/s]\n",
      "Training: 100%|██████████| 196/196 [00:09<00:00, 21.10it/s]\n",
      "Training: 100%|██████████| 196/196 [00:09<00:00, 20.17it/s]\n",
      "Training: 100%|██████████| 196/196 [00:08<00:00, 22.01it/s]\n",
      "Training: 100%|██████████| 196/196 [00:08<00:00, 22.22it/s]\n",
      "Training: 100%|██████████| 196/196 [00:08<00:00, 22.36it/s]\n",
      "Training: 100%|██████████| 196/196 [00:08<00:00, 22.66it/s]\n",
      "Training: 100%|██████████| 196/196 [00:08<00:00, 22.82it/s]\n"
     ]
    },
    {
     "name": "stdout",
     "output_type": "stream",
     "text": [
      "[train] Epoch 10. 0.004840629668714331\n"
     ]
    },
    {
     "name": "stderr",
     "output_type": "stream",
     "text": [
      "Training:   1%|          | 2/196 [00:00<00:09, 19.90it/s]"
     ]
    },
    {
     "name": "stdout",
     "output_type": "stream",
     "text": [
      "[val] Epoch 10: 0.004866561924633486\n"
     ]
    },
    {
     "name": "stderr",
     "output_type": "stream",
     "text": [
      "Training: 100%|██████████| 196/196 [00:08<00:00, 22.75it/s]\n",
      "Training: 100%|██████████| 196/196 [00:09<00:00, 21.10it/s]\n",
      "Training: 100%|██████████| 196/196 [00:08<00:00, 23.01it/s]\n",
      "Training: 100%|██████████| 196/196 [00:08<00:00, 22.87it/s]\n",
      "Training: 100%|██████████| 196/196 [00:08<00:00, 23.61it/s]\n",
      "Training: 100%|██████████| 196/196 [00:08<00:00, 23.84it/s]\n",
      "Training: 100%|██████████| 196/196 [00:08<00:00, 22.96it/s]\n",
      "Training: 100%|██████████| 196/196 [00:08<00:00, 22.79it/s]\n",
      "Training: 100%|██████████| 196/196 [00:08<00:00, 22.69it/s]\n",
      "Training: 100%|██████████| 196/196 [00:08<00:00, 22.99it/s]\n"
     ]
    },
    {
     "name": "stdout",
     "output_type": "stream",
     "text": [
      "[train] Epoch 20. 0.003053527125347675\n"
     ]
    },
    {
     "name": "stderr",
     "output_type": "stream",
     "text": [
      "Training:   2%|▏         | 3/196 [00:00<00:09, 20.92it/s]"
     ]
    },
    {
     "name": "stdout",
     "output_type": "stream",
     "text": [
      "[val] Epoch 20: 0.0030875497366148227\n"
     ]
    },
    {
     "name": "stderr",
     "output_type": "stream",
     "text": [
      "Training: 100%|██████████| 196/196 [00:08<00:00, 23.10it/s]\n",
      "Training: 100%|██████████| 196/196 [00:08<00:00, 22.29it/s]\n",
      "Training: 100%|██████████| 196/196 [00:08<00:00, 23.67it/s]\n",
      "Training: 100%|██████████| 196/196 [00:08<00:00, 22.15it/s]\n",
      "Training: 100%|██████████| 196/196 [00:09<00:00, 21.67it/s]\n",
      "Training: 100%|██████████| 196/196 [00:09<00:00, 20.91it/s]\n",
      "Training: 100%|██████████| 196/196 [00:09<00:00, 20.28it/s]\n",
      "Training: 100%|██████████| 196/196 [00:08<00:00, 23.77it/s]\n",
      "Training: 100%|██████████| 196/196 [00:08<00:00, 23.57it/s]\n",
      "Training: 100%|██████████| 196/196 [00:08<00:00, 22.80it/s]\n"
     ]
    },
    {
     "name": "stdout",
     "output_type": "stream",
     "text": [
      "[train] Epoch 30. 0.0030201760098860766\n"
     ]
    },
    {
     "name": "stderr",
     "output_type": "stream",
     "text": [
      "Training:   2%|▏         | 3/196 [00:00<00:09, 20.99it/s]"
     ]
    },
    {
     "name": "stdout",
     "output_type": "stream",
     "text": [
      "[val] Epoch 30: 0.0030637408907218102\n"
     ]
    },
    {
     "name": "stderr",
     "output_type": "stream",
     "text": [
      "Training: 100%|██████████| 196/196 [00:08<00:00, 23.74it/s]\n",
      "Training: 100%|██████████| 196/196 [00:08<00:00, 23.64it/s]\n",
      "Training: 100%|██████████| 196/196 [00:08<00:00, 23.74it/s]\n",
      "Training: 100%|██████████| 196/196 [00:08<00:00, 23.67it/s]\n",
      "Training: 100%|██████████| 196/196 [00:08<00:00, 23.34it/s]\n",
      "Training: 100%|██████████| 196/196 [00:08<00:00, 23.65it/s]\n",
      "Training: 100%|██████████| 196/196 [00:08<00:00, 23.76it/s]\n",
      "Training: 100%|██████████| 196/196 [00:08<00:00, 22.48it/s]\n",
      "Training: 100%|██████████| 196/196 [00:08<00:00, 23.59it/s]\n",
      "Training: 100%|██████████| 196/196 [00:08<00:00, 23.45it/s]\n"
     ]
    },
    {
     "name": "stdout",
     "output_type": "stream",
     "text": [
      "[train] Epoch 40. 0.0019588685000193383\n"
     ]
    },
    {
     "name": "stderr",
     "output_type": "stream",
     "text": [
      "Training:   2%|▏         | 3/196 [00:00<00:09, 21.13it/s]"
     ]
    },
    {
     "name": "stdout",
     "output_type": "stream",
     "text": [
      "[val] Epoch 40: 0.002003090748195999\n"
     ]
    },
    {
     "name": "stderr",
     "output_type": "stream",
     "text": [
      "Training: 100%|██████████| 196/196 [00:08<00:00, 23.69it/s]\n",
      "Training: 100%|██████████| 196/196 [00:08<00:00, 23.13it/s]\n",
      "Training: 100%|██████████| 196/196 [00:08<00:00, 23.83it/s]\n",
      "Training: 100%|██████████| 196/196 [00:08<00:00, 23.36it/s]\n",
      "Training: 100%|██████████| 196/196 [00:08<00:00, 22.65it/s]\n",
      "Training: 100%|██████████| 196/196 [00:08<00:00, 23.61it/s]\n",
      "Training: 100%|██████████| 196/196 [00:08<00:00, 22.91it/s]\n",
      "Training: 100%|██████████| 196/196 [00:08<00:00, 23.16it/s]\n",
      "Training: 100%|██████████| 196/196 [00:08<00:00, 23.27it/s]\n",
      "Training: 100%|██████████| 196/196 [00:08<00:00, 22.98it/s]\n"
     ]
    },
    {
     "name": "stdout",
     "output_type": "stream",
     "text": [
      "[train] Epoch 50. 0.0016936797113985597\n"
     ]
    },
    {
     "name": "stderr",
     "output_type": "stream",
     "text": [
      "Training:   1%|          | 2/196 [00:00<00:15, 12.76it/s]"
     ]
    },
    {
     "name": "stdout",
     "output_type": "stream",
     "text": [
      "[val] Epoch 50: 0.0017366285320124326\n"
     ]
    },
    {
     "name": "stderr",
     "output_type": "stream",
     "text": [
      "Training: 100%|██████████| 196/196 [00:08<00:00, 23.71it/s]\n",
      "Training: 100%|██████████| 196/196 [00:08<00:00, 23.78it/s]\n",
      "Training: 100%|██████████| 196/196 [00:08<00:00, 22.95it/s]\n",
      "Training: 100%|██████████| 196/196 [00:08<00:00, 23.63it/s]\n",
      "Training: 100%|██████████| 196/196 [00:08<00:00, 21.81it/s]\n",
      "Training: 100%|██████████| 196/196 [00:08<00:00, 22.44it/s]\n",
      "Training: 100%|██████████| 196/196 [00:08<00:00, 23.56it/s]\n",
      "Training: 100%|██████████| 196/196 [00:08<00:00, 23.54it/s]\n",
      "Training: 100%|██████████| 196/196 [00:08<00:00, 23.12it/s]\n",
      "Training: 100%|██████████| 196/196 [00:08<00:00, 23.49it/s]\n"
     ]
    },
    {
     "name": "stdout",
     "output_type": "stream",
     "text": [
      "[train] Epoch 60. 0.001566663680701479\n"
     ]
    },
    {
     "name": "stderr",
     "output_type": "stream",
     "text": [
      "Training:   2%|▏         | 3/196 [00:00<00:09, 21.18it/s]"
     ]
    },
    {
     "name": "stdout",
     "output_type": "stream",
     "text": [
      "[val] Epoch 60: 0.0016108026419183138\n"
     ]
    },
    {
     "name": "stderr",
     "output_type": "stream",
     "text": [
      "Training: 100%|██████████| 196/196 [00:08<00:00, 23.36it/s]\n",
      "Training: 100%|██████████| 196/196 [00:08<00:00, 23.63it/s]\n",
      "Training: 100%|██████████| 196/196 [00:08<00:00, 24.05it/s]\n",
      "Training: 100%|██████████| 196/196 [00:08<00:00, 22.51it/s]\n",
      "Training: 100%|██████████| 196/196 [00:08<00:00, 23.42it/s]\n",
      "Training: 100%|██████████| 196/196 [00:08<00:00, 22.18it/s]\n",
      "Training: 100%|██████████| 196/196 [00:08<00:00, 23.62it/s]\n",
      "Training: 100%|██████████| 196/196 [00:08<00:00, 23.30it/s]\n",
      "Training: 100%|██████████| 196/196 [00:08<00:00, 22.34it/s]\n",
      "Training: 100%|██████████| 196/196 [00:08<00:00, 23.29it/s]\n"
     ]
    },
    {
     "name": "stdout",
     "output_type": "stream",
     "text": [
      "[train] Epoch 70. 0.001395300340485556\n"
     ]
    },
    {
     "name": "stderr",
     "output_type": "stream",
     "text": [
      "Training:   1%|          | 2/196 [00:00<00:13, 13.91it/s]"
     ]
    },
    {
     "name": "stdout",
     "output_type": "stream",
     "text": [
      "[val] Epoch 70: 0.001436901520452206\n"
     ]
    },
    {
     "name": "stderr",
     "output_type": "stream",
     "text": [
      "Training: 100%|██████████| 196/196 [00:09<00:00, 21.15it/s]\n",
      "Training: 100%|██████████| 196/196 [00:08<00:00, 22.99it/s]\n",
      "Training: 100%|██████████| 196/196 [00:08<00:00, 22.90it/s]\n",
      "Training: 100%|██████████| 196/196 [00:09<00:00, 20.96it/s]\n",
      "Training: 100%|██████████| 196/196 [00:08<00:00, 23.51it/s]\n",
      "Training: 100%|██████████| 196/196 [00:08<00:00, 23.55it/s]\n",
      "Training: 100%|██████████| 196/196 [00:08<00:00, 23.43it/s]\n",
      "Training: 100%|██████████| 196/196 [00:08<00:00, 23.56it/s]\n",
      "Training: 100%|██████████| 196/196 [00:08<00:00, 23.54it/s]\n",
      "Training: 100%|██████████| 196/196 [00:08<00:00, 23.16it/s]\n"
     ]
    },
    {
     "name": "stdout",
     "output_type": "stream",
     "text": [
      "[train] Epoch 80. 0.0012399065580644842\n"
     ]
    },
    {
     "name": "stderr",
     "output_type": "stream",
     "text": [
      "Training:   2%|▏         | 3/196 [00:00<00:09, 20.75it/s]"
     ]
    },
    {
     "name": "stdout",
     "output_type": "stream",
     "text": [
      "[val] Epoch 80: 0.00128195647306603\n"
     ]
    },
    {
     "name": "stderr",
     "output_type": "stream",
     "text": [
      "Training: 100%|██████████| 196/196 [00:08<00:00, 22.75it/s]\n",
      "Training: 100%|██████████| 196/196 [00:08<00:00, 24.15it/s]\n",
      "Training: 100%|██████████| 196/196 [00:08<00:00, 23.73it/s]\n",
      "Training: 100%|██████████| 196/196 [00:08<00:00, 23.28it/s]\n",
      "Training: 100%|██████████| 196/196 [00:08<00:00, 23.61it/s]\n",
      "Training: 100%|██████████| 196/196 [00:08<00:00, 23.61it/s]\n",
      "Training: 100%|██████████| 196/196 [00:08<00:00, 23.04it/s]\n",
      "Training: 100%|██████████| 196/196 [00:08<00:00, 23.87it/s]\n",
      "Training: 100%|██████████| 196/196 [00:08<00:00, 23.53it/s]\n",
      "Training: 100%|██████████| 196/196 [00:08<00:00, 23.17it/s]\n"
     ]
    },
    {
     "name": "stdout",
     "output_type": "stream",
     "text": [
      "[train] Epoch 90. 0.00111746975289753\n"
     ]
    },
    {
     "name": "stderr",
     "output_type": "stream",
     "text": [
      "Training:   2%|▏         | 3/196 [00:00<00:09, 21.12it/s]"
     ]
    },
    {
     "name": "stdout",
     "output_type": "stream",
     "text": [
      "[val] Epoch 90: 0.0011552116707733275\n"
     ]
    },
    {
     "name": "stderr",
     "output_type": "stream",
     "text": [
      "Training: 100%|██████████| 196/196 [00:08<00:00, 22.37it/s]\n",
      "Training: 100%|██████████| 196/196 [00:08<00:00, 23.14it/s]\n",
      "Training: 100%|██████████| 196/196 [00:08<00:00, 21.92it/s]\n",
      "Training: 100%|██████████| 196/196 [00:08<00:00, 22.39it/s]\n",
      "Training: 100%|██████████| 196/196 [00:08<00:00, 23.43it/s]\n",
      "Training: 100%|██████████| 196/196 [00:08<00:00, 23.51it/s]\n",
      "Training: 100%|██████████| 196/196 [00:08<00:00, 23.26it/s]\n",
      "Training: 100%|██████████| 196/196 [00:08<00:00, 23.28it/s]\n",
      "Training: 100%|██████████| 196/196 [00:08<00:00, 22.05it/s]\n",
      "Training: 100%|██████████| 196/196 [00:08<00:00, 22.92it/s]\n"
     ]
    },
    {
     "name": "stdout",
     "output_type": "stream",
     "text": [
      "[train] Epoch 100. 0.0012036252806219808\n",
      "[val] Epoch 100: 0.0012379098337337157\n"
     ]
    }
   ],
   "source": [
    "from tqdm import tqdm\n",
    "import torch.nn.functional as F\n",
    "import numpy as np\n",
    "\n",
    "ae = AutoEncoder(None).to(DEVICE)\n",
    "optim = torch.optim.Adam(ae.parameters())\n",
    "max_num_epochs = 100\n",
    "\n",
    "\n",
    "def validate_ae(model, dataloader):\n",
    "    all_losses = []\n",
    "    model.eval()\n",
    "    \n",
    "    with torch.no_grad():\n",
    "        #for x, _ in tqdm(dataloader, desc='Validating', total=len(dataloader)):\n",
    "        for x, _ in dataloader:\n",
    "            x = x.to(DEVICE)\n",
    "            #losses = F.binary_cross_entropy(model(x), x, reduction='none')\n",
    "            losses = F.mse_loss(model(x), x, reduction='none')\n",
    "            all_losses.extend(losses.cpu().tolist())\n",
    "            \n",
    "    return np.mean(all_losses)\n",
    "\n",
    "\n",
    "for epoch in range(1, max_num_epochs + 1):\n",
    "    for i, (x, _) in tqdm(enumerate(dl_train), desc='Training', total=len(dl_train)):\n",
    "    #for i, (x, _) in enumerate(dl_train):\n",
    "        ae.train()\n",
    "        x = x.to(DEVICE)\n",
    "        \n",
    "        #loss = F.binary_cross_entropy(ae(x), x)\n",
    "        loss = F.mse_loss(ae(x), x)\n",
    "        optim.zero_grad()\n",
    "        loss.backward()\n",
    "        optim.step()\n",
    "    \n",
    "    if epoch % 10 == 0:\n",
    "        print(f'[train] Epoch {epoch}. {validate_ae(ae, dl_train)}')\n",
    "        print(f'[val] Epoch {epoch}: {validate_ae(ae, dl_test)}')"
   ]
  },
  {
   "cell_type": "code",
   "execution_count": 32,
   "metadata": {},
   "outputs": [
    {
     "data": {
      "text/plain": [
       "<matplotlib.image.AxesImage at 0x7f9446613f60>"
      ]
     },
     "execution_count": 32,
     "metadata": {},
     "output_type": "execute_result"
    },
    {
     "data": {
      "image/png": "[encoded data removed]",
      "text/plain": [
       "<Figure size 1440x360 with 1 Axes>"
      ]
     },
     "metadata": {
      "needs_background": "light"
     },
     "output_type": "display_data"
    }
   ],
   "source": [
    "import random\n",
    "import matplotlib.pyplot as plt\n",
    "\n",
    "ae.eval()\n",
    "\n",
    "with torch.no_grad():\n",
    "    imgs = [ds_test[i][0] for i in random.sample(range(len(ds_test)), 10)]\n",
    "    recs = [ae(img.unsqueeze(0).to(DEVICE)).cpu().squeeze(0) for img in imgs]\n",
    "\n",
    "    imgs = [img.permute(1, 2, 0).numpy() for img in imgs]\n",
    "    recs = [rec.permute(1, 2, 0).numpy() for rec in recs]\n",
    "\n",
    "\n",
    "plt.figure(figsize=(20, 5))\n",
    "plt.imshow(np.stack(imgs, axis=1).reshape(32, -1, 3), interpolation='nearest')"
   ]
  },
  {
   "cell_type": "code",
   "execution_count": 33,
   "metadata": {},
   "outputs": [
    {
     "data": {
      "text/plain": [
       "<matplotlib.image.AxesImage at 0x7f965df5c5f8>"
      ]
     },
     "execution_count": 33,
     "metadata": {},
     "output_type": "execute_result"
    },
    {
     "data": {
      "image/png": "[encoded data removed]",
      "text/plain": [
       "<Figure size 1440x360 with 1 Axes>"
      ]
     },
     "metadata": {
      "needs_background": "light"
     },
     "output_type": "display_data"
    }
   ],
   "source": [
    "plt.figure(figsize=(20, 5))\n",
    "plt.imshow(np.stack(recs, axis=1).reshape(32, -1, 3), interpolation='nearest')"
   ]
  },
  {
   "cell_type": "code",
   "execution_count": 66,
   "metadata": {},
   "outputs": [],
   "source": [
    "def extract_features(ae, dataloader):\n",
    "    ae.eval()\n",
    "    \n",
    "    y = []\n",
    "    feats = []\n",
    "    \n",
    "    with torch.no_grad():\n",
    "        for batch in dataloader:\n",
    "            feats.extend(ae.encoder(batch[0].to(DEVICE)).cpu().flatten(1).tolist())\n",
    "            y.extend(batch[1])\n",
    "            \n",
    "    return feats, y\n",
    "\n",
    "feats_train, y_train = extract_features(ae, dl_train)\n",
    "feats_test, y_test = extract_features(ae, dl_test)"
   ]
  },
  {
   "cell_type": "code",
   "execution_count": 81,
   "metadata": {},
   "outputs": [],
   "source": [
    "feats_dl_train = DataLoader(list(zip(*[feats_train, y_train])), batch_size=256, shuffle=True, collate_fn=lambda b: list(zip(*b)))\n",
    "feats_dl_test = DataLoader(list(zip(*[feats_test, y_test])), batch_size=256, shuffle=False, collate_fn=lambda b: list(zip(*b)))"
   ]
  },
  {
   "cell_type": "code",
   "execution_count": 74,
   "metadata": {},
   "outputs": [],
   "source": [
    "ds = list(zip(*[feats_train, y_train]))"
   ]
  },
  {
   "cell_type": "code",
   "execution_count": 92,
   "metadata": {},
   "outputs": [
    {
     "name": "stdout",
     "output_type": "stream",
     "text": [
      "acc 0.5250000357627869\n",
      "acc 0.637499988079071\n",
      "acc 0.5625\n",
      "acc 0.637499988079071\n",
      "acc 0.6625000238418579\n",
      "acc 0.7125000357627869\n",
      "acc 0.612500011920929\n",
      "acc 0.800000011920929\n",
      "acc 0.6875\n",
      "acc 0.862500011920929\n",
      "acc 0.800000011920929\n",
      "acc 0.887499988079071\n",
      "acc 0.9000000357627869\n",
      "acc 0.9625000357627869\n"
     ]
    },
    {
     "ename": "KeyboardInterrupt",
     "evalue": "",
     "output_type": "error",
     "traceback": [
      "\u001b[0;31m---------------------------------------------------------------------------\u001b[0m",
      "\u001b[0;31mKeyboardInterrupt\u001b[0m                         Traceback (most recent call last)",
      "\u001b[0;32m<ipython-input-92-6e7ab3509d87>\u001b[0m in \u001b[0;36m<module>\u001b[0;34m\u001b[0m\n\u001b[1;32m     14\u001b[0m \u001b[0;32mfor\u001b[0m \u001b[0mepoch\u001b[0m \u001b[0;32min\u001b[0m \u001b[0mrange\u001b[0m\u001b[0;34m(\u001b[0m\u001b[0mmax_num_epochs\u001b[0m\u001b[0;34m)\u001b[0m\u001b[0;34m:\u001b[0m\u001b[0;34m\u001b[0m\u001b[0;34m\u001b[0m\u001b[0m\n\u001b[1;32m     15\u001b[0m     \u001b[0;32mfor\u001b[0m \u001b[0mbatch\u001b[0m \u001b[0;32min\u001b[0m \u001b[0mfeats_dl_train\u001b[0m\u001b[0;34m:\u001b[0m\u001b[0;34m\u001b[0m\u001b[0;34m\u001b[0m\u001b[0m\n\u001b[0;32m---> 16\u001b[0;31m         \u001b[0mx\u001b[0m \u001b[0;34m=\u001b[0m \u001b[0mtorch\u001b[0m\u001b[0;34m.\u001b[0m\u001b[0mtensor\u001b[0m\u001b[0;34m(\u001b[0m\u001b[0mbatch\u001b[0m\u001b[0;34m[\u001b[0m\u001b[0;36m0\u001b[0m\u001b[0;34m]\u001b[0m\u001b[0;34m)\u001b[0m\u001b[0;34m.\u001b[0m\u001b[0mto\u001b[0m\u001b[0;34m(\u001b[0m\u001b[0mDEVICE\u001b[0m\u001b[0;34m)\u001b[0m\u001b[0;34m\u001b[0m\u001b[0;34m\u001b[0m\u001b[0m\n\u001b[0m\u001b[1;32m     17\u001b[0m         \u001b[0my\u001b[0m \u001b[0;34m=\u001b[0m \u001b[0mtorch\u001b[0m\u001b[0;34m.\u001b[0m\u001b[0mtensor\u001b[0m\u001b[0;34m(\u001b[0m\u001b[0mbatch\u001b[0m\u001b[0;34m[\u001b[0m\u001b[0;36m1\u001b[0m\u001b[0;34m]\u001b[0m\u001b[0;34m)\u001b[0m\u001b[0;34m.\u001b[0m\u001b[0mto\u001b[0m\u001b[0;34m(\u001b[0m\u001b[0mDEVICE\u001b[0m\u001b[0;34m)\u001b[0m\u001b[0;34m\u001b[0m\u001b[0;34m\u001b[0m\u001b[0m\n\u001b[1;32m     18\u001b[0m \u001b[0;34m\u001b[0m\u001b[0m\n",
      "\u001b[0;31mKeyboardInterrupt\u001b[0m: "
     ]
    }
   ],
   "source": [
    "classifier = nn.Sequential(\n",
    "    nn.Linear(2048, 512),\n",
    "    nn.BatchNorm1d(512),\n",
    "    nn.ReLU(),\n",
    "    nn.Linear(512, 100),\n",
    "    nn.BatchNorm1d(100),\n",
    "    nn.ReLU(),\n",
    "    nn.Linear(100, 10)\n",
    ").to(DEVICE)\n",
    "\n",
    "max_num_epochs = 100\n",
    "optim = torch.optim.Adam(classifier.parameters(), lr=1e-2)\n",
    "\n",
    "for epoch in range(max_num_epochs):\n",
    "    for batch in feats_dl_train:\n",
    "        x = torch.tensor(batch[0]).to(DEVICE)\n",
    "        y = torch.tensor(batch[1]).to(DEVICE)\n",
    "        \n",
    "        logits = classifier(x)\n",
    "        loss = F.cross_entropy(logits, y)\n",
    "        acc = (logits.argmax(dim=1) == y).float().mean().detach().cpu()\n",
    "        \n",
    "        optim.zero_grad()\n",
    "        loss.backward()\n",
    "        optim.step()\n",
    "        \n",
    "    print('acc', acc.item())"
   ]
  },
  {
   "cell_type": "code",
   "execution_count": 93,
   "metadata": {},
   "outputs": [],
   "source": [
    "def validate_clf(clf_model, dataloader):\n",
    "    losses = []\n",
    "    accs = []\n",
    "\n",
    "    with torch.no_grad():\n",
    "        for x, y in dataloader:\n",
    "            x = torch.tensor(x).to(DEVICE)\n",
    "            y = torch.tensor(y).to(DEVICE)\n",
    "\n",
    "            logits = clf_model(x)\n",
    "            loss = F.cross_entropy(logits, y, reduction='none').cpu().tolist()\n",
    "            acc = (logits.argmax(dim=1) == y).float().cpu().tolist()\n",
    "            \n",
    "            losses.extend(loss)\n",
    "            accs.extend(acc)\n",
    "        \n",
    "    return np.mean(losses), np.mean(accs)"
   ]
  },
  {
   "cell_type": "code",
   "execution_count": 94,
   "metadata": {},
   "outputs": [
    {
     "data": {
      "text/plain": [
       "(2.4282884196713566, 0.563)"
      ]
     },
     "execution_count": 94,
     "metadata": {},
     "output_type": "execute_result"
    }
   ],
   "source": [
    "validate_clf(classifier, feats_dl_test)"
   ]
  }
 ],
 "metadata": {
  "kernelspec": {
   "display_name": "Python 3",
   "language": "python",
   "name": "python3"
  },
  "language_info": {
   "codemirror_mode": {
    "name": "ipython",
    "version": 3
   },
   "file_extension": ".py",
   "mimetype": "text/x-python",
   "name": "python",
   "nbconvert_exporter": "python",
   "pygments_lexer": "ipython3",
   "version": "3.7.3"
  }
 },
 "nbformat": 4,
 "nbformat_minor": 4
}

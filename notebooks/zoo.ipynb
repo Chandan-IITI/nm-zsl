{
 "cells": [
  {
   "cell_type": "code",
   "execution_count": 2,
   "metadata": {},
   "outputs": [],
   "source": [
    "import sys; sys.path.append('..')\n",
    "import torch\n",
    "import numpy as np\n",
    "from firelab.config import Config\n",
    "from src.models.lat_gm import LatGM\n",
    "# from src.dataloaders.load_data import load_data\n",
    "from src.dataloaders.cub import CUB\n",
    "\n",
    "# config = Config.load('../configs/lat_gm.yml')\n",
    "# config.all.hp.model.set('pretrained', True)\n",
    "# config.all.hp.model.set('num_classes', 200)\n",
    "# config = Config.load('../configs/base.yml')\n",
    "# ds_train, ds_test, attrs = load_data(Config({\n",
    "#  'num_reserved_classes': 0,\n",
    "#  'num_classes': 200,\n",
    "#  'num_classes_per_task': 20,\n",
    "#  'dir': '../data/CUB_200_2011',\n",
    "#  'num_tasks': 10,\n",
    "#  'name': 'CUB'}), embed_data=True)"
   ]
  },
  {
   "cell_type": "code",
   "execution_count": 3,
   "metadata": {},
   "outputs": [
    {
     "name": "stderr",
     "output_type": "stream",
     "text": [
      "[Loading dataset]: 100%|██████████| 5994/5994 [00:58<00:00, 101.63it/s]\n",
      "[Loading dataset]: 100%|██████████| 5794/5794 [01:00<00:00, 96.50it/s] \n"
     ]
    }
   ],
   "source": [
    "import torchvision.transforms as T\n",
    "from src.dataloaders.cub import CUB\n",
    "\n",
    "transform = T.Compose([\n",
    "    T.ToPILImage(),\n",
    "    T.CenterCrop([448, 448]),\n",
    "    T.ToTensor(),\n",
    "    T.Normalize(mean=(0.485, 0.456, 0.406), std=(0.229, 0.224, 0.225))\n",
    "])\n",
    "\n",
    "ds_train = CUB('../data/CUB_200_2011', train=True, transform=transform)\n",
    "ds_test = CUB('../data/CUB_200_2011', train=False, transform=transform)\n",
    "\n",
    "# self.train_dataloader = DataLoader(ds_train, batch_size=self.config.hp.batch_size, shuffle=True)\n",
    "# self.val_dataloader = DataLoader(ds_test, batch_size=128, shuffle=False)"
   ]
  },
  {
   "cell_type": "code",
   "execution_count": 4,
   "metadata": {},
   "outputs": [
    {
     "name": "stderr",
     "output_type": "stream",
     "text": [
      "[Extracting features]: 100%|██████████| 94/94 [00:30<00:00,  3.04it/s]\n",
      "[Extracting features]: 100%|██████████| 91/91 [00:16<00:00,  5.48it/s]\n"
     ]
    }
   ],
   "source": [
    "from src.dataloaders.utils import extract_resnet18_features_for_dataset\n",
    "\n",
    "ds_train_feats = extract_resnet18_features_for_dataset(ds_train, device='cuda')\n",
    "ds_test_feats = extract_resnet18_features_for_dataset(ds_test, device='cuda')"
   ]
  },
  {
   "cell_type": "code",
   "execution_count": 6,
   "metadata": {},
   "outputs": [],
   "source": [
    "np.save('../data/CUB_EMBEDDED/train', ds_train_feats, allow_pickle=True)\n",
    "np.save('../data/CUB_EMBEDDED/test', ds_test_feats, allow_pickle=True)"
   ]
  }
 ],
 "metadata": {
  "kernelspec": {
   "display_name": "Python 3",
   "language": "python",
   "name": "python3"
  },
  "language_info": {
   "codemirror_mode": {
    "name": "ipython",
    "version": 3
   },
   "file_extension": ".py",
   "mimetype": "text/x-python",
   "name": "python",
   "nbconvert_exporter": "python",
   "pygments_lexer": "ipython3",
   "version": "3.7.3"
  }
 },
 "nbformat": 4,
 "nbformat_minor": 4
}

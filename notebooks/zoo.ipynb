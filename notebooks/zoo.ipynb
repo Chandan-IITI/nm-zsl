{
 "cells": [
  {
   "cell_type": "code",
   "execution_count": 1,
   "metadata": {},
   "outputs": [],
   "source": [
    "import sys; sys.path.append('..')\n",
    "import torch\n",
    "from torchsummary import summary\n",
    "\n",
    "DEVICE = 'cuda'"
   ]
  },
  {
   "cell_type": "code",
   "execution_count": 2,
   "metadata": {},
   "outputs": [],
   "source": [
    "from torchvision.datasets import CIFAR10, CIFAR100\n",
    "from torchvision.transforms import ToTensor\n",
    "\n",
    "ds_train = CIFAR100('../data/CIFAR100', train=True, transform=ToTensor())\n",
    "ds_test = CIFAR100('../data/CIFAR100', train=False, transform=ToTensor())"
   ]
  },
  {
   "cell_type": "code",
   "execution_count": 3,
   "metadata": {},
   "outputs": [],
   "source": [
    "from torch.utils.data import DataLoader\n",
    "from torch.utils.data import Subset\n",
    "\n",
    "# ds_train = Subset(ds_train, range(100))\n",
    "# ds_test = Subset(ds_test, range(100))\n",
    "\n",
    "NUM_CLASSES = 100\n",
    "\n",
    "dl_train = DataLoader(ds_train, batch_size=256, shuffle=True)\n",
    "dl_test = DataLoader(ds_test, batch_size=256, shuffle=False)"
   ]
  },
  {
   "cell_type": "code",
   "execution_count": 4,
   "metadata": {},
   "outputs": [],
   "source": [
    "import torch\n",
    "import torch.nn as nn\n",
    "from torch import Tensor\n",
    "from firelab.config import Config\n",
    "\n",
    "from src.models.layers import ConvBNReLU, ConvTransposeBNReLU, Reshape\n",
    "\n",
    "\n",
    "class AutoEncoder(nn.Module):\n",
    "    def __init__(self, config: Config):\n",
    "        super(AutoEncoder, self).__init__()\n",
    "\n",
    "        self.encoder = Encoder(config)\n",
    "        self.decoder = Decoder(config)\n",
    "\n",
    "    def forward(self, x: Tensor) -> Tensor:\n",
    "        return self.decoder(self.encoder(x))\n",
    "\n",
    "\n",
    "class Encoder(nn.Module):\n",
    "    def __init__(self, config: Config):\n",
    "        super(Encoder, self).__init__()\n",
    "\n",
    "        self.model = nn.Sequential(\n",
    "            nn.Conv2d(3, 16, 4, stride=2, padding=1),\n",
    "            nn.ReLU(),\n",
    "            nn.Conv2d(16, 64, 4, stride=2, padding=1),\n",
    "            nn.ReLU(),\n",
    "            nn.Conv2d(64, 256, 4, stride=2, padding=1),\n",
    "            nn.ReLU(),\n",
    "            nn.Conv2d(256, 512, 3, stride=2),\n",
    "            nn.ReLU(),\n",
    "        )\n",
    "\n",
    "    def forward(self, x: Tensor) -> Tensor:\n",
    "        return self.model(x)\n",
    "    \n",
    "\n",
    "class Decoder(nn.Module):\n",
    "    def __init__(self, config: Config):\n",
    "        super(Decoder, self).__init__()\n",
    "\n",
    "        self.model = nn.Sequential(\n",
    "            nn.ConvTranspose2d(512, 256, 4, stride=2),  # [batch, 24, 8, 8]\n",
    "            nn.ReLU(),\n",
    "            nn.ConvTranspose2d(256, 128, 4, stride=2, padding=1),  # [batch, 24, 8, 8]\n",
    "            nn.ReLU(),\n",
    "            nn.ConvTranspose2d(128, 64, 4, stride=2, padding=1),  # [batch, 12, 16, 16]\n",
    "            nn.ReLU(),\n",
    "            nn.ConvTranspose2d(64, 3, 4, stride=2, padding=1),   # [batch, 3, 32, 32]\n",
    "            nn.Sigmoid(),\n",
    "        )\n",
    "\n",
    "    def forward(self, x: Tensor) -> Tensor:\n",
    "        return self.model(x)\n",
    "\n",
    "\n",
    "class ShapePrinter(nn.Module):\n",
    "    def __init__(self, title: str='unknown'):\n",
    "        super(ShapePrinter, self).__init__()\n",
    "        self.title = title\n",
    "\n",
    "    def forward(self, x):\n",
    "        print(self.title, x.shape, x.flatten(1).shape)\n",
    "        return x"
   ]
  },
  {
   "cell_type": "code",
   "execution_count": 5,
   "metadata": {},
   "outputs": [],
   "source": [
    "# ae = AutoEncoder(None).to('cuda')\n",
    "# summary(ae, (3, 32, 32))"
   ]
  },
  {
   "cell_type": "code",
   "execution_count": null,
   "metadata": {},
   "outputs": [
    {
     "name": "stderr",
     "output_type": "stream",
     "text": [
      "  2%|▏         | 21/1000 [03:38<2:48:31, 10.33s/it]"
     ]
    }
   ],
   "source": [
    "from tqdm import tqdm\n",
    "import torch.nn.functional as F\n",
    "import numpy as np\n",
    "\n",
    "ae = AutoEncoder(None).to(DEVICE)\n",
    "optim = torch.optim.Adam(ae.parameters())\n",
    "max_num_epochs = 1000\n",
    "\n",
    "\n",
    "def validate_ae(model, dataloader):\n",
    "    all_losses = []\n",
    "    model.eval()\n",
    "    \n",
    "    with torch.no_grad():\n",
    "        #for x, _ in tqdm(dataloader, desc='Validating', total=len(dataloader)):\n",
    "        for x, _ in dataloader:\n",
    "            x = x.to(DEVICE)\n",
    "            #losses = F.binary_cross_entropy(model(x), x, reduction='none')\n",
    "            losses = F.mse_loss(model(x), x, reduction='none')\n",
    "            all_losses.extend(losses.cpu().tolist())\n",
    "            \n",
    "    return np.mean(all_losses)\n",
    "\n",
    "\n",
    "for epoch in tqdm(range(1, max_num_epochs + 1)):\n",
    "    #for i, (x, _) in tqdm(enumerate(dl_train), desc='Training', total=len(dl_train)):\n",
    "    for i, (x, _) in enumerate(dl_train):\n",
    "        ae.train()\n",
    "        x = x.to(DEVICE)\n",
    "        \n",
    "        #loss = F.binary_cross_entropy(ae(x), x)\n",
    "        loss = F.mse_loss(ae(x), x)\n",
    "        optim.zero_grad()\n",
    "        loss.backward()\n",
    "        optim.step()\n",
    "    \n",
    "    if epoch % 100 == 0:\n",
    "        print(f'[train] Epoch {epoch}. {validate_ae(ae, dl_train)}')\n",
    "        print(f'[val] Epoch {epoch}: {validate_ae(ae, dl_test)}')"
   ]
  },
  {
   "cell_type": "code",
   "execution_count": null,
   "metadata": {},
   "outputs": [],
   "source": [
    "import random\n",
    "import matplotlib.pyplot as plt\n",
    "\n",
    "ae.eval()\n",
    "\n",
    "with torch.no_grad():\n",
    "    imgs = torch.tensor([ds_test[i][0].tolist() for i in random.sample(range(len(ds_test)), 10)])\n",
    "    recs = ae(imgs.to(DEVICE)).cpu()\n",
    "\n",
    "    imgs = imgs.permute(0, 2, 3, 1).numpy()\n",
    "    recs = recs.permute(0, 2, 3, 1).numpy()"
   ]
  },
  {
   "cell_type": "code",
   "execution_count": null,
   "metadata": {},
   "outputs": [],
   "source": [
    "plt.figure(figsize=(20, 5))\n",
    "plt.subplot(211)\n",
    "plt.title('[val] Ground Truth')\n",
    "plt.imshow(np.stack(imgs, axis=1).reshape(32, -1, 3), interpolation='nearest')\n",
    "\n",
    "plt.subplot(212)\n",
    "plt.title('[val] Reconstructions')\n",
    "plt.imshow(np.stack(recs, axis=1).reshape(32, -1, 3), interpolation='nearest')"
   ]
  },
  {
   "cell_type": "code",
   "execution_count": null,
   "metadata": {},
   "outputs": [],
   "source": [
    "def extract_features(ae, dataloader):\n",
    "    ae.eval()\n",
    "    \n",
    "    y = []\n",
    "    feats = []\n",
    "    \n",
    "    with torch.no_grad():\n",
    "        for batch in dataloader:\n",
    "            feats.extend(ae.encoder(batch[0].to(DEVICE)).cpu().flatten(1).tolist())\n",
    "            y.extend(batch[1])\n",
    "            \n",
    "    return feats, y\n",
    "\n",
    "feats_train, y_train = extract_features(ae, dl_train)\n",
    "feats_test, y_test = extract_features(ae, dl_test)"
   ]
  },
  {
   "cell_type": "code",
   "execution_count": null,
   "metadata": {},
   "outputs": [],
   "source": [
    "feats_dl_train = DataLoader(list(zip(*[feats_train, y_train])), batch_size=256, shuffle=True, collate_fn=lambda b: list(zip(*b)))\n",
    "feats_dl_test = DataLoader(list(zip(*[feats_test, y_test])), batch_size=256, shuffle=False, collate_fn=lambda b: list(zip(*b)))"
   ]
  },
  {
   "cell_type": "code",
   "execution_count": null,
   "metadata": {},
   "outputs": [],
   "source": [
    "ds = list(zip(*[feats_train, y_train]))"
   ]
  },
  {
   "cell_type": "code",
   "execution_count": null,
   "metadata": {},
   "outputs": [],
   "source": [
    "def validate_clf(clf_model, dataloader):\n",
    "    losses = []\n",
    "    accs = []\n",
    "\n",
    "    with torch.no_grad():\n",
    "        for x, y in dataloader:\n",
    "            x = torch.tensor(x).to(DEVICE)\n",
    "            y = torch.tensor(y).to(DEVICE)\n",
    "\n",
    "            logits = clf_model(x)\n",
    "            loss = F.cross_entropy(logits, y, reduction='none').cpu().tolist()\n",
    "            acc = (logits.argmax(dim=1) == y).float().cpu().tolist()\n",
    "            \n",
    "            losses.extend(loss)\n",
    "            accs.extend(acc)\n",
    "        \n",
    "    return np.mean(losses), np.mean(accs)"
   ]
  },
  {
   "cell_type": "code",
   "execution_count": null,
   "metadata": {},
   "outputs": [],
   "source": [
    "classifier = nn.Sequential(\n",
    "    #nn.Dropout(0.1),\n",
    "    #nn.Linear(2048, 256),\n",
    "    #nn.BatchNorm1d(256),\n",
    "    #nn.ReLU(),\n",
    "    #nn.Dropout(0.1),\n",
    "    #nn.Linear(256, 100)\n",
    "    nn.Linear(2048, 100)\n",
    ").to(DEVICE)\n",
    "\n",
    "max_num_epochs = 100\n",
    "optim = torch.optim.Adam(classifier.parameters(), lr=1e-2)\n",
    "\n",
    "for epoch in range(max_num_epochs):\n",
    "    for batch in feats_dl_train:\n",
    "        x = torch.tensor(batch[0]).to(DEVICE)\n",
    "        y = torch.tensor(batch[1]).to(DEVICE)\n",
    "\n",
    "        logits = classifier(x)\n",
    "        loss = F.cross_entropy(logits, y)\n",
    "        acc = (logits.argmax(dim=1) == y).float().mean().detach().cpu()\n",
    "\n",
    "        optim.zero_grad()\n",
    "        loss.backward()\n",
    "        optim.step()\n",
    "\n",
    "    #print('acc', acc.item())\n",
    "    if epoch % 5 == 0:\n",
    "        print('train acc:', validate_clf(classifier, feats_dl_train)[1])\n",
    "        print('val acc:', validate_clf(classifier, feats_dl_test)[1])"
   ]
  }
 ],
 "metadata": {
  "kernelspec": {
   "display_name": "Python 3",
   "language": "python",
   "name": "python3"
  },
  "language_info": {
   "codemirror_mode": {
    "name": "ipython",
    "version": 3
   },
   "file_extension": ".py",
   "mimetype": "text/x-python",
   "name": "python",
   "nbconvert_exporter": "python",
   "pygments_lexer": "ipython3",
   "version": "3.7.3"
  }
 },
 "nbformat": 4,
 "nbformat_minor": 4
}

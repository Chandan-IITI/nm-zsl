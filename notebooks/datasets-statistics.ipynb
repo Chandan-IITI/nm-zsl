{
 "cells": [
  {
   "cell_type": "code",
   "execution_count": null,
   "metadata": {},
   "outputs": [],
   "source": [
    "import numpy as np\n",
    "dataset = 'SUN'\n",
    "data_dir = '/ibex/scratch/skoroki/'\n",
    "\n",
    "feats = np.load(f'{data_dir}/feats.npy').astype(np.float32)\n",
    "# feats = (feats - feats.mean(axis=0, keepdims=True)) / feats.std(axis=0, keepdims=True)\n",
    "labels = np.load(f'{data_dir}/labels.npy').astype(int)\n",
    "attrs = np.load(f'{data_dir}/attrs.npy').astype(np.float32)\n",
    "train_idx = np.load(f'{data_dir}/train_idx.npy')\n",
    "test_idx = np.load(f'{data_dir}/test_idx.npy')\n",
    "\n",
    "attrs = torch.from_numpy(attrs).to(device_name)\n",
    "attrs_seen = attrs[seen_mask]\n",
    "test_labels = np.array([labels[i] for i in test_idx])\n",
    "test_seen_idx = [i for i, y in enumerate(test_labels) if y in config.data.seen_classes]\n",
    "test_unseen_idx = [i for i, y in enumerate(test_labels) if y in config.data.unseen_classes]"
   ]
  }
 ],
 "metadata": {
  "kernelspec": {
   "display_name": "Python 3",
   "language": "python",
   "name": "python3"
  },
  "language_info": {
   "codemirror_mode": {
    "name": "ipython",
    "version": 3
   },
   "file_extension": ".py",
   "mimetype": "text/x-python",
   "name": "python",
   "nbconvert_exporter": "python",
   "pygments_lexer": "ipython3",
   "version": "3.7.3"
  }
 },
 "nbformat": 4,
 "nbformat_minor": 4
}
